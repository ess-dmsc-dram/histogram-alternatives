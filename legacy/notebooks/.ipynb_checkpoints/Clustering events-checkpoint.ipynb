{
 "cells": [
  {
   "cell_type": "markdown",
   "metadata": {
    "toc": true
   },
   "source": [
    "<h1>Table of Contents<span class=\"tocSkip\"></span></h1>\n",
    "<div class=\"toc\"><ul class=\"toc-item\"><li><span><a href=\"#TODO\" data-toc-modified-id=\"TODO-1\"><span class=\"toc-item-num\">1&nbsp;&nbsp;</span>TODO</a></span></li><li><span><a href=\"#Event-mode-data-acquisition\" data-toc-modified-id=\"Event-mode-data-acquisition-2\"><span class=\"toc-item-num\">2&nbsp;&nbsp;</span>Event mode data acquisition</a></span></li><li><span><a href=\"#Generating-some-test-data\" data-toc-modified-id=\"Generating-some-test-data-3\"><span class=\"toc-item-num\">3&nbsp;&nbsp;</span>Generating some test data</a></span><ul class=\"toc-item\"><li><span><a href=\"#Testing-it-out\" data-toc-modified-id=\"Testing-it-out-3.1\"><span class=\"toc-item-num\">3.1&nbsp;&nbsp;</span>Testing it out</a></span><ul class=\"toc-item\"><li><span><a href=\"#1D\" data-toc-modified-id=\"1D-3.1.1\"><span class=\"toc-item-num\">3.1.1&nbsp;&nbsp;</span>1D</a></span></li></ul></li><li><span><a href=\"#Deviation\" data-toc-modified-id=\"Deviation-3.2\"><span class=\"toc-item-num\">3.2&nbsp;&nbsp;</span>Deviation</a></span></li></ul></li><li><span><a href=\"#Bayesian\" data-toc-modified-id=\"Bayesian-4\"><span class=\"toc-item-num\">4&nbsp;&nbsp;</span>Bayesian</a></span><ul class=\"toc-item\"><li><span><a href=\"#2D\" data-toc-modified-id=\"2D-4.1\"><span class=\"toc-item-num\">4.1&nbsp;&nbsp;</span>2D</a></span></li><li><span><a href=\"#3D\" data-toc-modified-id=\"3D-4.2\"><span class=\"toc-item-num\">4.2&nbsp;&nbsp;</span>3D</a></span></li></ul></li><li><span><a href=\"#Fitting-Gaussian-Mixture-Models-with-Expectation-Maximization\" data-toc-modified-id=\"Fitting-Gaussian-Mixture-Models-with-Expectation-Maximization-5\"><span class=\"toc-item-num\">5&nbsp;&nbsp;</span>Fitting Gaussian Mixture Models with Expectation-Maximization</a></span><ul class=\"toc-item\"><li><span><a href=\"#Specific-Instrument\" data-toc-modified-id=\"Specific-Instrument-5.1\"><span class=\"toc-item-num\">5.1&nbsp;&nbsp;</span>Specific Instrument</a></span></li></ul></li><li><span><a href=\"#Litterature-review\" data-toc-modified-id=\"Litterature-review-6\"><span class=\"toc-item-num\">6&nbsp;&nbsp;</span>Litterature review</a></span></li><li><span><a href=\"#Peak-integration\" data-toc-modified-id=\"Peak-integration-7\"><span class=\"toc-item-num\">7&nbsp;&nbsp;</span>Peak integration</a></span></li><li><span><a href=\"#Kernel-density-estimation\" data-toc-modified-id=\"Kernel-density-estimation-8\"><span class=\"toc-item-num\">8&nbsp;&nbsp;</span>Kernel density estimation</a></span></li><li><span><a href=\"#Clustering-events\" data-toc-modified-id=\"Clustering-events-9\"><span class=\"toc-item-num\">9&nbsp;&nbsp;</span>Clustering events</a></span></li></ul></div>"
   ]
  },
  {
   "cell_type": "markdown",
   "metadata": {},
   "source": [
    "# Data analysis for event mode data acquisition revisited\n",
    "\n",
    "## TODO\n",
    "1. Litterature review\n",
    "2. Background radiation / incoherent scattering\n",
    "3. Specific instruments\n",
    "\n",
    "## Event mode data acquisition\n",
    "ESS will run event mode  data aquisition for all diffractometers and spectrometers and perhaps even for the imaging instrument ODIN. Several neutron sources these days either run event mode or provide the options to do so as opposed to the more traditional histogram mode inherent to older neutron detector systems. Thus, rather than detecting a histogram for intensity, $I_{\\mathrm{hist}}(\\boldsymbol q, \\epsilon)$, as a function of scattering vector, $\\boldsymbol q$, and energy change, $\\epsilon$, each neutron hitting a detector is in event mode recorded with a time stamp with an indication of where on the detector that the neutron was detected (i.e. in which detector pixel). Thus, rather than an histogram, a time series is acquired; $(t_0, p_0), (t_1, p_1), (t_2, p_2), \\ldots, (t_i, p_i), \\ldots$, where $t$ indicates time and $p$ indicates the pixel id for the pixel in the detector where the neutron was detected. Based on the specific instrument, detector geometry, and at spallation sources, also the pulse shape, the times and pixel ids can be converted to a scattering vector $\\boldsymbol q$ and an energy change $\\epsilon$ . Thus, we get a series of events $\n",
    "(\\boldsymbol q_0, \\epsilon_0 ), \n",
    "(\\boldsymbol q_1, \\epsilon_1), \n",
    "(\\boldsymbol q_2, \\epsilon_2), \n",
    "\\ldots, \n",
    "(\\boldsymbol q_i, \\epsilon_i), \n",
    "\\ldots\n",
    "$. Each of these events has a uncertaintity associated with them due to the limited resolution of the time measurements and the non-zero size of the detector pixels.\n",
    "\n",
    "Due to tradition the events are binned resulting in a histogram $I_{\\mathrm{hist}}(\\boldsymbol q,\\epsilon)$ with uncertainties handled by a corresponding resolution function $r(\\boldsymbol q,\\epsilon)$ defined by \n",
    "$$\n",
    "I(\\boldsymbol q,\\epsilon) = \\left(S * r\\right)(\\boldsymbol q,\\epsilon) = N\\int S(\\boldsymbol q',\\epsilon')\\,r(\\boldsymbol q - \\boldsymbol q',\\epsilon -\\epsilon')\\,\\mathrm{d}\\boldsymbol q'\\mathrm{d}\\epsilon'\n",
    "$$\n",
    "where $S$ is the differential scattering cross section, $N$ is a normalization factor, and $I$ is the continuous intensity.\n",
    "\n",
    "One of the most common ways to analysis data are my calculating the scattering cross section $S(\\boldsymbol q, \\epsilon)$ from a model fold it with the resolution to obtain a theoretical intensity which then can be compared with measured intensity. Often the model will depend parametrically on some parameters, which then can be optimized by fitting to theoretical intensity to the measured intensity.\n",
    "\n",
    "Here we report on methods for data reduction and analysis that better exploits the information associated with the events. There seems to be two straight forward ways to exploit the events without creating histograms;\n",
    "1. **Kernel density information** is a method for generating probability densities, in this case the intensities, which is known to exhibit lower variation than histograms.\n",
    "\n",
    "2. **Clustering** is a terminology used for algorithms that cluster data that seems the logical choice for event data that inheriently are clustered, such as data from Laue and powder diffraction that form peaks that can be linked to specific structural features. "
   ]
  },
  {
   "cell_type": "markdown",
   "metadata": {},
   "source": [
    "## Generating some test data\n",
    "Here we generate some test data by overlapping gaussian (normal) multivariate distributions"
   ]
  },
  {
   "cell_type": "code",
   "execution_count": 4,
   "metadata": {},
   "outputs": [],
   "source": [
    "from scipy.stats import multivariate_normal, norm\n",
    "import numpy\n",
    "import random\n",
    "import matplotlib.pyplot as plt\n",
    "from sklearn import mixture\n",
    "%matplotlib inline\n",
    "\n",
    "import matplotlib.mlab as mlab\n",
    "def plot_contours(data, means, covs, title=''):\n",
    "    \"\"\"Plots a data set together with the contours of Gaussians in 2D given by their means and covariance matrices\n",
    "    \n",
    "    \"\"\"\n",
    "    plt.figure()\n",
    "    plt.plot([x[0] for x in data], [y[1] for y in data],'ko') # data\n",
    "\n",
    "    delta = 0.025\n",
    "    k = len(means)\n",
    "    x = np.arange(-2.0, 7.0, delta)\n",
    "    y = np.arange(-2.0, 7.0, delta)\n",
    "    X, Y = np.meshgrid(x, y)\n",
    "    col = ['green', 'red', 'indigo']\n",
    "    for i in range(k):\n",
    "        mean = means[i]\n",
    "        cov = covs[i]\n",
    "        sigmax = np.sqrt(cov[0][0])\n",
    "        sigmay = np.sqrt(cov[1][1])\n",
    "        sigmaxy = cov[0][1]/(sigmax*sigmay)\n",
    "        Z = mlab.bivariate_normal(X, Y, sigmax, sigmay, mean[0], mean[1], sigmaxy)\n",
    "        plt.contour(X, Y, Z, colors = col[i])\n",
    "        plt.title(title)\n",
    "    plt.rcParams.update({'font.size':16})\n",
    "    plt.tight_layout()\n",
    "\n",
    "class Peaks(object):\n",
    "    \"\"\"\n",
    "    Class used to generate peaks from a list of multi_variate normal (Gaussian) functions\n",
    "    \n",
    "    \"\"\"\n",
    "    \n",
    "    def __init__(self, means, covariances, weights=None, allow_singular=False, seeds=None):\n",
    "        if seeds == None:\n",
    "            seeds = range(1,len(means)+1)\n",
    "        self.covariances = numpy.asarray(covariances)\n",
    "        self.means = numpy.asarray(means)\n",
    "        if self.covariances.ndim == 1 or self.covariances.shape[0] == 1:\n",
    "            self.ndimensions = 1\n",
    "            self.npeaks = len(self.covariances)\n",
    "        else:\n",
    "            self.ndimensions = self.covariances.shape[-1]\n",
    "            self.npeaks = self.covariances.shape[0]\n",
    "        self.ndimensions = self.means.ndim\n",
    "        if weights == None:\n",
    "            self.weights = (1./len(self.covariances))*numpy.ones(len(self.covariances))\n",
    "        args_list = zip(self.means, self.covariances, len(self.means)*[allow_singular], seeds)\n",
    "        self.gaussians = [multivariate_normal(*args) for args in args_list]\n",
    "    \n",
    "    def sum_over_peaks(self, x, gaussian_method_name):\n",
    "        values = numpy.array([getattr(gaussian, gaussian_method_name)(x) \n",
    "                             for gaussian in self.gaussians])\n",
    "        return numpy.dot(self.weights, values)\n",
    "        \n",
    "    def pdf(self, x):\n",
    "        return self.sum_over_peaks(x, 'pdf')\n",
    "        \n",
    "    def logpdf(self, x):\n",
    "        return self.sum_over_peaks(x, 'logpdf')\n",
    "    \n",
    "    def cdf(self, x):\n",
    "        return self.sum_over_peaks(x, 'cdf')\n",
    "        \n",
    "    def logcdf(self, x):\n",
    "        return self.sum_over_peaks(x, 'logcdf')\n",
    " \n",
    "    def rvs(self, size, option=1):\n",
    "        # select which peak to draw from in which order\n",
    "        self.peak_selections = random.choices(self.gaussians, self.weights, k=size)\n",
    "        # Two options\n",
    "        if option == 1:\n",
    "            values = [gaussian.rvs() for gaussian in self.peak_selections]\n",
    "            return numpy.array(values)\n",
    "        elif option == 2:\n",
    "            counts = [peak_selections.count(gaussian) for gaussian in self.gaussians]\n",
    "            samples = [gaussian.rvs(count) for gaussian, count in zip(self.gaussians, counts)]\n",
    "            sample = numpy.random.shuffle(numpy.concatenate(samples))\n",
    "            return samples\n",
    "        else:\n",
    "            raise NotImplementedError\n",
    "            \n",
    "    def get_plot(self, axes=None, npoints=1000, contour=True):\n",
    "        if axes == None:\n",
    "            fig = plt.figure()\n",
    "        if self.ndimensions == 1:\n",
    "            ax = fig.subplots(1, 1)\n",
    "            x = numpy.linspace(min(self.means)-1., max(self.means)+1, npoints)\n",
    "            pdf = self.pdf(x)\n",
    "            ax.plot(x, pdf)\n",
    "            return ax\n",
    "        elif self.ndimensions == 2:\n",
    "            ax1, ax2 = fig.subplots(1, 2)\n",
    "            x = numpy.linspace(min(self.means[:,0])-1., max(self.means[:,0])+1, npoints)\n",
    "            y = numpy.linspace(min(self.means[:,1])-1., max(self.means[:,1])+1, npoints)\n",
    "            xx, yy = numpy.meshgrid(x, y)\n",
    "            xy = numpy.stack([xx.flat,yy.flat], axis=1)\n",
    "            pdf = self.pdf(xy)\n",
    "            pdf.shape = xx.shape\n",
    "            ax1.contour(xx, yy, pdf)\n",
    "            ax2.imshow(pdf, origin='lower', interpolation='none')\n",
    "            return ax1, ax2\n",
    "        else:\n",
    "            raise NotImplementedError"
   ]
  },
  {
   "cell_type": "markdown",
   "metadata": {},
   "source": [
    "### Testing it out\n",
    "\n",
    "#### 1D"
   ]
  },
  {
   "cell_type": "code",
   "execution_count": 5,
   "metadata": {},
   "outputs": [],
   "source": [
    "means1d = [sum([0.0 + 1./i for i in range(1,j)]) for j in range(1,6)]\n",
    "covs1d = 0.1*numpy.ones(len(means1d))\n",
    "\n",
    "peaks1d = Peaks(means1d, covs1d)\n",
    "sample1d = peaks1d.rvs(100000)\n",
    "sample1d.shape = (-1,1)"
   ]
  },
  {
   "cell_type": "code",
   "execution_count": 6,
   "metadata": {},
   "outputs": [
    {
     "data": {
      "image/png": "[encoded data removed]",
      "text/plain": [
       "<Figure size 432x288 with 1 Axes>"
      ]
     },
     "metadata": {
      "needs_background": "light"
     },
     "output_type": "display_data"
    }
   ],
   "source": [
    "ax1=peaks1d.get_plot()"
   ]
  },
  {
   "cell_type": "code",
   "execution_count": 7,
   "metadata": {},
   "outputs": [
    {
     "data": {
      "text/plain": [
       "GaussianMixture(covariance_type='spherical', max_iter=10000, n_components=5,\n",
       "                tol=1e-06)"
      ]
     },
     "execution_count": 7,
     "metadata": {},
     "output_type": "execute_result"
    }
   ],
   "source": [
    "gmm1 = mixture.GaussianMixture(n_components=5, covariance_type='spherical', \n",
    "                               tol=1.e-6, max_iter=10000, warm_start=False)\n",
    "gmm1.fit(sample1d)"
   ]
  },
  {
   "cell_type": "code",
   "execution_count": 8,
   "metadata": {},
   "outputs": [
    {
     "data": {
      "text/plain": [
       "[<matplotlib.lines.Line2D at 0x196323880>,\n",
       " <matplotlib.lines.Line2D at 0x1963238b0>]"
      ]
     },
     "execution_count": 8,
     "metadata": {},
     "output_type": "execute_result"
    },
    {
     "data": {
      "image/png": "[encoded data removed]",
      "text/plain": [
       "<Figure size 432x288 with 1 Axes>"
      ]
     },
     "metadata": {
      "needs_background": "light"
     },
     "output_type": "display_data"
    }
   ],
   "source": [
    "xgrid1d = numpy.linspace(-1,4,1000)\n",
    "xgrid1d.shape = (-1,1)\n",
    "target = peaks1d.pdf(xgrid1d)\n",
    "pred = numpy.exp(gmm1.score_samples(xgrid1d))\n",
    "plt.plot(xgrid1d, target, xgrid1d, pred)"
   ]
  },
  {
   "cell_type": "markdown",
   "metadata": {},
   "source": [
    "### Deviation"
   ]
  },
  {
   "cell_type": "code",
   "execution_count": 9,
   "metadata": {},
   "outputs": [],
   "source": [
    "class Deviation:\n",
    "    \n",
    "    def __init__(self, xgrid, target_distribution):\n",
    "        self.xgrid = xgrid\n",
    "        self.target_distribution = target_distribution\n",
    "        self.target = target_distribution.pdf(xgrid)\n",
    "        self._area = (self.xgrid.max(axis=0) - self.xgrid.min(axis=0)).prod()\n",
    "        shape = list(self.xgrid.shape)\n",
    "        shape.remove(1)\n",
    "        self._n_elements = (numpy.array(shape)-1).prod()\n",
    "        self._element_area = self._area/self._n_elements\n",
    "        \n",
    "    def _calc_deviation(self, model):\n",
    "        pred = numpy.exp(model.score_samples(self.xgrid))\n",
    "        diff = pred - target\n",
    "        self.sigma2 = numpy.dot(diff, diff)*self._element_area\n",
    "        self.sigma  = numpy.sqrt(self.sigma2)\n",
    "        \n",
    "    def __call__(self, model):\n",
    "        self._calc_deviation(model)\n",
    "        return self.sigma2"
   ]
  },
  {
   "cell_type": "code",
   "execution_count": 10,
   "metadata": {},
   "outputs": [
    {
     "data": {
      "text/plain": [
       "6.164617095237704e-05"
      ]
     },
     "execution_count": 10,
     "metadata": {},
     "output_type": "execute_result"
    }
   ],
   "source": [
    "xgrid1d = numpy.linspace(-1,4,1000)\n",
    "xgrid1d.shape = (-1,1)\n",
    "deviation1d = Deviation(xgrid1d, peaks1d)\n",
    "deviation1d(gmm1)"
   ]
  },
  {
   "cell_type": "code",
   "execution_count": 11,
   "metadata": {},
   "outputs": [],
   "source": [
    "def get_model_precision(n_components, sample):\n",
    "    gmm = mixture.GaussianMixture(n_components=n_components, covariance_type='spherical', \n",
    "                               tol=1.e-7, max_iter=10000, warm_start=False)\n",
    "    gmm.fit(sample)\n",
    "    dev = deviation1d(gmm)\n",
    "    return gmm.aic(xgrid1d), gmm.bic(xgrid1d), gmm.score(xgrid1d), dev"
   ]
  },
  {
   "cell_type": "code",
   "execution_count": 12,
   "metadata": {},
   "outputs": [],
   "source": [
    "precisions = [get_model_precision(i, sample1d) for i in range(1,10)]"
   ]
  },
  {
   "cell_type": "code",
   "execution_count": 13,
   "metadata": {},
   "outputs": [
    {
     "data": {
      "text/plain": [
       "[<matplotlib.lines.Line2D at 0x1963aae20>]"
      ]
     },
     "execution_count": 13,
     "metadata": {},
     "output_type": "execute_result"
    },
    {
     "data": {
      "image/png": "[encoded data removed]",
      "text/plain": [
       "<Figure size 432x288 with 1 Axes>"
      ]
     },
     "metadata": {
      "needs_background": "light"
     },
     "output_type": "display_data"
    }
   ],
   "source": [
    "plt.plot(range(1,10), numpy.log(numpy.array(precisions)[:,-1]))"
   ]
  },
  {
   "cell_type": "code",
   "execution_count": 15,
   "metadata": {},
   "outputs": [
    {
     "data": {
      "text/plain": [
       "[<matplotlib.lines.Line2D at 0x196469190>]"
      ]
     },
     "execution_count": 15,
     "metadata": {},
     "output_type": "execute_result"
    },
    {
     "data": {
      "image/png": "[encoded data removed]",
      "text/plain": [
       "<Figure size 432x288 with 1 Axes>"
      ]
     },
     "metadata": {
      "needs_background": "light"
     },
     "output_type": "display_data"
    }
   ],
   "source": [
    "plt.plot(range(1,10), numpy.log(-numpy.array(precisions)[:,-2]))"
   ]
  },
  {
   "cell_type": "code",
   "execution_count": 16,
   "metadata": {},
   "outputs": [
    {
     "data": {
      "text/plain": [
       "[<matplotlib.lines.Line2D at 0x1964c3a30>]"
      ]
     },
     "execution_count": 16,
     "metadata": {},
     "output_type": "execute_result"
    },
    {
     "data": {
      "image/png": "[encoded data removed]",
      "text/plain": [
       "<Figure size 432x288 with 1 Axes>"
      ]
     },
     "metadata": {
      "needs_background": "light"
     },
     "output_type": "display_data"
    }
   ],
   "source": [
    "plt.plot(range(1,10), numpy.log(numpy.array(precisions)[:,-3]))"
   ]
  },
  {
   "cell_type": "code",
   "execution_count": 17,
   "metadata": {},
   "outputs": [
    {
     "data": {
      "text/plain": [
       "[<matplotlib.lines.Line2D at 0x196569250>]"
      ]
     },
     "execution_count": 17,
     "metadata": {},
     "output_type": "execute_result"
    },
    {
     "data": {
      "image/png": "[encoded data removed]",
      "text/plain": [
       "<Figure size 432x288 with 1 Axes>"
      ]
     },
     "metadata": {
      "needs_background": "light"
     },
     "output_type": "display_data"
    }
   ],
   "source": [
    "plt.plot(range(1,10), numpy.log(numpy.array(precisions)[:,-4]))"
   ]
  },
  {
   "cell_type": "code",
   "execution_count": 18,
   "metadata": {},
   "outputs": [
    {
     "data": {
      "text/plain": [
       "[<matplotlib.lines.Line2D at 0x1965c1820>]"
      ]
     },
     "execution_count": 18,
     "metadata": {},
     "output_type": "execute_result"
    },
    {
     "data": {
      "image/png": "[encoded data removed]",
      "text/plain": [
       "<Figure size 432x288 with 1 Axes>"
      ]
     },
     "metadata": {
      "needs_background": "light"
     },
     "output_type": "display_data"
    }
   ],
   "source": [
    "precisions = numpy.array(precisions)\n",
    "diff = precisions[1:] - precisions[:-1]\n",
    "plt.plot(diff[:,3])"
   ]
  },
  {
   "cell_type": "markdown",
   "metadata": {},
   "source": [
    "## Bayesian"
   ]
  },
  {
   "cell_type": "code",
   "execution_count": 19,
   "metadata": {},
   "outputs": [
    {
     "data": {
      "image/png": "[encoded data removed]",
      "text/plain": [
       "<Figure size 432x288 with 1 Axes>"
      ]
     },
     "metadata": {
      "needs_background": "light"
     },
     "output_type": "display_data"
    }
   ],
   "source": [
    "hist = plt.hist(sample1d, bins=100)"
   ]
  },
  {
   "cell_type": "code",
   "execution_count": 20,
   "metadata": {},
   "outputs": [],
   "source": [
    "def bgm(wcp):\n",
    "    return mixture.BayesianGaussianMixture(n_components=8, \n",
    "                                        max_iter=100000, \n",
    "                                        init_params='kmeans', \n",
    "                                        tol=0.001,\n",
    "                                        weight_concentration_prior=wcp\n",
    "                                        )"
   ]
  },
  {
   "cell_type": "code",
   "execution_count": 21,
   "metadata": {},
   "outputs": [
    {
     "data": {
      "text/plain": [
       "array([1.00000000e-03, 3.59381366e-03, 1.29154967e-02, 4.64158883e-02,\n",
       "       1.66810054e-01, 5.99484250e-01, 2.15443469e+00, 7.74263683e+00,\n",
       "       2.78255940e+01, 1.00000000e+02])"
      ]
     },
     "execution_count": 21,
     "metadata": {},
     "output_type": "execute_result"
    }
   ],
   "source": [
    "wcps = numpy.logspace(-3, 2,10)\n",
    "wcps"
   ]
  },
  {
   "cell_type": "code",
   "execution_count": 22,
   "metadata": {},
   "outputs": [
    {
     "name": "stdout",
     "output_type": "stream",
     "text": [
      "0.001 DONE\n",
      "0.003593813663804626 DONE\n",
      "0.01291549665014884 DONE\n",
      "0.046415888336127795 DONE\n",
      "0.1668100537200059 DONE\n",
      "0.5994842503189409 DONE\n",
      "2.1544346900318843 DONE\n",
      "7.742636826811277 DONE\n",
      "27.825594022071257 DONE\n",
      "100.0 DONE\n"
     ]
    }
   ],
   "source": [
    "weights = {}\n",
    "for wcp in wcps:\n",
    "    mixmodel = bgm(wcp)\n",
    "    mixmodel.fit(sample1d)\n",
    "    weights[wcp] = mixmodel.weights_\n",
    "    print(wcp, \"DONE\")"
   ]
  },
  {
   "cell_type": "code",
   "execution_count": 23,
   "metadata": {},
   "outputs": [
    {
     "data": {
      "text/plain": [
       "{0.001: array([1.85863355e-01, 3.20018562e-01, 1.99726631e-01, 1.17511552e-01,\n",
       "        1.76879889e-01, 9.98868115e-09, 9.97870244e-12, 9.96873371e-15]),\n",
       " 0.003593813663804626: array([3.49793392e-01, 2.00702667e-01, 2.29539425e-01, 2.19964480e-01,\n",
       "        3.58061097e-08, 1.28219689e-10, 4.59147579e-13, 1.64418196e-15]),\n",
       " 0.01291549665014884: array([3.43976631e-01, 1.51849871e-05, 8.84675839e-02, 6.72798719e-02,\n",
       "        1.98567693e-01, 1.24884141e-01, 4.10652109e-02, 1.35743683e-01]),\n",
       " 0.046415888336127795: array([2.01034240e-01, 3.44048870e-01, 1.90705550e-01, 2.64210876e-01,\n",
       "        4.43533451e-07, 1.96738212e-08, 8.72672042e-10, 3.87091294e-11]),\n",
       " 0.1668100537200059: array([4.11192520e-01, 1.48415961e-05, 2.00393841e-01, 1.70113384e-01,\n",
       "        3.52371973e-02, 1.83046578e-01, 1.43337745e-06, 2.04827464e-07]),\n",
       " 0.5994842503189409: array([3.33903025e-01, 2.01049431e-01, 2.72568363e-01, 1.92472774e-01,\n",
       "        4.12643176e-06, 1.50691473e-06, 5.62261745e-07, 2.10548498e-07]),\n",
       " 2.1544346900318843: array([2.43438067e-01, 1.48381993e-05, 2.19179144e-01, 1.51792826e-01,\n",
       "        7.20939654e-02, 1.51837053e-05, 1.13590549e-01, 1.99875427e-01]),\n",
       " 7.742636826811277: array([1.68436459e-01, 1.53191186e-01, 1.98798017e-01, 2.18788400e-01,\n",
       "        1.15165501e-01, 1.97492383e-02, 1.25859239e-01, 1.19587466e-05]),\n",
       " 27.825594022071257: array([2.20949967e-01, 1.48378316e-05, 2.04417102e-01, 1.02662434e-01,\n",
       "        1.05588606e-02, 1.31132785e-01, 1.31687089e-01, 1.98576925e-01]),\n",
       " 100.0: array([3.79050089e-01, 1.98508270e-01, 2.60931168e-01, 7.35611142e-02,\n",
       "        1.52737456e-05, 8.79053445e-02, 1.45168174e-05, 1.42240217e-05])}"
      ]
     },
     "execution_count": 23,
     "metadata": {},
     "output_type": "execute_result"
    }
   ],
   "source": [
    "weights"
   ]
  },
  {
   "cell_type": "markdown",
   "metadata": {},
   "source": [
    "### 2D"
   ]
  },
  {
   "cell_type": "code",
   "execution_count": null,
   "metadata": {},
   "outputs": [],
   "source": [
    "means2d = numpy.stack([means1d, means1d], axis=1)\n",
    "covs2d = numpy.array(len(means1d)*[0.005*numpy.identity(2)])\n",
    "\n",
    "peaks2d = Peaks(means2d, covs2d)\n",
    "sample2d = peaks2d.rvs(10000)"
   ]
  },
  {
   "cell_type": "code",
   "execution_count": null,
   "metadata": {},
   "outputs": [],
   "source": [
    "ax2d = peaks2d.get_plot()"
   ]
  },
  {
   "cell_type": "code",
   "execution_count": null,
   "metadata": {},
   "outputs": [],
   "source": [
    "means2da = [[1.,1.], [4.,4.]]\n",
    "covs2da = [ [[1.,-2],[-1,3.]] , [[1.,0.],[1.,2.]] ]\n",
    "peaks2da = Peaks(means2da, covs2da)\n",
    "ax2da = peaks2da.get_plot()"
   ]
  },
  {
   "cell_type": "markdown",
   "metadata": {},
   "source": [
    "### 3D"
   ]
  },
  {
   "cell_type": "code",
   "execution_count": null,
   "metadata": {},
   "outputs": [],
   "source": [
    "means3d = numpy.stack(3*[means1d], axis=1)\n",
    "covs3d = numpy.array(len(means1d)*[0.05*numpy.identity(3)])\n",
    "\n",
    "peaks3d = Peaks(means3d, covs3d)\n",
    "sample3d = peaks3d.rvs(10000)"
   ]
  },
  {
   "cell_type": "markdown",
   "metadata": {},
   "source": [
    "## Fitting Gaussian Mixture Models with Expectation-Maximization"
   ]
  },
  {
   "cell_type": "code",
   "execution_count": null,
   "metadata": {},
   "outputs": [],
   "source": [
    "from sklearn import mixture"
   ]
  },
  {
   "cell_type": "code",
   "execution_count": null,
   "metadata": {},
   "outputs": [],
   "source": [
    "gmm1 = mixture.GaussianMixture(n_components=2, covariance_type='full')"
   ]
  },
  {
   "cell_type": "code",
   "execution_count": null,
   "metadata": {},
   "outputs": [],
   "source": [
    "from sklearn.mixture import gaussian_mixture, bayesian_mixture\n"
   ]
  },
  {
   "cell_type": "markdown",
   "metadata": {
    "collapsed": true
   },
   "source": [
    "\n",
    "### Specific Instrument \n",
    "\n",
    "**SANS: **\n",
    "*Comment:* It should be possible to show that in the limit of SANS, we only need to consider $\\boldsymbol q$, i.e. that inelastic phenomena can be neglected or are integrated out.\n",
    "\n",
    "SANS consider elastic scattering and is as such a diffraction technique. For elastic scattering the wave number $\\omega$ is unambiguously given by the scattering vector $\\boldsymbol q$.\n",
    "\n",
    "**Reflectometry:**\n",
    "\n",
    "**Powder and liquid diffraction:**\n",
    "*1D:*\n",
    "*2D:* \n",
    "\n",
    "**Laue diffraction:**\n",
    "*2D:*\n",
    "*3D:*\n",
    "\n",
    "**Powder and liquid INS:**\n",
    "\n",
    "\n",
    "**Single crystal INS:**\n",
    "\n"
   ]
  },
  {
   "cell_type": "markdown",
   "metadata": {},
   "source": [
    "## Litterature review\n",
    "\n",
    "Have not really been able to find something. Needs to find something \"just\" on peak integration.\n",
    "\n",
    "*Search term:* clustering \"peak integration\"\n",
    "**van Stee, L.L.P. & Brinkman, U.A.Th. (2016). *Peak detection methods for GC × GC: An overview. TrAC Trends in Analytical Chemistry.* 83. 10.1016/j.trac.2016.07.009.** The literature on methods for peak detection and integration for comprehensive two-dimensional gas chromatography (GC × GC) is reviewed with a focus on methods for the detection of individual peaks. These methods are of importance to make GC × GC generally applicable for identification and subsequent quantification of target compounds, and for non-target screening strategies, such as used in, e.g. food, biological, environmental and metabolomics studies, as well. There are three main groups of technique: methods based on 1D peak integration and subsequent automated clustering, multivariate methods and graphical methods. The principles, merits and demerits of each technique are discussed.\n",
    "\n"
   ]
  },
  {
   "cell_type": "markdown",
   "metadata": {},
   "source": [
    "## Peak integration"
   ]
  },
  {
   "cell_type": "markdown",
   "metadata": {},
   "source": [
    "## Kernel density estimation"
   ]
  },
  {
   "cell_type": "markdown",
   "metadata": {},
   "source": [
    "## Clustering events\n",
    "Many different algorithms exist for clustering data and it seems natural to test these methods on data that inherently are clustered."
   ]
  },
  {
   "cell_type": "code",
   "execution_count": null,
   "metadata": {},
   "outputs": [],
   "source": [
    "import sklearn\n",
    "import scipy\n",
    "from scipy.stats import distributions"
   ]
  },
  {
   "cell_type": "code",
   "execution_count": null,
   "metadata": {},
   "outputs": [],
   "source": [
    "distributions.norm?"
   ]
  },
  {
   "cell_type": "code",
   "execution_count": null,
   "metadata": {},
   "outputs": [],
   "source": []
  }
 ],
 "metadata": {
  "kernelspec": {
   "display_name": "Python 3",
   "language": "python",
   "name": "python3"
  },
  "language_info": {
   "codemirror_mode": {
    "name": "ipython",
    "version": 3
   },
   "file_extension": ".py",
   "mimetype": "text/x-python",
   "name": "python",
   "nbconvert_exporter": "python",
   "pygments_lexer": "ipython3",
   "version": "3.9.1"
  },
  "toc": {
   "base_numbering": 1,
   "nav_menu": {},
   "number_sections": true,
   "sideBar": true,
   "skip_h1_title": true,
   "title_cell": "Table of Contents",
   "title_sidebar": "Contents",
   "toc_cell": true,
   "toc_position": {},
   "toc_section_display": true,
   "toc_window_display": true
  },
  "varInspector": {
   "cols": {
    "lenName": 16,
    "lenType": 16,
    "lenVar": 40
   },
   "kernels_config": {
    "python": {
     "delete_cmd_postfix": "",
     "delete_cmd_prefix": "del ",
     "library": "var_list.py",
     "varRefreshCmd": "print(var_dic_list())"
    },
    "r": {
     "delete_cmd_postfix": ") ",
     "delete_cmd_prefix": "rm(",
     "library": "var_list.r",
     "varRefreshCmd": "cat(var_dic_list()) "
    }
   },
   "types_to_exclude": [
    "module",
    "function",
    "builtin_function_or_method",
    "instance",
    "_Feature"
   ],
   "window_display": false
  }
 },
 "nbformat": 4,
 "nbformat_minor": 2
}
