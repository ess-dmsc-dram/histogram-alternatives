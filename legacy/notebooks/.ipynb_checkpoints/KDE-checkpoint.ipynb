{
 "cells": [
  {
   "cell_type": "markdown",
   "metadata": {
    "toc": true
   },
   "source": [
    "<h1>Table of Contents<span class=\"tocSkip\"></span></h1>\n",
    "<div class=\"toc\"><ul class=\"toc-item\"><li><span><a href=\"#Introduction\" data-toc-modified-id=\"Introduction-1\"><span class=\"toc-item-num\">1&nbsp;&nbsp;</span>Introduction</a></span></li><li><span><a href=\"#putting-stuff-on-the-same-level\" data-toc-modified-id=\"putting-stuff-on-the-same-level-2\"><span class=\"toc-item-num\">2&nbsp;&nbsp;</span>putting stuff on the same level</a></span></li><li><span><a href=\"#Fitting\" data-toc-modified-id=\"Fitting-3\"><span class=\"toc-item-num\">3&nbsp;&nbsp;</span>Fitting</a></span></li></ul></div>"
   ]
  },
  {
   "cell_type": "markdown",
   "metadata": {},
   "source": [
    "## Introduction\n",
    "The purpose of this notebook is to evaluate whether Kernel Density Estimation (KDE) is an viable alternative to histogramming by calculating the rmsd for histograms and KDE from a true target probability distribution function.\n",
    "\n"
   ]
  },
  {
   "cell_type": "code",
   "execution_count": 1,
   "metadata": {
    "ExecuteTime": {
     "end_time": "2020-04-28T08:24:41.041381Z",
     "start_time": "2020-04-28T08:24:41.033421Z"
    }
   },
   "outputs": [],
   "source": [
    "import sys\n",
    "import os\n",
    "import random\n",
    "import numpy as np\n",
    "from numpy import ma\n",
    "import pandas as pd\n",
    "import matplotlib.pyplot as plt\n",
    "import scipy\n",
    "from scipy import integrate\n",
    "from scipy.stats import distributions\n",
    "from sklearn.neighbors import KernelDensity\n",
    "import lmfit"
   ]
  },
  {
   "cell_type": "code",
   "execution_count": 2,
   "metadata": {
    "ExecuteTime": {
     "end_time": "2020-04-28T08:24:41.510268Z",
     "start_time": "2020-04-28T08:24:41.494891Z"
    }
   },
   "outputs": [
    {
     "data": {
      "text/plain": [
       "posix.uname_result(sysname='Darwin', nodename='CI0021536', release='19.6.0', version='Darwin Kernel Version 19.6.0: Tue Jan 12 22:13:05 PST 2021; root:xnu-6153.141.16~1/RELEASE_X86_64', machine='x86_64')"
      ]
     },
     "execution_count": 2,
     "metadata": {},
     "output_type": "execute_result"
    }
   ],
   "source": [
    "os.uname()"
   ]
  },
  {
   "cell_type": "code",
   "execution_count": 3,
   "metadata": {
    "ExecuteTime": {
     "end_time": "2020-04-28T08:24:42.119307Z",
     "start_time": "2020-04-28T08:24:42.111671Z"
    }
   },
   "outputs": [
    {
     "data": {
      "text/plain": [
       "'3.9.1 | packaged by conda-forge | (default, Jan 26 2021, 01:32:59) \\n[Clang 11.0.1 ]'"
      ]
     },
     "execution_count": 3,
     "metadata": {},
     "output_type": "execute_result"
    }
   ],
   "source": [
    "sys.version"
   ]
  },
  {
   "cell_type": "code",
   "execution_count": 4,
   "metadata": {
    "ExecuteTime": {
     "end_time": "2020-04-28T08:24:42.686963Z",
     "start_time": "2020-04-28T08:24:42.675021Z"
    }
   },
   "outputs": [],
   "source": [
    "class MultiModal(object):\n",
    "    \"\"\"\n",
    "    Class that generates a multimodal distribution by summing gaussians\n",
    "    \"\"\"\n",
    "\n",
    "    def __init__(self, locs, scales, weights):\n",
    "        self.distributions = [distributions.norm(loc=loc, scale=scale) for loc, scale in zip(locs, scales)]\n",
    "        weights = np.asarray(weights)\n",
    "        self.weights = weights/np.sum(weights)\n",
    "        \n",
    "    def pdf(self, x):\n",
    "        values = np.array([distribution.pdf(x) for distribution in self.distributions])\n",
    "        return np.dot(self.weights, values)\n",
    "    \n",
    "    def rvs(self, size):\n",
    "        distributions = random.choices(self.distributions, weights=self.weights, k=size)\n",
    "        rvss = [dist.rvs(distributions.count(dist)) for dist in self.distributions]\n",
    "        rvs = np.concatenate(rvss)\n",
    "        np.random.shuffle(rvs)\n",
    "        return rvs\n"
   ]
  },
  {
   "cell_type": "code",
   "execution_count": 5,
   "metadata": {
    "ExecuteTime": {
     "end_time": "2020-04-28T08:24:43.709306Z",
     "start_time": "2020-04-28T08:24:43.697808Z"
    }
   },
   "outputs": [],
   "source": [
    "# generate trimodal distribution with:\n",
    "#   locations = -1, 0.5, 0.5\n",
    "#   scales  =  1, 1, 1\n",
    "#   weights = 3.75, 0.2, 0.3 (which will be automatically normalized)\n",
    "\n",
    "trimodal = MultiModal([-1,1, 3.75], [0.5, 1., 0.2], [0.5, 1, 0.3])\n"
   ]
  },
  {
   "cell_type": "code",
   "execution_count": 6,
   "metadata": {
    "ExecuteTime": {
     "end_time": "2020-04-28T08:24:44.518972Z",
     "start_time": "2020-04-28T08:24:44.512866Z"
    }
   },
   "outputs": [],
   "source": [
    "xgrid = np.linspace(-4, 6, 200)"
   ]
  },
  {
   "cell_type": "code",
   "execution_count": 7,
   "metadata": {
    "ExecuteTime": {
     "end_time": "2020-04-28T08:24:46.055210Z",
     "start_time": "2020-04-28T08:24:45.721953Z"
    }
   },
   "outputs": [
    {
     "data": {
      "text/plain": [
       "[<matplotlib.lines.Line2D at 0x1955e79a0>]"
      ]
     },
     "execution_count": 7,
     "metadata": {},
     "output_type": "execute_result"
    },
    {
     "data": {
      "image/png": "[encoded data removed]",
      "text/plain": [
       "<Figure size 432x288 with 1 Axes>"
      ]
     },
     "metadata": {
      "needs_background": "light"
     },
     "output_type": "display_data"
    }
   ],
   "source": [
    "plt.plot(xgrid, trimodal.pdf(xgrid))"
   ]
  },
  {
   "cell_type": "code",
   "execution_count": 8,
   "metadata": {
    "ExecuteTime": {
     "end_time": "2020-04-28T08:24:46.383591Z",
     "start_time": "2020-04-28T08:24:46.372908Z"
    }
   },
   "outputs": [],
   "source": [
    "# Draw random sample from distribution\n",
    "rvs = trimodal.rvs(1000)"
   ]
  },
  {
   "cell_type": "code",
   "execution_count": 9,
   "metadata": {
    "ExecuteTime": {
     "end_time": "2020-04-28T08:24:48.036026Z",
     "start_time": "2020-04-28T08:24:47.745875Z"
    }
   },
   "outputs": [
    {
     "data": {
      "text/plain": [
       "(array([  4.,  24.,  55.,  85.,  77.,  73.,  53.,  57.,  62.,  79.,  71.,\n",
       "         64.,  40.,  30.,  28.,  10.,  36., 108.,  42.,   2.]),\n",
       " array([-2.37813617, -2.02963993, -1.6811437 , -1.33264747, -0.98415123,\n",
       "        -0.635655  , -0.28715877,  0.06133747,  0.4098337 ,  0.75832993,\n",
       "         1.10682617,  1.4553224 ,  1.80381863,  2.15231487,  2.5008111 ,\n",
       "         2.84930733,  3.19780357,  3.5462998 ,  3.89479603,  4.24329227,\n",
       "         4.5917885 ]),\n",
       " <BarContainer object of 20 artists>)"
      ]
     },
     "execution_count": 9,
     "metadata": {},
     "output_type": "execute_result"
    },
    {
     "data": {
      "image/png": "[encoded data removed]",
      "text/plain": [
       "<Figure size 432x288 with 1 Axes>"
      ]
     },
     "metadata": {
      "needs_background": "light"
     },
     "output_type": "display_data"
    }
   ],
   "source": [
    "plt.hist(rvs, bins=20)"
   ]
  },
  {
   "cell_type": "code",
   "execution_count": 10,
   "metadata": {
    "ExecuteTime": {
     "end_time": "2020-04-28T08:24:51.757916Z",
     "start_time": "2020-04-28T08:24:51.655880Z"
    }
   },
   "outputs": [],
   "source": [
    "nsamples = 10\n",
    "samples = pd.DataFrame([trimodal.rvs(1000) for i in range(nsamples)]).transpose()"
   ]
  },
  {
   "cell_type": "code",
   "execution_count": 11,
   "metadata": {
    "ExecuteTime": {
     "end_time": "2020-04-28T08:24:59.362282Z",
     "start_time": "2020-04-28T08:24:59.316521Z"
    }
   },
   "outputs": [
    {
     "data": {
      "text/html": [
       "<div>\n",
       "<style scoped>\n",
       "    .dataframe tbody tr th:only-of-type {\n",
       "        vertical-align: middle;\n",
       "    }\n",
       "\n",
       "    .dataframe tbody tr th {\n",
       "        vertical-align: top;\n",
       "    }\n",
       "\n",
       "    .dataframe thead th {\n",
       "        text-align: right;\n",
       "    }\n",
       "</style>\n",
       "<table border=\"1\" class=\"dataframe\">\n",
       "  <thead>\n",
       "    <tr style=\"text-align: right;\">\n",
       "      <th></th>\n",
       "      <th>0</th>\n",
       "      <th>1</th>\n",
       "      <th>2</th>\n",
       "      <th>3</th>\n",
       "      <th>4</th>\n",
       "      <th>5</th>\n",
       "      <th>6</th>\n",
       "      <th>7</th>\n",
       "      <th>8</th>\n",
       "      <th>9</th>\n",
       "    </tr>\n",
       "  </thead>\n",
       "  <tbody>\n",
       "    <tr>\n",
       "      <th>0</th>\n",
       "      <td>3.852433</td>\n",
       "      <td>1.032476</td>\n",
       "      <td>-0.443834</td>\n",
       "      <td>-0.363887</td>\n",
       "      <td>3.494827</td>\n",
       "      <td>-0.742588</td>\n",
       "      <td>3.649681</td>\n",
       "      <td>1.395740</td>\n",
       "      <td>3.668596</td>\n",
       "      <td>-1.347024</td>\n",
       "    </tr>\n",
       "    <tr>\n",
       "      <th>1</th>\n",
       "      <td>1.108934</td>\n",
       "      <td>3.798822</td>\n",
       "      <td>0.745450</td>\n",
       "      <td>-0.078074</td>\n",
       "      <td>-1.626690</td>\n",
       "      <td>0.062384</td>\n",
       "      <td>3.633115</td>\n",
       "      <td>3.880042</td>\n",
       "      <td>-1.604835</td>\n",
       "      <td>-1.196474</td>\n",
       "    </tr>\n",
       "    <tr>\n",
       "      <th>2</th>\n",
       "      <td>-0.035026</td>\n",
       "      <td>-1.300447</td>\n",
       "      <td>0.559646</td>\n",
       "      <td>3.841128</td>\n",
       "      <td>1.001765</td>\n",
       "      <td>-0.230705</td>\n",
       "      <td>-1.317498</td>\n",
       "      <td>3.247930</td>\n",
       "      <td>-0.214622</td>\n",
       "      <td>-0.186770</td>\n",
       "    </tr>\n",
       "    <tr>\n",
       "      <th>3</th>\n",
       "      <td>4.075682</td>\n",
       "      <td>3.701490</td>\n",
       "      <td>-0.667787</td>\n",
       "      <td>2.117525</td>\n",
       "      <td>-1.113065</td>\n",
       "      <td>-1.224109</td>\n",
       "      <td>1.177898</td>\n",
       "      <td>1.513657</td>\n",
       "      <td>4.078196</td>\n",
       "      <td>-1.214450</td>\n",
       "    </tr>\n",
       "    <tr>\n",
       "      <th>4</th>\n",
       "      <td>3.780408</td>\n",
       "      <td>3.868062</td>\n",
       "      <td>-1.733909</td>\n",
       "      <td>0.678453</td>\n",
       "      <td>-1.741787</td>\n",
       "      <td>2.230834</td>\n",
       "      <td>2.032707</td>\n",
       "      <td>3.742975</td>\n",
       "      <td>3.637839</td>\n",
       "      <td>0.543749</td>\n",
       "    </tr>\n",
       "    <tr>\n",
       "      <th>...</th>\n",
       "      <td>...</td>\n",
       "      <td>...</td>\n",
       "      <td>...</td>\n",
       "      <td>...</td>\n",
       "      <td>...</td>\n",
       "      <td>...</td>\n",
       "      <td>...</td>\n",
       "      <td>...</td>\n",
       "      <td>...</td>\n",
       "      <td>...</td>\n",
       "    </tr>\n",
       "    <tr>\n",
       "      <th>995</th>\n",
       "      <td>2.867699</td>\n",
       "      <td>-0.933427</td>\n",
       "      <td>-0.642044</td>\n",
       "      <td>0.825595</td>\n",
       "      <td>2.206758</td>\n",
       "      <td>0.197508</td>\n",
       "      <td>1.025664</td>\n",
       "      <td>3.435223</td>\n",
       "      <td>0.082336</td>\n",
       "      <td>0.885354</td>\n",
       "    </tr>\n",
       "    <tr>\n",
       "      <th>996</th>\n",
       "      <td>-0.834004</td>\n",
       "      <td>-1.409728</td>\n",
       "      <td>-1.357930</td>\n",
       "      <td>0.791748</td>\n",
       "      <td>3.572339</td>\n",
       "      <td>3.486163</td>\n",
       "      <td>1.405958</td>\n",
       "      <td>-0.233981</td>\n",
       "      <td>1.953820</td>\n",
       "      <td>-0.677295</td>\n",
       "    </tr>\n",
       "    <tr>\n",
       "      <th>997</th>\n",
       "      <td>-0.109435</td>\n",
       "      <td>3.749483</td>\n",
       "      <td>3.053885</td>\n",
       "      <td>-0.125062</td>\n",
       "      <td>-0.897075</td>\n",
       "      <td>0.962364</td>\n",
       "      <td>3.679854</td>\n",
       "      <td>-1.345963</td>\n",
       "      <td>0.052244</td>\n",
       "      <td>3.677118</td>\n",
       "    </tr>\n",
       "    <tr>\n",
       "      <th>998</th>\n",
       "      <td>0.104913</td>\n",
       "      <td>0.588062</td>\n",
       "      <td>-0.282702</td>\n",
       "      <td>1.766510</td>\n",
       "      <td>0.132618</td>\n",
       "      <td>4.057039</td>\n",
       "      <td>3.472907</td>\n",
       "      <td>-0.302232</td>\n",
       "      <td>1.173589</td>\n",
       "      <td>-0.661110</td>\n",
       "    </tr>\n",
       "    <tr>\n",
       "      <th>999</th>\n",
       "      <td>1.483024</td>\n",
       "      <td>-0.619424</td>\n",
       "      <td>1.185816</td>\n",
       "      <td>0.525241</td>\n",
       "      <td>1.757564</td>\n",
       "      <td>3.663699</td>\n",
       "      <td>-0.790395</td>\n",
       "      <td>3.687416</td>\n",
       "      <td>0.420316</td>\n",
       "      <td>1.326309</td>\n",
       "    </tr>\n",
       "  </tbody>\n",
       "</table>\n",
       "<p>1000 rows × 10 columns</p>\n",
       "</div>"
      ],
      "text/plain": [
       "            0         1         2         3         4         5         6  \\\n",
       "0    3.852433  1.032476 -0.443834 -0.363887  3.494827 -0.742588  3.649681   \n",
       "1    1.108934  3.798822  0.745450 -0.078074 -1.626690  0.062384  3.633115   \n",
       "2   -0.035026 -1.300447  0.559646  3.841128  1.001765 -0.230705 -1.317498   \n",
       "3    4.075682  3.701490 -0.667787  2.117525 -1.113065 -1.224109  1.177898   \n",
       "4    3.780408  3.868062 -1.733909  0.678453 -1.741787  2.230834  2.032707   \n",
       "..        ...       ...       ...       ...       ...       ...       ...   \n",
       "995  2.867699 -0.933427 -0.642044  0.825595  2.206758  0.197508  1.025664   \n",
       "996 -0.834004 -1.409728 -1.357930  0.791748  3.572339  3.486163  1.405958   \n",
       "997 -0.109435  3.749483  3.053885 -0.125062 -0.897075  0.962364  3.679854   \n",
       "998  0.104913  0.588062 -0.282702  1.766510  0.132618  4.057039  3.472907   \n",
       "999  1.483024 -0.619424  1.185816  0.525241  1.757564  3.663699 -0.790395   \n",
       "\n",
       "            7         8         9  \n",
       "0    1.395740  3.668596 -1.347024  \n",
       "1    3.880042 -1.604835 -1.196474  \n",
       "2    3.247930 -0.214622 -0.186770  \n",
       "3    1.513657  4.078196 -1.214450  \n",
       "4    3.742975  3.637839  0.543749  \n",
       "..        ...       ...       ...  \n",
       "995  3.435223  0.082336  0.885354  \n",
       "996 -0.233981  1.953820 -0.677295  \n",
       "997 -1.345963  0.052244  3.677118  \n",
       "998 -0.302232  1.173589 -0.661110  \n",
       "999  3.687416  0.420316  1.326309  \n",
       "\n",
       "[1000 rows x 10 columns]"
      ]
     },
     "execution_count": 11,
     "metadata": {},
     "output_type": "execute_result"
    }
   ],
   "source": [
    "samples"
   ]
  },
  {
   "cell_type": "markdown",
   "metadata": {
    "ExecuteTime": {
     "end_time": "2020-01-15T21:51:33.708734Z",
     "start_time": "2020-01-15T21:51:33.478032Z"
    }
   },
   "source": [
    "* Find optimal bin width by minimizing RMSD from true pdf\n",
    "* Find optimal kernel width by minimizing RMSD from true pdf\n",
    "* Compare minimum RMS\n",
    "* Calculate variance for the two distributions using optimal bin widths and kernel widths"
   ]
  },
  {
   "cell_type": "code",
   "execution_count": 12,
   "metadata": {
    "ExecuteTime": {
     "end_time": "2020-04-28T08:26:14.042004Z",
     "start_time": "2020-04-28T08:26:13.747233Z"
    }
   },
   "outputs": [],
   "source": [
    "import seaborn  "
   ]
  },
  {
   "cell_type": "code",
   "execution_count": 13,
   "metadata": {
    "ExecuteTime": {
     "end_time": "2020-04-28T08:26:34.869594Z",
     "start_time": "2020-04-28T08:26:34.475611Z"
    }
   },
   "outputs": [
    {
     "name": "stderr",
     "output_type": "stream",
     "text": [
      "/Users/thomasholmrod/opt/anaconda3/envs/ML/lib/python3.9/site-packages/seaborn/distributions.py:2557: FutureWarning: `distplot` is a deprecated function and will be removed in a future version. Please adapt your code to use either `displot` (a figure-level function with similar flexibility) or `histplot` (an axes-level function for histograms).\n",
      "  warnings.warn(msg, FutureWarning)\n",
      "/Users/thomasholmrod/opt/anaconda3/envs/ML/lib/python3.9/site-packages/seaborn/distributions.py:2557: FutureWarning: `distplot` is a deprecated function and will be removed in a future version. Please adapt your code to use either `displot` (a figure-level function with similar flexibility) or `histplot` (an axes-level function for histograms).\n",
      "  warnings.warn(msg, FutureWarning)\n"
     ]
    },
    {
     "data": {
      "text/plain": [
       "<AxesSubplot:xlabel='8', ylabel='Density'>"
      ]
     },
     "execution_count": 13,
     "metadata": {},
     "output_type": "execute_result"
    },
    {
     "data": {
      "image/png": "[encoded data removed]",
      "text/plain": [
       "<Figure size 432x288 with 1 Axes>"
      ]
     },
     "metadata": {
      "needs_background": "light"
     },
     "output_type": "display_data"
    }
   ],
   "source": [
    "# show histogram and kde simultanously\n",
    "seaborn.distplot(samples[2])\n",
    "seaborn.distplot(samples[8])"
   ]
  },
  {
   "cell_type": "code",
   "execution_count": 14,
   "metadata": {
    "ExecuteTime": {
     "end_time": "2020-04-28T08:30:31.162674Z",
     "start_time": "2020-04-28T08:30:31.149013Z"
    }
   },
   "outputs": [],
   "source": [
    "class Histogram(object):\n",
    "\n",
    "    def __init__(self, frequencies, hist_range):\n",
    "        self.frequencies = list(frequencies)\n",
    "        self.nobservations = sum(self.frequencies)\n",
    "        self.recip_nobservations = 1./self.nobservations\n",
    "        self.nbins = len(self.frequencies)\n",
    "        self.min = hist_range[0]  # self.bin_edges[0]\n",
    "        self.max = hist_range[1]  # self.bin_edges[-1]\n",
    "        self.width = self.max - self.min\n",
    "        self.binwidth = self.width/self.nbins\n",
    "        self.recip_bin_width = 1./self.binwidth\n",
    "        \n",
    "    def value(self, x):\n",
    "        indexes = ma.masked_outside(np.asarray(x, 'd'), self.min, self.max)\n",
    "        # convert x numbers to bin numbers\n",
    "        indexes -= self.min\n",
    "        indexes *= self.recip_bin_width\n",
    "        indexes = indexes.astype('int')\n",
    "        return np.asarray(self.frequencies + [0])[indexes.filled(-1)]\n",
    "    \n",
    "    def pdf(self, x):\n",
    "        \"\"\"\n",
    "        Returns normalized pdf\n",
    "        \"\"\"\n",
    "        return self.recip_nobservations*self.value(x)\n",
    "    \n",
    "    def get_data(self):\n",
    "        \"\"\"\n",
    "        Returns array with center of bins and array with frequencies\n",
    "        \"\"\"\n",
    "        return np.arange(self.min + 0.5*self.binwidth, self.max, self.binwidth), self.frequencies\n"
   ]
  },
  {
   "cell_type": "code",
   "execution_count": 15,
   "metadata": {
    "ExecuteTime": {
     "end_time": "2020-04-28T08:30:31.639606Z",
     "start_time": "2020-04-28T08:30:31.616735Z"
    }
   },
   "outputs": [],
   "source": [
    "hist_range = (-4,6)\n",
    "nbins = 25\n",
    "# Histogramming the ten samples from above\n",
    "histograms = pd.DataFrame(samples.apply(lambda x: np.histogram(x, bins=nbins, range=hist_range)[0]))"
   ]
  },
  {
   "cell_type": "code",
   "execution_count": 16,
   "metadata": {
    "ExecuteTime": {
     "end_time": "2020-04-28T08:30:41.275229Z",
     "start_time": "2020-04-28T08:30:41.239339Z"
    }
   },
   "outputs": [
    {
     "data": {
      "text/html": [
       "<div>\n",
       "<style scoped>\n",
       "    .dataframe tbody tr th:only-of-type {\n",
       "        vertical-align: middle;\n",
       "    }\n",
       "\n",
       "    .dataframe tbody tr th {\n",
       "        vertical-align: top;\n",
       "    }\n",
       "\n",
       "    .dataframe thead th {\n",
       "        text-align: right;\n",
       "    }\n",
       "</style>\n",
       "<table border=\"1\" class=\"dataframe\">\n",
       "  <thead>\n",
       "    <tr style=\"text-align: right;\">\n",
       "      <th></th>\n",
       "      <th>0</th>\n",
       "      <th>1</th>\n",
       "      <th>2</th>\n",
       "      <th>3</th>\n",
       "      <th>4</th>\n",
       "      <th>5</th>\n",
       "      <th>6</th>\n",
       "      <th>7</th>\n",
       "      <th>8</th>\n",
       "      <th>9</th>\n",
       "    </tr>\n",
       "  </thead>\n",
       "  <tbody>\n",
       "    <tr>\n",
       "      <th>0</th>\n",
       "      <td>0</td>\n",
       "      <td>0</td>\n",
       "      <td>0</td>\n",
       "      <td>0</td>\n",
       "      <td>0</td>\n",
       "      <td>0</td>\n",
       "      <td>0</td>\n",
       "      <td>0</td>\n",
       "      <td>0</td>\n",
       "      <td>0</td>\n",
       "    </tr>\n",
       "    <tr>\n",
       "      <th>1</th>\n",
       "      <td>0</td>\n",
       "      <td>0</td>\n",
       "      <td>0</td>\n",
       "      <td>0</td>\n",
       "      <td>0</td>\n",
       "      <td>0</td>\n",
       "      <td>0</td>\n",
       "      <td>0</td>\n",
       "      <td>0</td>\n",
       "      <td>0</td>\n",
       "    </tr>\n",
       "    <tr>\n",
       "      <th>2</th>\n",
       "      <td>0</td>\n",
       "      <td>0</td>\n",
       "      <td>0</td>\n",
       "      <td>0</td>\n",
       "      <td>0</td>\n",
       "      <td>0</td>\n",
       "      <td>0</td>\n",
       "      <td>0</td>\n",
       "      <td>0</td>\n",
       "      <td>0</td>\n",
       "    </tr>\n",
       "    <tr>\n",
       "      <th>3</th>\n",
       "      <td>0</td>\n",
       "      <td>0</td>\n",
       "      <td>1</td>\n",
       "      <td>0</td>\n",
       "      <td>1</td>\n",
       "      <td>2</td>\n",
       "      <td>1</td>\n",
       "      <td>1</td>\n",
       "      <td>2</td>\n",
       "      <td>2</td>\n",
       "    </tr>\n",
       "    <tr>\n",
       "      <th>4</th>\n",
       "      <td>4</td>\n",
       "      <td>11</td>\n",
       "      <td>1</td>\n",
       "      <td>3</td>\n",
       "      <td>4</td>\n",
       "      <td>5</td>\n",
       "      <td>6</td>\n",
       "      <td>9</td>\n",
       "      <td>4</td>\n",
       "      <td>7</td>\n",
       "    </tr>\n",
       "    <tr>\n",
       "      <th>5</th>\n",
       "      <td>33</td>\n",
       "      <td>25</td>\n",
       "      <td>24</td>\n",
       "      <td>35</td>\n",
       "      <td>35</td>\n",
       "      <td>22</td>\n",
       "      <td>30</td>\n",
       "      <td>24</td>\n",
       "      <td>24</td>\n",
       "      <td>29</td>\n",
       "    </tr>\n",
       "    <tr>\n",
       "      <th>6</th>\n",
       "      <td>68</td>\n",
       "      <td>72</td>\n",
       "      <td>68</td>\n",
       "      <td>66</td>\n",
       "      <td>77</td>\n",
       "      <td>74</td>\n",
       "      <td>53</td>\n",
       "      <td>74</td>\n",
       "      <td>80</td>\n",
       "      <td>79</td>\n",
       "    </tr>\n",
       "    <tr>\n",
       "      <th>7</th>\n",
       "      <td>90</td>\n",
       "      <td>94</td>\n",
       "      <td>97</td>\n",
       "      <td>125</td>\n",
       "      <td>96</td>\n",
       "      <td>106</td>\n",
       "      <td>100</td>\n",
       "      <td>92</td>\n",
       "      <td>92</td>\n",
       "      <td>101</td>\n",
       "    </tr>\n",
       "    <tr>\n",
       "      <th>8</th>\n",
       "      <td>85</td>\n",
       "      <td>95</td>\n",
       "      <td>93</td>\n",
       "      <td>89</td>\n",
       "      <td>98</td>\n",
       "      <td>91</td>\n",
       "      <td>102</td>\n",
       "      <td>73</td>\n",
       "      <td>99</td>\n",
       "      <td>99</td>\n",
       "    </tr>\n",
       "    <tr>\n",
       "      <th>9</th>\n",
       "      <td>94</td>\n",
       "      <td>79</td>\n",
       "      <td>66</td>\n",
       "      <td>72</td>\n",
       "      <td>71</td>\n",
       "      <td>81</td>\n",
       "      <td>66</td>\n",
       "      <td>86</td>\n",
       "      <td>48</td>\n",
       "      <td>70</td>\n",
       "    </tr>\n",
       "    <tr>\n",
       "      <th>10</th>\n",
       "      <td>66</td>\n",
       "      <td>67</td>\n",
       "      <td>66</td>\n",
       "      <td>63</td>\n",
       "      <td>72</td>\n",
       "      <td>66</td>\n",
       "      <td>66</td>\n",
       "      <td>73</td>\n",
       "      <td>64</td>\n",
       "      <td>65</td>\n",
       "    </tr>\n",
       "    <tr>\n",
       "      <th>11</th>\n",
       "      <td>75</td>\n",
       "      <td>79</td>\n",
       "      <td>72</td>\n",
       "      <td>77</td>\n",
       "      <td>71</td>\n",
       "      <td>82</td>\n",
       "      <td>74</td>\n",
       "      <td>86</td>\n",
       "      <td>83</td>\n",
       "      <td>83</td>\n",
       "    </tr>\n",
       "    <tr>\n",
       "      <th>12</th>\n",
       "      <td>83</td>\n",
       "      <td>82</td>\n",
       "      <td>93</td>\n",
       "      <td>88</td>\n",
       "      <td>80</td>\n",
       "      <td>87</td>\n",
       "      <td>69</td>\n",
       "      <td>74</td>\n",
       "      <td>97</td>\n",
       "      <td>92</td>\n",
       "    </tr>\n",
       "    <tr>\n",
       "      <th>13</th>\n",
       "      <td>75</td>\n",
       "      <td>84</td>\n",
       "      <td>78</td>\n",
       "      <td>74</td>\n",
       "      <td>88</td>\n",
       "      <td>76</td>\n",
       "      <td>87</td>\n",
       "      <td>89</td>\n",
       "      <td>84</td>\n",
       "      <td>72</td>\n",
       "    </tr>\n",
       "    <tr>\n",
       "      <th>14</th>\n",
       "      <td>62</td>\n",
       "      <td>55</td>\n",
       "      <td>74</td>\n",
       "      <td>64</td>\n",
       "      <td>53</td>\n",
       "      <td>67</td>\n",
       "      <td>66</td>\n",
       "      <td>55</td>\n",
       "      <td>62</td>\n",
       "      <td>60</td>\n",
       "    </tr>\n",
       "    <tr>\n",
       "      <th>15</th>\n",
       "      <td>44</td>\n",
       "      <td>39</td>\n",
       "      <td>48</td>\n",
       "      <td>46</td>\n",
       "      <td>42</td>\n",
       "      <td>42</td>\n",
       "      <td>58</td>\n",
       "      <td>48</td>\n",
       "      <td>41</td>\n",
       "      <td>39</td>\n",
       "    </tr>\n",
       "    <tr>\n",
       "      <th>16</th>\n",
       "      <td>25</td>\n",
       "      <td>31</td>\n",
       "      <td>30</td>\n",
       "      <td>18</td>\n",
       "      <td>21</td>\n",
       "      <td>23</td>\n",
       "      <td>29</td>\n",
       "      <td>23</td>\n",
       "      <td>36</td>\n",
       "      <td>24</td>\n",
       "    </tr>\n",
       "    <tr>\n",
       "      <th>17</th>\n",
       "      <td>17</td>\n",
       "      <td>15</td>\n",
       "      <td>13</td>\n",
       "      <td>11</td>\n",
       "      <td>12</td>\n",
       "      <td>13</td>\n",
       "      <td>11</td>\n",
       "      <td>9</td>\n",
       "      <td>12</td>\n",
       "      <td>12</td>\n",
       "    </tr>\n",
       "    <tr>\n",
       "      <th>18</th>\n",
       "      <td>43</td>\n",
       "      <td>37</td>\n",
       "      <td>38</td>\n",
       "      <td>51</td>\n",
       "      <td>47</td>\n",
       "      <td>38</td>\n",
       "      <td>49</td>\n",
       "      <td>43</td>\n",
       "      <td>47</td>\n",
       "      <td>39</td>\n",
       "    </tr>\n",
       "    <tr>\n",
       "      <th>19</th>\n",
       "      <td>111</td>\n",
       "      <td>115</td>\n",
       "      <td>119</td>\n",
       "      <td>102</td>\n",
       "      <td>117</td>\n",
       "      <td>104</td>\n",
       "      <td>109</td>\n",
       "      <td>115</td>\n",
       "      <td>111</td>\n",
       "      <td>111</td>\n",
       "    </tr>\n",
       "    <tr>\n",
       "      <th>20</th>\n",
       "      <td>24</td>\n",
       "      <td>20</td>\n",
       "      <td>19</td>\n",
       "      <td>16</td>\n",
       "      <td>14</td>\n",
       "      <td>21</td>\n",
       "      <td>24</td>\n",
       "      <td>26</td>\n",
       "      <td>14</td>\n",
       "      <td>16</td>\n",
       "    </tr>\n",
       "    <tr>\n",
       "      <th>21</th>\n",
       "      <td>0</td>\n",
       "      <td>0</td>\n",
       "      <td>0</td>\n",
       "      <td>0</td>\n",
       "      <td>1</td>\n",
       "      <td>0</td>\n",
       "      <td>0</td>\n",
       "      <td>0</td>\n",
       "      <td>0</td>\n",
       "      <td>0</td>\n",
       "    </tr>\n",
       "    <tr>\n",
       "      <th>22</th>\n",
       "      <td>1</td>\n",
       "      <td>0</td>\n",
       "      <td>0</td>\n",
       "      <td>0</td>\n",
       "      <td>0</td>\n",
       "      <td>0</td>\n",
       "      <td>0</td>\n",
       "      <td>0</td>\n",
       "      <td>0</td>\n",
       "      <td>0</td>\n",
       "    </tr>\n",
       "    <tr>\n",
       "      <th>23</th>\n",
       "      <td>0</td>\n",
       "      <td>0</td>\n",
       "      <td>0</td>\n",
       "      <td>0</td>\n",
       "      <td>0</td>\n",
       "      <td>0</td>\n",
       "      <td>0</td>\n",
       "      <td>0</td>\n",
       "      <td>0</td>\n",
       "      <td>0</td>\n",
       "    </tr>\n",
       "    <tr>\n",
       "      <th>24</th>\n",
       "      <td>0</td>\n",
       "      <td>0</td>\n",
       "      <td>0</td>\n",
       "      <td>0</td>\n",
       "      <td>0</td>\n",
       "      <td>0</td>\n",
       "      <td>0</td>\n",
       "      <td>0</td>\n",
       "      <td>0</td>\n",
       "      <td>0</td>\n",
       "    </tr>\n",
       "  </tbody>\n",
       "</table>\n",
       "</div>"
      ],
      "text/plain": [
       "      0    1    2    3    4    5    6    7    8    9\n",
       "0     0    0    0    0    0    0    0    0    0    0\n",
       "1     0    0    0    0    0    0    0    0    0    0\n",
       "2     0    0    0    0    0    0    0    0    0    0\n",
       "3     0    0    1    0    1    2    1    1    2    2\n",
       "4     4   11    1    3    4    5    6    9    4    7\n",
       "5    33   25   24   35   35   22   30   24   24   29\n",
       "6    68   72   68   66   77   74   53   74   80   79\n",
       "7    90   94   97  125   96  106  100   92   92  101\n",
       "8    85   95   93   89   98   91  102   73   99   99\n",
       "9    94   79   66   72   71   81   66   86   48   70\n",
       "10   66   67   66   63   72   66   66   73   64   65\n",
       "11   75   79   72   77   71   82   74   86   83   83\n",
       "12   83   82   93   88   80   87   69   74   97   92\n",
       "13   75   84   78   74   88   76   87   89   84   72\n",
       "14   62   55   74   64   53   67   66   55   62   60\n",
       "15   44   39   48   46   42   42   58   48   41   39\n",
       "16   25   31   30   18   21   23   29   23   36   24\n",
       "17   17   15   13   11   12   13   11    9   12   12\n",
       "18   43   37   38   51   47   38   49   43   47   39\n",
       "19  111  115  119  102  117  104  109  115  111  111\n",
       "20   24   20   19   16   14   21   24   26   14   16\n",
       "21    0    0    0    0    1    0    0    0    0    0\n",
       "22    1    0    0    0    0    0    0    0    0    0\n",
       "23    0    0    0    0    0    0    0    0    0    0\n",
       "24    0    0    0    0    0    0    0    0    0    0"
      ]
     },
     "execution_count": 16,
     "metadata": {},
     "output_type": "execute_result"
    }
   ],
   "source": [
    "histograms"
   ]
  },
  {
   "cell_type": "code",
   "execution_count": 17,
   "metadata": {
    "ExecuteTime": {
     "end_time": "2020-04-28T08:31:00.623842Z",
     "start_time": "2020-04-28T08:31:00.142158Z"
    }
   },
   "outputs": [
    {
     "data": {
      "text/plain": [
       "<AxesSubplot:>"
      ]
     },
     "execution_count": 17,
     "metadata": {},
     "output_type": "execute_result"
    },
    {
     "data": {
      "image/png": "[encoded data removed]",
      "text/plain": [
       "<Figure size 432x288 with 1 Axes>"
      ]
     },
     "metadata": {
      "needs_background": "light"
     },
     "output_type": "display_data"
    }
   ],
   "source": [
    "histograms.plot(legend=None)"
   ]
  },
  {
   "cell_type": "code",
   "execution_count": 18,
   "metadata": {
    "ExecuteTime": {
     "end_time": "2020-04-24T21:48:11.897313Z",
     "start_time": "2020-04-24T21:48:11.724334Z"
    }
   },
   "outputs": [
    {
     "data": {
      "text/plain": [
       "[<matplotlib.lines.Line2D at 0x195bd3d30>]"
      ]
     },
     "execution_count": 18,
     "metadata": {},
     "output_type": "execute_result"
    },
    {
     "data": {
      "image/png": "[encoded data removed]",
      "text/plain": [
       "<Figure size 432x288 with 1 Axes>"
      ]
     },
     "metadata": {
      "needs_background": "light"
     },
     "output_type": "display_data"
    }
   ],
   "source": [
    "plt.plot(histograms.sum(axis=1))"
   ]
  },
  {
   "cell_type": "code",
   "execution_count": 19,
   "metadata": {
    "ExecuteTime": {
     "end_time": "2020-04-24T21:48:14.566677Z",
     "start_time": "2020-04-24T21:48:14.562820Z"
    }
   },
   "outputs": [],
   "source": [
    "hist = Histogram(histograms[0], hist_range)"
   ]
  },
  {
   "cell_type": "code",
   "execution_count": 20,
   "metadata": {
    "ExecuteTime": {
     "end_time": "2020-04-24T21:48:17.588549Z",
     "start_time": "2020-04-24T21:48:17.420170Z"
    }
   },
   "outputs": [
    {
     "data": {
      "text/plain": [
       "[<matplotlib.lines.Line2D at 0x195c35280>]"
      ]
     },
     "execution_count": 20,
     "metadata": {},
     "output_type": "execute_result"
    },
    {
     "data": {
      "image/png": "[encoded data removed]",
      "text/plain": [
       "<Figure size 432x288 with 1 Axes>"
      ]
     },
     "metadata": {
      "needs_background": "light"
     },
     "output_type": "display_data"
    }
   ],
   "source": [
    "plt.plot(xgrid, hist.pdf(xgrid))"
   ]
  },
  {
   "cell_type": "code",
   "execution_count": 21,
   "metadata": {
    "ExecuteTime": {
     "end_time": "2020-04-24T21:48:19.679261Z",
     "start_time": "2020-04-24T21:48:19.483559Z"
    }
   },
   "outputs": [
    {
     "data": {
      "text/plain": [
       "[<matplotlib.lines.Line2D at 0x195b9eaf0>]"
      ]
     },
     "execution_count": 21,
     "metadata": {},
     "output_type": "execute_result"
    },
    {
     "data": {
      "image/png": "[encoded data removed]",
      "text/plain": [
       "<Figure size 432x288 with 1 Axes>"
      ]
     },
     "metadata": {
      "needs_background": "light"
     },
     "output_type": "display_data"
    }
   ],
   "source": [
    "plt.plot(*hist.get_data())"
   ]
  },
  {
   "cell_type": "code",
   "execution_count": 22,
   "metadata": {
    "ExecuteTime": {
     "end_time": "2020-04-28T08:35:53.361519Z",
     "start_time": "2020-04-28T08:35:53.323189Z"
    }
   },
   "outputs": [],
   "source": [
    "class Deviation(object):\n",
    "    \"\"\"\n",
    "    Base class for calculating deviations\n",
    "    \n",
    "    target: true probability distribution function\n",
    "    \"\"\"\n",
    "    \n",
    "    def __init__(self, event_range, target):\n",
    "        self. target = target\n",
    "        self.range = event_range\n",
    "\n",
    "    def deviation_squared(self, x):\n",
    "        return (self.target(x) - self.estimate(x))**2\n",
    "    \n",
    "    def rmsd(self, sample, param):\n",
    "        pass\n",
    "    \n",
    "    def get_rmsds(self, sample):\n",
    "        return np.asarray([self.rmsd(sample, param) for param in self.params])\n",
    "\n",
    "    def get_rmsd_df(self, samples, params):\n",
    "        df = pd.DataFrame()\n",
    "        for param in params:\n",
    "            rmsd_ld = lambda sample: self.rmsd(sample, param)\n",
    "            df[param] = samples.apply(rmsd_ld)\n",
    "        return df\n",
    "    \n",
    "class HistogramDeviation(Deviation):\n",
    "    \"\"\"\n",
    "    Calculates rmsd between true probability distribution and a histrogram \n",
    "    \"\"\"\n",
    "    \n",
    "    # TODO: Sum over bins and divide with number of bins rather that integrate\n",
    "    \n",
    "    def integrate(self, bin_edges):\n",
    "        \"\"\"\n",
    "        Returns the piece-wise integrated deviation\n",
    "        \"\"\"\n",
    "        self.integration_ranges = zip(list(bin_edges[:-1]), list(bin_edges[1:]))\n",
    "        return sum([integrate.quad(self.deviation_squared, *xrange)[0] \n",
    "                    for xrange in self.integration_ranges])\n",
    "    \n",
    "    def rmsd(self, sample, nbins):\n",
    "        \"\"\"\n",
    "        Returns the root mean square deviation\"\"\"\n",
    "        frequencies, bin_edges = np.histogram(sample, bins=nbins, range=self.range)\n",
    "        frequencies = frequencies/np.sum(frequencies)\n",
    "        hist = Histogram(frequencies, self.range)\n",
    "        self.estimate = hist.pdf\n",
    "        return np.sqrt(self.integrate(bin_edges)/hist.width)\n",
    "    \n",
    "    \n",
    "class KDEDeviation(Deviation):\n",
    "    \"\"\"\n",
    "    Calculates rmsd between true probability distribution and kde\n",
    "    \"\"\"\n",
    "    \n",
    "    def integrate(self):\n",
    "        return integrate.quad(self.deviation_squared, *self.range, limit=100)[0]\n",
    "    \n",
    "    def estimate(self, x):\n",
    "        try:\n",
    "            return np.exp(self.kde.score_samples(x[:, np.newaxis]))\n",
    "        except TypeError:\n",
    "            return np.exp(self.kde.score_samples(np.asarray([x])[:, np.newaxis]))\n",
    "    \n",
    "    pdf = estimate\n",
    "    \n",
    "    def rmsd(self, sample, bandwidth):\n",
    "        self.kde = KernelDensity(kernel='gaussian', bandwidth=bandwidth).fit(sample[:, np.newaxis])\n",
    "        return np.sqrt(self.integrate()/(self.range[1]-self.range[0]))\n",
    "    \n",
    "        "
   ]
  },
  {
   "cell_type": "code",
   "execution_count": 23,
   "metadata": {
    "ExecuteTime": {
     "end_time": "2020-04-28T08:39:03.186493Z",
     "start_time": "2020-04-28T08:39:03.181812Z"
    }
   },
   "outputs": [],
   "source": [
    "hist_dev = HistogramDeviation(hist_range, trimodal.pdf)"
   ]
  },
  {
   "cell_type": "code",
   "execution_count": 24,
   "metadata": {
    "ExecuteTime": {
     "end_time": "2020-04-28T08:43:54.480193Z",
     "start_time": "2020-04-28T08:43:37.950279Z"
    }
   },
   "outputs": [
    {
     "data": {
      "text/html": [
       "<div>\n",
       "<style scoped>\n",
       "    .dataframe tbody tr th:only-of-type {\n",
       "        vertical-align: middle;\n",
       "    }\n",
       "\n",
       "    .dataframe tbody tr th {\n",
       "        vertical-align: top;\n",
       "    }\n",
       "\n",
       "    .dataframe thead th {\n",
       "        text-align: right;\n",
       "    }\n",
       "</style>\n",
       "<table border=\"1\" class=\"dataframe\">\n",
       "  <thead>\n",
       "    <tr style=\"text-align: right;\">\n",
       "      <th></th>\n",
       "      <th>6</th>\n",
       "      <th>9</th>\n",
       "      <th>12</th>\n",
       "      <th>15</th>\n",
       "      <th>18</th>\n",
       "      <th>21</th>\n",
       "      <th>24</th>\n",
       "    </tr>\n",
       "  </thead>\n",
       "  <tbody>\n",
       "    <tr>\n",
       "      <th>0</th>\n",
       "      <td>0.104220</td>\n",
       "      <td>0.057833</td>\n",
       "      <td>0.046878</td>\n",
       "      <td>0.055986</td>\n",
       "      <td>0.072489</td>\n",
       "      <td>0.077659</td>\n",
       "      <td>0.083926</td>\n",
       "    </tr>\n",
       "    <tr>\n",
       "      <th>1</th>\n",
       "      <td>0.104153</td>\n",
       "      <td>0.057850</td>\n",
       "      <td>0.046467</td>\n",
       "      <td>0.055284</td>\n",
       "      <td>0.072239</td>\n",
       "      <td>0.077089</td>\n",
       "      <td>0.083694</td>\n",
       "    </tr>\n",
       "    <tr>\n",
       "      <th>2</th>\n",
       "      <td>0.103957</td>\n",
       "      <td>0.057792</td>\n",
       "      <td>0.046285</td>\n",
       "      <td>0.054708</td>\n",
       "      <td>0.071814</td>\n",
       "      <td>0.077029</td>\n",
       "      <td>0.083238</td>\n",
       "    </tr>\n",
       "    <tr>\n",
       "      <th>3</th>\n",
       "      <td>0.104421</td>\n",
       "      <td>0.060177</td>\n",
       "      <td>0.046626</td>\n",
       "      <td>0.054436</td>\n",
       "      <td>0.070879</td>\n",
       "      <td>0.077032</td>\n",
       "      <td>0.082413</td>\n",
       "    </tr>\n",
       "    <tr>\n",
       "      <th>4</th>\n",
       "      <td>0.103359</td>\n",
       "      <td>0.058293</td>\n",
       "      <td>0.046988</td>\n",
       "      <td>0.054236</td>\n",
       "      <td>0.071890</td>\n",
       "      <td>0.077268</td>\n",
       "      <td>0.083832</td>\n",
       "    </tr>\n",
       "    <tr>\n",
       "      <th>5</th>\n",
       "      <td>0.105463</td>\n",
       "      <td>0.058017</td>\n",
       "      <td>0.046013</td>\n",
       "      <td>0.055519</td>\n",
       "      <td>0.071389</td>\n",
       "      <td>0.076555</td>\n",
       "      <td>0.083809</td>\n",
       "    </tr>\n",
       "    <tr>\n",
       "      <th>6</th>\n",
       "      <td>0.103387</td>\n",
       "      <td>0.057405</td>\n",
       "      <td>0.047527</td>\n",
       "      <td>0.056550</td>\n",
       "      <td>0.072095</td>\n",
       "      <td>0.077763</td>\n",
       "      <td>0.084333</td>\n",
       "    </tr>\n",
       "    <tr>\n",
       "      <th>7</th>\n",
       "      <td>0.105522</td>\n",
       "      <td>0.057733</td>\n",
       "      <td>0.046143</td>\n",
       "      <td>0.056044</td>\n",
       "      <td>0.072098</td>\n",
       "      <td>0.076955</td>\n",
       "      <td>0.083627</td>\n",
       "    </tr>\n",
       "    <tr>\n",
       "      <th>8</th>\n",
       "      <td>0.103144</td>\n",
       "      <td>0.059234</td>\n",
       "      <td>0.047153</td>\n",
       "      <td>0.055665</td>\n",
       "      <td>0.071846</td>\n",
       "      <td>0.077634</td>\n",
       "      <td>0.083279</td>\n",
       "    </tr>\n",
       "    <tr>\n",
       "      <th>9</th>\n",
       "      <td>0.104181</td>\n",
       "      <td>0.058609</td>\n",
       "      <td>0.046447</td>\n",
       "      <td>0.054623</td>\n",
       "      <td>0.071214</td>\n",
       "      <td>0.076979</td>\n",
       "      <td>0.082882</td>\n",
       "    </tr>\n",
       "  </tbody>\n",
       "</table>\n",
       "</div>"
      ],
      "text/plain": [
       "         6         9         12        15        18        21        24\n",
       "0  0.104220  0.057833  0.046878  0.055986  0.072489  0.077659  0.083926\n",
       "1  0.104153  0.057850  0.046467  0.055284  0.072239  0.077089  0.083694\n",
       "2  0.103957  0.057792  0.046285  0.054708  0.071814  0.077029  0.083238\n",
       "3  0.104421  0.060177  0.046626  0.054436  0.070879  0.077032  0.082413\n",
       "4  0.103359  0.058293  0.046988  0.054236  0.071890  0.077268  0.083832\n",
       "5  0.105463  0.058017  0.046013  0.055519  0.071389  0.076555  0.083809\n",
       "6  0.103387  0.057405  0.047527  0.056550  0.072095  0.077763  0.084333\n",
       "7  0.105522  0.057733  0.046143  0.056044  0.072098  0.076955  0.083627\n",
       "8  0.103144  0.059234  0.047153  0.055665  0.071846  0.077634  0.083279\n",
       "9  0.104181  0.058609  0.046447  0.054623  0.071214  0.076979  0.082882"
      ]
     },
     "execution_count": 24,
     "metadata": {},
     "output_type": "execute_result"
    }
   ],
   "source": [
    "#nbins_range = list(range(1,25)) + list(range(25,50,5))\n",
    "nbins_range = list(range(6,25,3))\n",
    "hist_dev.params = nbins_range\n",
    "#hist_rmsd = pd.DataFrame(samples.apply(hist_dev.get_rmsds))\n",
    "hist_rmsd = hist_dev.get_rmsd_df(samples, nbins_range)\n",
    "hist_rmsd"
   ]
  },
  {
   "cell_type": "code",
   "execution_count": 25,
   "metadata": {
    "ExecuteTime": {
     "end_time": "2020-04-28T08:43:57.215497Z",
     "start_time": "2020-04-28T08:43:57.204582Z"
    }
   },
   "outputs": [],
   "source": [
    "hist_means = hist_rmsd.mean()\n",
    "hist_stds  = hist_rmsd.std()"
   ]
  },
  {
   "cell_type": "code",
   "execution_count": 26,
   "metadata": {
    "ExecuteTime": {
     "end_time": "2020-04-28T08:43:58.921999Z",
     "start_time": "2020-04-28T08:43:58.432480Z"
    }
   },
   "outputs": [
    {
     "data": {
      "text/plain": [
       "<ErrorbarContainer object of 3 artists>"
      ]
     },
     "execution_count": 26,
     "metadata": {},
     "output_type": "execute_result"
    },
    {
     "data": {
      "image/png": "[encoded data removed]",
      "text/plain": [
       "<Figure size 432x288 with 1 Axes>"
      ]
     },
     "metadata": {
      "needs_background": "light"
     },
     "output_type": "display_data"
    }
   ],
   "source": [
    "plt.errorbar(nbins_range, hist_means, yerr=hist_stds)"
   ]
  },
  {
   "cell_type": "code",
   "execution_count": 27,
   "metadata": {
    "ExecuteTime": {
     "end_time": "2020-04-28T08:44:01.574260Z",
     "start_time": "2020-04-28T08:44:01.570222Z"
    }
   },
   "outputs": [],
   "source": [
    "hist_mean = histograms.mean(axis=1)"
   ]
  },
  {
   "cell_type": "code",
   "execution_count": 28,
   "metadata": {
    "ExecuteTime": {
     "end_time": "2020-04-28T08:44:04.940963Z",
     "start_time": "2020-04-28T08:44:04.934292Z"
    }
   },
   "outputs": [],
   "source": [
    "hist_std = histograms.std(axis=1)"
   ]
  },
  {
   "cell_type": "code",
   "execution_count": 29,
   "metadata": {
    "ExecuteTime": {
     "end_time": "2020-04-28T08:44:06.442854Z",
     "start_time": "2020-04-28T08:44:06.105107Z"
    }
   },
   "outputs": [
    {
     "data": {
      "text/plain": [
       "[<matplotlib.lines.Line2D at 0x195d48b80>]"
      ]
     },
     "execution_count": 29,
     "metadata": {},
     "output_type": "execute_result"
    },
    {
     "data": {
      "image/png": "[encoded data removed]",
      "text/plain": [
       "<Figure size 432x288 with 1 Axes>"
      ]
     },
     "metadata": {
      "needs_background": "light"
     },
     "output_type": "display_data"
    }
   ],
   "source": [
    "plt.errorbar(np.linspace(*hist_range, nbins), y=hist_mean, yerr=hist_std)\n",
    "plt.plot(xgrid, trimodal.pdf(xgrid))"
   ]
  },
  {
   "cell_type": "code",
   "execution_count": 30,
   "metadata": {
    "ExecuteTime": {
     "end_time": "2020-04-28T08:47:31.303765Z",
     "start_time": "2020-04-28T08:47:31.296295Z"
    }
   },
   "outputs": [
    {
     "name": "stderr",
     "output_type": "stream",
     "text": [
      "<ipython-input-30-7c9465ce866b>:1: FutureWarning: Support for multi-dimensional indexing (e.g. `obj[:, None]`) is deprecated and will be removed in a future version.  Convert to a numpy array before indexing instead.\n",
      "  kde02 = KernelDensity(kernel='gaussian', bandwidth=0.2).fit(samples[2][:, np.newaxis])\n"
     ]
    }
   ],
   "source": [
    "kde02 = KernelDensity(kernel='gaussian', bandwidth=0.2).fit(samples[2][:, np.newaxis])"
   ]
  },
  {
   "cell_type": "code",
   "execution_count": 31,
   "metadata": {
    "ExecuteTime": {
     "end_time": "2020-04-28T08:47:32.185621Z",
     "start_time": "2020-04-28T08:47:31.935438Z"
    }
   },
   "outputs": [
    {
     "data": {
      "text/plain": [
       "[<matplotlib.lines.Line2D at 0x195da78b0>]"
      ]
     },
     "execution_count": 31,
     "metadata": {},
     "output_type": "execute_result"
    },
    {
     "data": {
      "image/png": "[encoded data removed]",
      "text/plain": [
       "<Figure size 432x288 with 1 Axes>"
      ]
     },
     "metadata": {
      "needs_background": "light"
     },
     "output_type": "display_data"
    }
   ],
   "source": [
    "plt.plot(xgrid, np.exp(kde02.score_samples(xgrid[:, np.newaxis])))"
   ]
  },
  {
   "cell_type": "code",
   "execution_count": 32,
   "metadata": {
    "ExecuteTime": {
     "end_time": "2020-04-28T08:47:32.668858Z",
     "start_time": "2020-04-28T08:47:32.655919Z"
    }
   },
   "outputs": [
    {
     "name": "stderr",
     "output_type": "stream",
     "text": [
      "<ipython-input-32-eeec130b8f1d>:1: FutureWarning: Support for multi-dimensional indexing (e.g. `obj[:, None]`) is deprecated and will be removed in a future version.  Convert to a numpy array before indexing instead.\n",
      "  kde01 = KernelDensity(kernel='gaussian', bandwidth=0.1).fit(samples[0][:, np.newaxis])\n"
     ]
    }
   ],
   "source": [
    "kde01 = KernelDensity(kernel='gaussian', bandwidth=0.1).fit(samples[0][:, np.newaxis])"
   ]
  },
  {
   "cell_type": "code",
   "execution_count": 33,
   "metadata": {
    "ExecuteTime": {
     "end_time": "2020-04-28T08:47:33.442568Z",
     "start_time": "2020-04-28T08:47:33.189872Z"
    }
   },
   "outputs": [
    {
     "data": {
      "text/plain": [
       "[<matplotlib.lines.Line2D at 0x195e080d0>]"
      ]
     },
     "execution_count": 33,
     "metadata": {},
     "output_type": "execute_result"
    },
    {
     "data": {
      "image/png": "[encoded data removed]",
      "text/plain": [
       "<Figure size 432x288 with 1 Axes>"
      ]
     },
     "metadata": {
      "needs_background": "light"
     },
     "output_type": "display_data"
    }
   ],
   "source": [
    "plt.plot(xgrid, np.exp(kde01.score_samples(xgrid[:,np.newaxis])))"
   ]
  },
  {
   "cell_type": "code",
   "execution_count": 34,
   "metadata": {
    "ExecuteTime": {
     "end_time": "2020-04-28T08:47:33.913597Z",
     "start_time": "2020-04-28T08:47:33.906704Z"
    }
   },
   "outputs": [],
   "source": [
    "kde_dev = KDEDeviation(hist_range, trimodal.pdf)"
   ]
  },
  {
   "cell_type": "code",
   "execution_count": 35,
   "metadata": {
    "ExecuteTime": {
     "end_time": "2020-04-28T08:47:35.506342Z",
     "start_time": "2020-04-28T08:47:34.484716Z"
    }
   },
   "outputs": [
    {
     "name": "stderr",
     "output_type": "stream",
     "text": [
      "<ipython-input-22-87449d211d79>:70: FutureWarning: Support for multi-dimensional indexing (e.g. `obj[:, None]`) is deprecated and will be removed in a future version.  Convert to a numpy array before indexing instead.\n",
      "  self.kde = KernelDensity(kernel='gaussian', bandwidth=bandwidth).fit(sample[:, np.newaxis])\n"
     ]
    },
    {
     "data": {
      "text/plain": [
       "0.012552797782692127"
      ]
     },
     "execution_count": 35,
     "metadata": {},
     "output_type": "execute_result"
    }
   ],
   "source": [
    "kde_dev.rmsd(samples[9], .1)"
   ]
  },
  {
   "cell_type": "code",
   "execution_count": 36,
   "metadata": {
    "ExecuteTime": {
     "end_time": "2020-04-28T08:47:37.286368Z",
     "start_time": "2020-04-28T08:47:37.275340Z"
    }
   },
   "outputs": [
    {
     "data": {
      "text/plain": [
       "array([0.03      , 0.04100929, 0.05605872, 0.07663094, 0.10475268,\n",
       "       0.14319443, 0.19574338, 0.26757656, 0.3657708 , 0.5       ])"
      ]
     },
     "execution_count": 36,
     "metadata": {},
     "output_type": "execute_result"
    }
   ],
   "source": [
    "# define bandwidths to iterate over\n",
    "bandwidth_range = np.logspace(np.log10(0.03), np.log10(0.5), 10)\n",
    "#bandwidth_range = np.linspace(0.03,0.5, 10)\n",
    "bandwidth_range"
   ]
  },
  {
   "cell_type": "code",
   "execution_count": 37,
   "metadata": {
    "ExecuteTime": {
     "end_time": "2020-04-28T08:47:48.934545Z",
     "start_time": "2020-04-28T08:47:37.920993Z"
    }
   },
   "outputs": [
    {
     "name": "stderr",
     "output_type": "stream",
     "text": [
      "<ipython-input-22-87449d211d79>:70: FutureWarning: Support for multi-dimensional indexing (e.g. `obj[:, None]`) is deprecated and will be removed in a future version.  Convert to a numpy array before indexing instead.\n",
      "  self.kde = KernelDensity(kernel='gaussian', bandwidth=bandwidth).fit(sample[:, np.newaxis])\n",
      "<ipython-input-22-87449d211d79>:70: FutureWarning: Support for multi-dimensional indexing (e.g. `obj[:, None]`) is deprecated and will be removed in a future version.  Convert to a numpy array before indexing instead.\n",
      "  self.kde = KernelDensity(kernel='gaussian', bandwidth=bandwidth).fit(sample[:, np.newaxis])\n",
      "<ipython-input-22-87449d211d79>:70: FutureWarning: Support for multi-dimensional indexing (e.g. `obj[:, None]`) is deprecated and will be removed in a future version.  Convert to a numpy array before indexing instead.\n",
      "  self.kde = KernelDensity(kernel='gaussian', bandwidth=bandwidth).fit(sample[:, np.newaxis])\n",
      "<ipython-input-22-87449d211d79>:70: FutureWarning: Support for multi-dimensional indexing (e.g. `obj[:, None]`) is deprecated and will be removed in a future version.  Convert to a numpy array before indexing instead.\n",
      "  self.kde = KernelDensity(kernel='gaussian', bandwidth=bandwidth).fit(sample[:, np.newaxis])\n",
      "<ipython-input-22-87449d211d79>:70: FutureWarning: Support for multi-dimensional indexing (e.g. `obj[:, None]`) is deprecated and will be removed in a future version.  Convert to a numpy array before indexing instead.\n",
      "  self.kde = KernelDensity(kernel='gaussian', bandwidth=bandwidth).fit(sample[:, np.newaxis])\n",
      "<ipython-input-22-87449d211d79>:70: FutureWarning: Support for multi-dimensional indexing (e.g. `obj[:, None]`) is deprecated and will be removed in a future version.  Convert to a numpy array before indexing instead.\n",
      "  self.kde = KernelDensity(kernel='gaussian', bandwidth=bandwidth).fit(sample[:, np.newaxis])\n",
      "<ipython-input-22-87449d211d79>:70: FutureWarning: Support for multi-dimensional indexing (e.g. `obj[:, None]`) is deprecated and will be removed in a future version.  Convert to a numpy array before indexing instead.\n",
      "  self.kde = KernelDensity(kernel='gaussian', bandwidth=bandwidth).fit(sample[:, np.newaxis])\n",
      "<ipython-input-22-87449d211d79>:70: FutureWarning: Support for multi-dimensional indexing (e.g. `obj[:, None]`) is deprecated and will be removed in a future version.  Convert to a numpy array before indexing instead.\n",
      "  self.kde = KernelDensity(kernel='gaussian', bandwidth=bandwidth).fit(sample[:, np.newaxis])\n",
      "<ipython-input-22-87449d211d79>:70: FutureWarning: Support for multi-dimensional indexing (e.g. `obj[:, None]`) is deprecated and will be removed in a future version.  Convert to a numpy array before indexing instead.\n",
      "  self.kde = KernelDensity(kernel='gaussian', bandwidth=bandwidth).fit(sample[:, np.newaxis])\n",
      "<ipython-input-22-87449d211d79>:70: FutureWarning: Support for multi-dimensional indexing (e.g. `obj[:, None]`) is deprecated and will be removed in a future version.  Convert to a numpy array before indexing instead.\n",
      "  self.kde = KernelDensity(kernel='gaussian', bandwidth=bandwidth).fit(sample[:, np.newaxis])\n"
     ]
    },
    {
     "data": {
      "text/plain": [
       "[0.02831014582779955,\n",
       " 0.02257064832180344,\n",
       " 0.01761803601982588,\n",
       " 0.01394344298370272,\n",
       " 0.01252870129446263,\n",
       " 0.014221956824637366,\n",
       " 0.01887790184954521,\n",
       " 0.025740772153713346,\n",
       " 0.03392350489726047,\n",
       " 0.042549280079862785]"
      ]
     },
     "execution_count": 37,
     "metadata": {},
     "output_type": "execute_result"
    }
   ],
   "source": [
    "[kde_dev.rmsd(samples[9], bw) for bw in bandwidth_range]"
   ]
  },
  {
   "cell_type": "code",
   "execution_count": 38,
   "metadata": {
    "ExecuteTime": {
     "end_time": "2020-04-28T08:48:01.098563Z",
     "start_time": "2020-04-28T08:47:49.164201Z"
    }
   },
   "outputs": [
    {
     "name": "stderr",
     "output_type": "stream",
     "text": [
      "<ipython-input-22-87449d211d79>:70: FutureWarning: Support for multi-dimensional indexing (e.g. `obj[:, None]`) is deprecated and will be removed in a future version.  Convert to a numpy array before indexing instead.\n",
      "  self.kde = KernelDensity(kernel='gaussian', bandwidth=bandwidth).fit(sample[:, np.newaxis])\n",
      "<ipython-input-22-87449d211d79>:70: FutureWarning: Support for multi-dimensional indexing (e.g. `obj[:, None]`) is deprecated and will be removed in a future version.  Convert to a numpy array before indexing instead.\n",
      "  self.kde = KernelDensity(kernel='gaussian', bandwidth=bandwidth).fit(sample[:, np.newaxis])\n",
      "<ipython-input-22-87449d211d79>:70: FutureWarning: Support for multi-dimensional indexing (e.g. `obj[:, None]`) is deprecated and will be removed in a future version.  Convert to a numpy array before indexing instead.\n",
      "  self.kde = KernelDensity(kernel='gaussian', bandwidth=bandwidth).fit(sample[:, np.newaxis])\n",
      "<ipython-input-22-87449d211d79>:70: FutureWarning: Support for multi-dimensional indexing (e.g. `obj[:, None]`) is deprecated and will be removed in a future version.  Convert to a numpy array before indexing instead.\n",
      "  self.kde = KernelDensity(kernel='gaussian', bandwidth=bandwidth).fit(sample[:, np.newaxis])\n",
      "<ipython-input-22-87449d211d79>:70: FutureWarning: Support for multi-dimensional indexing (e.g. `obj[:, None]`) is deprecated and will be removed in a future version.  Convert to a numpy array before indexing instead.\n",
      "  self.kde = KernelDensity(kernel='gaussian', bandwidth=bandwidth).fit(sample[:, np.newaxis])\n",
      "<ipython-input-22-87449d211d79>:70: FutureWarning: Support for multi-dimensional indexing (e.g. `obj[:, None]`) is deprecated and will be removed in a future version.  Convert to a numpy array before indexing instead.\n",
      "  self.kde = KernelDensity(kernel='gaussian', bandwidth=bandwidth).fit(sample[:, np.newaxis])\n",
      "<ipython-input-22-87449d211d79>:70: FutureWarning: Support for multi-dimensional indexing (e.g. `obj[:, None]`) is deprecated and will be removed in a future version.  Convert to a numpy array before indexing instead.\n",
      "  self.kde = KernelDensity(kernel='gaussian', bandwidth=bandwidth).fit(sample[:, np.newaxis])\n",
      "<ipython-input-22-87449d211d79>:70: FutureWarning: Support for multi-dimensional indexing (e.g. `obj[:, None]`) is deprecated and will be removed in a future version.  Convert to a numpy array before indexing instead.\n",
      "  self.kde = KernelDensity(kernel='gaussian', bandwidth=bandwidth).fit(sample[:, np.newaxis])\n",
      "<ipython-input-22-87449d211d79>:70: FutureWarning: Support for multi-dimensional indexing (e.g. `obj[:, None]`) is deprecated and will be removed in a future version.  Convert to a numpy array before indexing instead.\n",
      "  self.kde = KernelDensity(kernel='gaussian', bandwidth=bandwidth).fit(sample[:, np.newaxis])\n",
      "<ipython-input-22-87449d211d79>:70: FutureWarning: Support for multi-dimensional indexing (e.g. `obj[:, None]`) is deprecated and will be removed in a future version.  Convert to a numpy array before indexing instead.\n",
      "  self.kde = KernelDensity(kernel='gaussian', bandwidth=bandwidth).fit(sample[:, np.newaxis])\n"
     ]
    },
    {
     "data": {
      "text/plain": [
       "array([0.03137505, 0.02724541, 0.02334533, 0.01999336, 0.01781727,\n",
       "       0.01789363, 0.02129289, 0.0276294 , 0.03548479, 0.0436308 ])"
      ]
     },
     "execution_count": 38,
     "metadata": {},
     "output_type": "execute_result"
    }
   ],
   "source": [
    "kde_dev.params = bandwidth_range\n",
    "kde_dev.get_rmsds(samples[0])"
   ]
  },
  {
   "cell_type": "code",
   "execution_count": 48,
   "metadata": {
    "ExecuteTime": {
     "end_time": "2020-04-28T08:50:11.118916Z",
     "start_time": "2020-04-28T08:48:01.376160Z"
    }
   },
   "outputs": [],
   "source": [
    "rmsd_kde = pd.DataFrame(samples.apply(kde_dev.get_rmsds))"
   ]
  },
  {
   "cell_type": "code",
   "execution_count": 49,
   "metadata": {
    "ExecuteTime": {
     "end_time": "2020-04-28T08:50:11.473104Z",
     "start_time": "2020-04-28T08:50:11.432761Z"
    }
   },
   "outputs": [
    {
     "data": {
      "text/html": [
       "<div>\n",
       "<style scoped>\n",
       "    .dataframe tbody tr th:only-of-type {\n",
       "        vertical-align: middle;\n",
       "    }\n",
       "\n",
       "    .dataframe tbody tr th {\n",
       "        vertical-align: top;\n",
       "    }\n",
       "\n",
       "    .dataframe thead th {\n",
       "        text-align: right;\n",
       "    }\n",
       "</style>\n",
       "<table border=\"1\" class=\"dataframe\">\n",
       "  <thead>\n",
       "    <tr style=\"text-align: right;\">\n",
       "      <th></th>\n",
       "      <th>0</th>\n",
       "      <th>1</th>\n",
       "      <th>2</th>\n",
       "      <th>3</th>\n",
       "      <th>4</th>\n",
       "      <th>5</th>\n",
       "      <th>6</th>\n",
       "      <th>7</th>\n",
       "      <th>8</th>\n",
       "      <th>9</th>\n",
       "    </tr>\n",
       "  </thead>\n",
       "  <tbody>\n",
       "    <tr>\n",
       "      <th>0</th>\n",
       "      <td>0.035496</td>\n",
       "      <td>0.031800</td>\n",
       "      <td>0.034465</td>\n",
       "      <td>0.030325</td>\n",
       "      <td>0.030556</td>\n",
       "      <td>0.030412</td>\n",
       "      <td>0.029341</td>\n",
       "      <td>0.027100</td>\n",
       "      <td>0.026457</td>\n",
       "      <td>0.032227</td>\n",
       "    </tr>\n",
       "    <tr>\n",
       "      <th>1</th>\n",
       "      <td>0.031062</td>\n",
       "      <td>0.028310</td>\n",
       "      <td>0.030008</td>\n",
       "      <td>0.026238</td>\n",
       "      <td>0.025991</td>\n",
       "      <td>0.026233</td>\n",
       "      <td>0.025577</td>\n",
       "      <td>0.023342</td>\n",
       "      <td>0.021560</td>\n",
       "      <td>0.027249</td>\n",
       "    </tr>\n",
       "    <tr>\n",
       "      <th>2</th>\n",
       "      <td>0.026809</td>\n",
       "      <td>0.025215</td>\n",
       "      <td>0.026201</td>\n",
       "      <td>0.022554</td>\n",
       "      <td>0.022632</td>\n",
       "      <td>0.022405</td>\n",
       "      <td>0.022376</td>\n",
       "      <td>0.020219</td>\n",
       "      <td>0.017279</td>\n",
       "      <td>0.022479</td>\n",
       "    </tr>\n",
       "    <tr>\n",
       "      <th>3</th>\n",
       "      <td>0.023055</td>\n",
       "      <td>0.022385</td>\n",
       "      <td>0.022905</td>\n",
       "      <td>0.019309</td>\n",
       "      <td>0.020251</td>\n",
       "      <td>0.019453</td>\n",
       "      <td>0.019314</td>\n",
       "      <td>0.017970</td>\n",
       "      <td>0.014003</td>\n",
       "      <td>0.018033</td>\n",
       "    </tr>\n",
       "    <tr>\n",
       "      <th>4</th>\n",
       "      <td>0.020386</td>\n",
       "      <td>0.019994</td>\n",
       "      <td>0.020021</td>\n",
       "      <td>0.017190</td>\n",
       "      <td>0.018579</td>\n",
       "      <td>0.018055</td>\n",
       "      <td>0.016654</td>\n",
       "      <td>0.016990</td>\n",
       "      <td>0.012210</td>\n",
       "      <td>0.014324</td>\n",
       "    </tr>\n",
       "    <tr>\n",
       "      <th>5</th>\n",
       "      <td>0.019448</td>\n",
       "      <td>0.018893</td>\n",
       "      <td>0.018595</td>\n",
       "      <td>0.017274</td>\n",
       "      <td>0.018075</td>\n",
       "      <td>0.018721</td>\n",
       "      <td>0.015865</td>\n",
       "      <td>0.018071</td>\n",
       "      <td>0.012807</td>\n",
       "      <td>0.012662</td>\n",
       "    </tr>\n",
       "    <tr>\n",
       "      <th>6</th>\n",
       "      <td>0.021301</td>\n",
       "      <td>0.020837</td>\n",
       "      <td>0.020670</td>\n",
       "      <td>0.020485</td>\n",
       "      <td>0.020237</td>\n",
       "      <td>0.022047</td>\n",
       "      <td>0.018965</td>\n",
       "      <td>0.021822</td>\n",
       "      <td>0.016772</td>\n",
       "      <td>0.015678</td>\n",
       "    </tr>\n",
       "    <tr>\n",
       "      <th>7</th>\n",
       "      <td>0.026388</td>\n",
       "      <td>0.026511</td>\n",
       "      <td>0.026597</td>\n",
       "      <td>0.026675</td>\n",
       "      <td>0.025933</td>\n",
       "      <td>0.028113</td>\n",
       "      <td>0.025489</td>\n",
       "      <td>0.027859</td>\n",
       "      <td>0.023707</td>\n",
       "      <td>0.023140</td>\n",
       "    </tr>\n",
       "    <tr>\n",
       "      <th>8</th>\n",
       "      <td>0.033715</td>\n",
       "      <td>0.034411</td>\n",
       "      <td>0.034664</td>\n",
       "      <td>0.034662</td>\n",
       "      <td>0.034065</td>\n",
       "      <td>0.035992</td>\n",
       "      <td>0.033610</td>\n",
       "      <td>0.035353</td>\n",
       "      <td>0.032405</td>\n",
       "      <td>0.032471</td>\n",
       "    </tr>\n",
       "    <tr>\n",
       "      <th>9</th>\n",
       "      <td>0.042181</td>\n",
       "      <td>0.042710</td>\n",
       "      <td>0.043400</td>\n",
       "      <td>0.043081</td>\n",
       "      <td>0.042909</td>\n",
       "      <td>0.044385</td>\n",
       "      <td>0.042139</td>\n",
       "      <td>0.043354</td>\n",
       "      <td>0.041666</td>\n",
       "      <td>0.041910</td>\n",
       "    </tr>\n",
       "  </tbody>\n",
       "</table>\n",
       "</div>"
      ],
      "text/plain": [
       "          0         1         2         3         4         5         6  \\\n",
       "0  0.035496  0.031800  0.034465  0.030325  0.030556  0.030412  0.029341   \n",
       "1  0.031062  0.028310  0.030008  0.026238  0.025991  0.026233  0.025577   \n",
       "2  0.026809  0.025215  0.026201  0.022554  0.022632  0.022405  0.022376   \n",
       "3  0.023055  0.022385  0.022905  0.019309  0.020251  0.019453  0.019314   \n",
       "4  0.020386  0.019994  0.020021  0.017190  0.018579  0.018055  0.016654   \n",
       "5  0.019448  0.018893  0.018595  0.017274  0.018075  0.018721  0.015865   \n",
       "6  0.021301  0.020837  0.020670  0.020485  0.020237  0.022047  0.018965   \n",
       "7  0.026388  0.026511  0.026597  0.026675  0.025933  0.028113  0.025489   \n",
       "8  0.033715  0.034411  0.034664  0.034662  0.034065  0.035992  0.033610   \n",
       "9  0.042181  0.042710  0.043400  0.043081  0.042909  0.044385  0.042139   \n",
       "\n",
       "          7         8         9  \n",
       "0  0.027100  0.026457  0.032227  \n",
       "1  0.023342  0.021560  0.027249  \n",
       "2  0.020219  0.017279  0.022479  \n",
       "3  0.017970  0.014003  0.018033  \n",
       "4  0.016990  0.012210  0.014324  \n",
       "5  0.018071  0.012807  0.012662  \n",
       "6  0.021822  0.016772  0.015678  \n",
       "7  0.027859  0.023707  0.023140  \n",
       "8  0.035353  0.032405  0.032471  \n",
       "9  0.043354  0.041666  0.041910  "
      ]
     },
     "execution_count": 49,
     "metadata": {},
     "output_type": "execute_result"
    }
   ],
   "source": [
    "rmsd_kde"
   ]
  },
  {
   "cell_type": "code",
   "execution_count": 50,
   "metadata": {
    "ExecuteTime": {
     "end_time": "2020-04-28T08:52:10.069448Z",
     "start_time": "2020-04-28T08:50:11.927208Z"
    }
   },
   "outputs": [],
   "source": [
    "rmsd_kde = kde_dev.get_rmsd_df(samples, bandwidth_range)"
   ]
  },
  {
   "cell_type": "code",
   "execution_count": 51,
   "metadata": {
    "ExecuteTime": {
     "end_time": "2020-04-28T08:52:10.248252Z",
     "start_time": "2020-04-28T08:52:10.214139Z"
    },
    "run_control": {
     "marked": true
    }
   },
   "outputs": [
    {
     "data": {
      "text/html": [
       "<div>\n",
       "<style scoped>\n",
       "    .dataframe tbody tr th:only-of-type {\n",
       "        vertical-align: middle;\n",
       "    }\n",
       "\n",
       "    .dataframe tbody tr th {\n",
       "        vertical-align: top;\n",
       "    }\n",
       "\n",
       "    .dataframe thead th {\n",
       "        text-align: right;\n",
       "    }\n",
       "</style>\n",
       "<table border=\"1\" class=\"dataframe\">\n",
       "  <thead>\n",
       "    <tr style=\"text-align: right;\">\n",
       "      <th></th>\n",
       "      <th>0.030000</th>\n",
       "      <th>0.041009</th>\n",
       "      <th>0.056059</th>\n",
       "      <th>0.076631</th>\n",
       "      <th>0.104753</th>\n",
       "      <th>0.143194</th>\n",
       "      <th>0.195743</th>\n",
       "      <th>0.267577</th>\n",
       "      <th>0.365771</th>\n",
       "      <th>0.500000</th>\n",
       "    </tr>\n",
       "  </thead>\n",
       "  <tbody>\n",
       "    <tr>\n",
       "      <th>0</th>\n",
       "      <td>0.035496</td>\n",
       "      <td>0.031062</td>\n",
       "      <td>0.026809</td>\n",
       "      <td>0.023055</td>\n",
       "      <td>0.020386</td>\n",
       "      <td>0.019448</td>\n",
       "      <td>0.021301</td>\n",
       "      <td>0.026388</td>\n",
       "      <td>0.033715</td>\n",
       "      <td>0.042181</td>\n",
       "    </tr>\n",
       "    <tr>\n",
       "      <th>1</th>\n",
       "      <td>0.031800</td>\n",
       "      <td>0.028310</td>\n",
       "      <td>0.025215</td>\n",
       "      <td>0.022385</td>\n",
       "      <td>0.019994</td>\n",
       "      <td>0.018893</td>\n",
       "      <td>0.020837</td>\n",
       "      <td>0.026511</td>\n",
       "      <td>0.034411</td>\n",
       "      <td>0.042710</td>\n",
       "    </tr>\n",
       "    <tr>\n",
       "      <th>2</th>\n",
       "      <td>0.034465</td>\n",
       "      <td>0.030008</td>\n",
       "      <td>0.026201</td>\n",
       "      <td>0.022905</td>\n",
       "      <td>0.020021</td>\n",
       "      <td>0.018595</td>\n",
       "      <td>0.020670</td>\n",
       "      <td>0.026597</td>\n",
       "      <td>0.034664</td>\n",
       "      <td>0.043400</td>\n",
       "    </tr>\n",
       "    <tr>\n",
       "      <th>3</th>\n",
       "      <td>0.030325</td>\n",
       "      <td>0.026238</td>\n",
       "      <td>0.022554</td>\n",
       "      <td>0.019309</td>\n",
       "      <td>0.017190</td>\n",
       "      <td>0.017274</td>\n",
       "      <td>0.020485</td>\n",
       "      <td>0.026675</td>\n",
       "      <td>0.034662</td>\n",
       "      <td>0.043081</td>\n",
       "    </tr>\n",
       "    <tr>\n",
       "      <th>4</th>\n",
       "      <td>0.030556</td>\n",
       "      <td>0.025991</td>\n",
       "      <td>0.022632</td>\n",
       "      <td>0.020251</td>\n",
       "      <td>0.018579</td>\n",
       "      <td>0.018075</td>\n",
       "      <td>0.020237</td>\n",
       "      <td>0.025933</td>\n",
       "      <td>0.034065</td>\n",
       "      <td>0.042909</td>\n",
       "    </tr>\n",
       "    <tr>\n",
       "      <th>5</th>\n",
       "      <td>0.030412</td>\n",
       "      <td>0.026233</td>\n",
       "      <td>0.022405</td>\n",
       "      <td>0.019453</td>\n",
       "      <td>0.018055</td>\n",
       "      <td>0.018721</td>\n",
       "      <td>0.022047</td>\n",
       "      <td>0.028113</td>\n",
       "      <td>0.035992</td>\n",
       "      <td>0.044385</td>\n",
       "    </tr>\n",
       "    <tr>\n",
       "      <th>6</th>\n",
       "      <td>0.029341</td>\n",
       "      <td>0.025577</td>\n",
       "      <td>0.022376</td>\n",
       "      <td>0.019314</td>\n",
       "      <td>0.016654</td>\n",
       "      <td>0.015865</td>\n",
       "      <td>0.018965</td>\n",
       "      <td>0.025489</td>\n",
       "      <td>0.033610</td>\n",
       "      <td>0.042139</td>\n",
       "    </tr>\n",
       "    <tr>\n",
       "      <th>7</th>\n",
       "      <td>0.027100</td>\n",
       "      <td>0.023342</td>\n",
       "      <td>0.020219</td>\n",
       "      <td>0.017970</td>\n",
       "      <td>0.016990</td>\n",
       "      <td>0.018071</td>\n",
       "      <td>0.021822</td>\n",
       "      <td>0.027859</td>\n",
       "      <td>0.035353</td>\n",
       "      <td>0.043354</td>\n",
       "    </tr>\n",
       "    <tr>\n",
       "      <th>8</th>\n",
       "      <td>0.026457</td>\n",
       "      <td>0.021560</td>\n",
       "      <td>0.017279</td>\n",
       "      <td>0.014003</td>\n",
       "      <td>0.012210</td>\n",
       "      <td>0.012807</td>\n",
       "      <td>0.016772</td>\n",
       "      <td>0.023707</td>\n",
       "      <td>0.032405</td>\n",
       "      <td>0.041666</td>\n",
       "    </tr>\n",
       "    <tr>\n",
       "      <th>9</th>\n",
       "      <td>0.032227</td>\n",
       "      <td>0.027249</td>\n",
       "      <td>0.022479</td>\n",
       "      <td>0.018033</td>\n",
       "      <td>0.014324</td>\n",
       "      <td>0.012662</td>\n",
       "      <td>0.015678</td>\n",
       "      <td>0.023140</td>\n",
       "      <td>0.032471</td>\n",
       "      <td>0.041910</td>\n",
       "    </tr>\n",
       "  </tbody>\n",
       "</table>\n",
       "</div>"
      ],
      "text/plain": [
       "   0.030000  0.041009  0.056059  0.076631  0.104753  0.143194  0.195743  \\\n",
       "0  0.035496  0.031062  0.026809  0.023055  0.020386  0.019448  0.021301   \n",
       "1  0.031800  0.028310  0.025215  0.022385  0.019994  0.018893  0.020837   \n",
       "2  0.034465  0.030008  0.026201  0.022905  0.020021  0.018595  0.020670   \n",
       "3  0.030325  0.026238  0.022554  0.019309  0.017190  0.017274  0.020485   \n",
       "4  0.030556  0.025991  0.022632  0.020251  0.018579  0.018075  0.020237   \n",
       "5  0.030412  0.026233  0.022405  0.019453  0.018055  0.018721  0.022047   \n",
       "6  0.029341  0.025577  0.022376  0.019314  0.016654  0.015865  0.018965   \n",
       "7  0.027100  0.023342  0.020219  0.017970  0.016990  0.018071  0.021822   \n",
       "8  0.026457  0.021560  0.017279  0.014003  0.012210  0.012807  0.016772   \n",
       "9  0.032227  0.027249  0.022479  0.018033  0.014324  0.012662  0.015678   \n",
       "\n",
       "   0.267577  0.365771  0.500000  \n",
       "0  0.026388  0.033715  0.042181  \n",
       "1  0.026511  0.034411  0.042710  \n",
       "2  0.026597  0.034664  0.043400  \n",
       "3  0.026675  0.034662  0.043081  \n",
       "4  0.025933  0.034065  0.042909  \n",
       "5  0.028113  0.035992  0.044385  \n",
       "6  0.025489  0.033610  0.042139  \n",
       "7  0.027859  0.035353  0.043354  \n",
       "8  0.023707  0.032405  0.041666  \n",
       "9  0.023140  0.032471  0.041910  "
      ]
     },
     "execution_count": 51,
     "metadata": {},
     "output_type": "execute_result"
    }
   ],
   "source": [
    "# rows = samples\n",
    "# columns = bandwidths\n",
    "rmsd_kde"
   ]
  },
  {
   "cell_type": "code",
   "execution_count": 52,
   "metadata": {
    "ExecuteTime": {
     "end_time": "2020-04-28T08:52:10.514922Z",
     "start_time": "2020-04-28T08:52:10.452794Z"
    }
   },
   "outputs": [],
   "source": [
    "rmsd_std = rmsd_kde.std()"
   ]
  },
  {
   "cell_type": "code",
   "execution_count": 53,
   "metadata": {
    "ExecuteTime": {
     "end_time": "2020-04-28T08:52:11.044962Z",
     "start_time": "2020-04-28T08:52:11.018087Z"
    }
   },
   "outputs": [],
   "source": [
    "rmsd_mean = rmsd_kde.mean()"
   ]
  },
  {
   "cell_type": "code",
   "execution_count": 57,
   "metadata": {
    "ExecuteTime": {
     "end_time": "2020-04-28T08:53:32.065119Z",
     "start_time": "2020-04-28T08:53:31.797732Z"
    }
   },
   "outputs": [
    {
     "data": {
      "text/plain": [
       "<ErrorbarContainer object of 3 artists>"
      ]
     },
     "execution_count": 57,
     "metadata": {},
     "output_type": "execute_result"
    },
    {
     "data": {
      "image/png": "[encoded data removed]",
      "text/plain": [
       "<Figure size 432x288 with 1 Axes>"
      ]
     },
     "metadata": {
      "needs_background": "light"
     },
     "output_type": "display_data"
    }
   ],
   "source": [
    "plt.errorbar(bandwidth_range, rmsd_mean, yerr=rmsd_std)"
   ]
  },
  {
   "cell_type": "markdown",
   "metadata": {},
   "source": [
    "## putting stuff on the same level"
   ]
  },
  {
   "cell_type": "code",
   "execution_count": 58,
   "metadata": {
    "ExecuteTime": {
     "end_time": "2020-04-28T08:53:33.185461Z",
     "start_time": "2020-04-28T08:53:33.176566Z"
    }
   },
   "outputs": [
    {
     "data": {
      "text/plain": [
       "(-4, 6)"
      ]
     },
     "execution_count": 58,
     "metadata": {},
     "output_type": "execute_result"
    }
   ],
   "source": [
    "hist_range"
   ]
  },
  {
   "cell_type": "code",
   "execution_count": 59,
   "metadata": {
    "ExecuteTime": {
     "end_time": "2020-04-28T08:53:33.759246Z",
     "start_time": "2020-04-28T08:53:33.750159Z"
    }
   },
   "outputs": [],
   "source": [
    "hist_width = hist_range[1] - hist_range[0]"
   ]
  },
  {
   "cell_type": "code",
   "execution_count": 60,
   "metadata": {
    "ExecuteTime": {
     "end_time": "2020-04-28T08:53:34.221952Z",
     "start_time": "2020-04-28T08:53:34.211653Z"
    }
   },
   "outputs": [
    {
     "data": {
      "text/plain": [
       "10"
      ]
     },
     "execution_count": 60,
     "metadata": {},
     "output_type": "execute_result"
    }
   ],
   "source": [
    "hist_width"
   ]
  },
  {
   "cell_type": "code",
   "execution_count": 61,
   "metadata": {
    "ExecuteTime": {
     "end_time": "2020-04-28T08:53:34.717641Z",
     "start_time": "2020-04-28T08:53:34.707709Z"
    }
   },
   "outputs": [
    {
     "data": {
      "text/plain": [
       "[6, 9, 12, 15, 18, 21, 24]"
      ]
     },
     "execution_count": 61,
     "metadata": {},
     "output_type": "execute_result"
    }
   ],
   "source": [
    "nbins_range"
   ]
  },
  {
   "cell_type": "code",
   "execution_count": 62,
   "metadata": {
    "ExecuteTime": {
     "end_time": "2020-04-28T08:53:35.232092Z",
     "start_time": "2020-04-28T08:53:35.219808Z"
    }
   },
   "outputs": [
    {
     "data": {
      "text/plain": [
       "array([0.03      , 0.04100929, 0.05605872, 0.07663094, 0.10475268,\n",
       "       0.14319443, 0.19574338, 0.26757656, 0.3657708 , 0.5       ])"
      ]
     },
     "execution_count": 62,
     "metadata": {},
     "output_type": "execute_result"
    }
   ],
   "source": [
    "bandwidth_range"
   ]
  },
  {
   "cell_type": "code",
   "execution_count": 63,
   "metadata": {
    "ExecuteTime": {
     "end_time": "2020-04-28T08:53:35.830323Z",
     "start_time": "2020-04-28T08:53:35.818741Z"
    }
   },
   "outputs": [],
   "source": [
    "min_nbins = 7\n",
    "max_nbins = nbins_range[-1]\n",
    "max_nbins_kde = hist_width/bandwidth_range[0]"
   ]
  },
  {
   "cell_type": "code",
   "execution_count": 50,
   "metadata": {
    "ExecuteTime": {
     "end_time": "2020-04-24T21:51:57.345435Z",
     "start_time": "2020-04-24T21:51:57.339293Z"
    }
   },
   "outputs": [
    {
     "data": {
      "text/plain": [
       "(7, 333.33333333333337)"
      ]
     },
     "execution_count": 50,
     "metadata": {},
     "output_type": "execute_result"
    }
   ],
   "source": [
    "min_nbins, max_nbins_kde"
   ]
  },
  {
   "cell_type": "code",
   "execution_count": 51,
   "metadata": {
    "ExecuteTime": {
     "end_time": "2020-04-24T21:51:58.226715Z",
     "start_time": "2020-04-24T21:51:58.223652Z"
    }
   },
   "outputs": [],
   "source": [
    "# number of nbins, bandwidth values\n",
    "npoints = 20"
   ]
  },
  {
   "cell_type": "code",
   "execution_count": 52,
   "metadata": {
    "ExecuteTime": {
     "end_time": "2020-04-24T21:52:00.905820Z",
     "start_time": "2020-04-24T21:52:00.897743Z"
    }
   },
   "outputs": [
    {
     "data": {
      "text/plain": [
       "array([  7,   8,   9,  10,  11,  12,  13,  14,  15,  16,  17,  18,  19,\n",
       "        20,  21,  22,  23,  24,  25,  30,  35,  40,  45,  50,  60,  70,\n",
       "        80,  90, 100, 110, 120, 130, 140])"
      ]
     },
     "execution_count": 52,
     "metadata": {},
     "output_type": "execute_result"
    }
   ],
   "source": [
    "# Calculating set of matching nbins and bin widths to be used for histogram\n",
    "#hist_bw = np.logspace(np.log10(hist_width/max_nbins), np.log10(hist_width/min_nbins), npoints)\n",
    "nbins_sample = list(range(7,25)) + list(range(25, 50, 5)) + list(range(50, 150, 10)) # np.round(hist_width/hist_bw).astype('int')\n",
    "nbins_sample = np.array(nbins_sample)\n",
    "hist_bw = hist_width/nbins_sample\n",
    "nbins_sample"
   ]
  },
  {
   "cell_type": "code",
   "execution_count": 53,
   "metadata": {
    "ExecuteTime": {
     "end_time": "2020-04-24T21:52:09.609985Z",
     "start_time": "2020-04-24T21:52:09.604042Z"
    }
   },
   "outputs": [
    {
     "data": {
      "text/plain": [
       "array([0.03      , 0.03672516, 0.04495792, 0.05503623, 0.06737381,\n",
       "       0.08247713, 0.1009662 , 0.12360001, 0.15130767, 0.18522663,\n",
       "       0.22674926, 0.27758011, 0.33980581, 0.41598078, 0.50923204,\n",
       "       0.62338764, 0.76313373, 0.93420699, 1.14363009, 1.4       ])"
      ]
     },
     "execution_count": 53,
     "metadata": {},
     "output_type": "execute_result"
    }
   ],
   "source": [
    "kde_bw = np.logspace(np.log10(bandwidth_range[0]), np.log10(1.4), npoints)\n",
    "kde_bw"
   ]
  },
  {
   "cell_type": "code",
   "execution_count": 54,
   "metadata": {
    "ExecuteTime": {
     "end_time": "2020-04-24T21:54:15.204341Z",
     "start_time": "2020-04-24T21:52:10.688438Z"
    }
   },
   "outputs": [],
   "source": [
    "rmsd_hist = hist_dev.get_rmsd_df(samples, nbins_sample)"
   ]
  },
  {
   "cell_type": "code",
   "execution_count": 55,
   "metadata": {
    "ExecuteTime": {
     "end_time": "2020-04-24T21:55:56.102594Z",
     "start_time": "2020-04-24T21:54:18.216788Z"
    }
   },
   "outputs": [],
   "source": [
    "rmsd_kde = kde_dev.get_rmsd_df(samples, kde_bw)"
   ]
  },
  {
   "cell_type": "code",
   "execution_count": 56,
   "metadata": {
    "ExecuteTime": {
     "end_time": "2020-04-24T21:56:00.889852Z",
     "start_time": "2020-04-24T21:56:00.055847Z"
    }
   },
   "outputs": [
    {
     "data": {
      "image/png": "[encoded data removed]",
      "text/plain": [
       "<Figure size 432x288 with 1 Axes>"
      ]
     },
     "metadata": {
      "needs_background": "light"
     },
     "output_type": "display_data"
    }
   ],
   "source": [
    "plt.errorbar(hist_bw, rmsd_hist.mean(), yerr=rmsd_hist.std())\n",
    "plt.errorbar(kde_bw,  rmsd_kde.mean(),  yerr=rmsd_kde.std(), fmt='--')\n",
    "plt.xscale('log')\n",
    "plt.yscale('log')\n",
    "plt.legend(['Histogram', 'KDE'])\n",
    "plt.xlabel('Bandwidth')\n",
    "plt.ylabel('Mean deviation')\n",
    "plt.savefig('kde.vs.hist.png')"
   ]
  },
  {
   "cell_type": "code",
   "execution_count": 57,
   "metadata": {
    "ExecuteTime": {
     "end_time": "2020-04-24T21:56:01.864180Z",
     "start_time": "2020-04-24T21:56:01.858419Z"
    }
   },
   "outputs": [
    {
     "data": {
      "text/plain": [
       "(0.9090909090909091, 11)"
      ]
     },
     "execution_count": 57,
     "metadata": {},
     "output_type": "execute_result"
    }
   ],
   "source": [
    "hist_min_bw = hist_bw[rmsd_hist.mean().values.argmin()]\n",
    "nbins_min = int(hist_width/hist_min_bw)\n",
    "hist_min_bw, nbins_min"
   ]
  },
  {
   "cell_type": "code",
   "execution_count": 56,
   "metadata": {
    "ExecuteTime": {
     "end_time": "2020-04-28T08:53:19.307442Z",
     "start_time": "2020-04-28T08:53:19.289247Z"
    }
   },
   "outputs": [
    {
     "ename": "NameError",
     "evalue": "name 'kde_bw' is not defined",
     "output_type": "error",
     "traceback": [
      "\u001b[0;31m---------------------------------------------------------------------------\u001b[0m",
      "\u001b[0;31mNameError\u001b[0m                                 Traceback (most recent call last)",
      "\u001b[0;32m<ipython-input-56-b7301860d7a8>\u001b[0m in \u001b[0;36m<module>\u001b[0;34m\u001b[0m\n\u001b[0;32m----> 1\u001b[0;31m \u001b[0mkde_min_bw\u001b[0m \u001b[0;34m=\u001b[0m \u001b[0mkde_bw\u001b[0m\u001b[0;34m[\u001b[0m\u001b[0mrmsd_kde\u001b[0m\u001b[0;34m.\u001b[0m\u001b[0mmean\u001b[0m\u001b[0;34m(\u001b[0m\u001b[0;34m)\u001b[0m\u001b[0;34m.\u001b[0m\u001b[0mvalues\u001b[0m\u001b[0;34m.\u001b[0m\u001b[0margmin\u001b[0m\u001b[0;34m(\u001b[0m\u001b[0;34m)\u001b[0m\u001b[0;34m]\u001b[0m\u001b[0;34m\u001b[0m\u001b[0;34m\u001b[0m\u001b[0m\n\u001b[0m\u001b[1;32m      2\u001b[0m \u001b[0mkde_min_bw\u001b[0m\u001b[0;34m\u001b[0m\u001b[0;34m\u001b[0m\u001b[0m\n",
      "\u001b[0;31mNameError\u001b[0m: name 'kde_bw' is not defined"
     ]
    }
   ],
   "source": [
    "kde_min_bw = kde_bw[rmsd_kde.mean().values.argmin()]\n",
    "kde_min_bw"
   ]
  },
  {
   "cell_type": "code",
   "execution_count": 55,
   "metadata": {
    "ExecuteTime": {
     "end_time": "2020-04-28T08:53:13.584544Z",
     "start_time": "2020-04-28T08:53:13.561343Z"
    }
   },
   "outputs": [
    {
     "ename": "NameError",
     "evalue": "name 'kde_min_bw' is not defined",
     "output_type": "error",
     "traceback": [
      "\u001b[0;31m---------------------------------------------------------------------------\u001b[0m",
      "\u001b[0;31mNameError\u001b[0m                                 Traceback (most recent call last)",
      "\u001b[0;32m<ipython-input-55-4508818199aa>\u001b[0m in \u001b[0;36m<module>\u001b[0;34m\u001b[0m\n\u001b[1;32m      1\u001b[0m \u001b[0;31m# plot histogram and kde with best possible bandwidths for these samples\u001b[0m\u001b[0;34m\u001b[0m\u001b[0;34m\u001b[0m\u001b[0;34m\u001b[0m\u001b[0m\n\u001b[1;32m      2\u001b[0m \u001b[0mtotal_sample\u001b[0m \u001b[0;34m=\u001b[0m \u001b[0mnp\u001b[0m\u001b[0;34m.\u001b[0m\u001b[0mravel\u001b[0m\u001b[0;34m(\u001b[0m\u001b[0msamples\u001b[0m\u001b[0;34m.\u001b[0m\u001b[0mvalues\u001b[0m\u001b[0;34m)\u001b[0m\u001b[0;34m\u001b[0m\u001b[0;34m\u001b[0m\u001b[0m\n\u001b[0;32m----> 3\u001b[0;31m \u001b[0mkde_min\u001b[0m \u001b[0;34m=\u001b[0m \u001b[0mKernelDensity\u001b[0m\u001b[0;34m(\u001b[0m\u001b[0mkernel\u001b[0m\u001b[0;34m=\u001b[0m\u001b[0;34m'gaussian'\u001b[0m\u001b[0;34m,\u001b[0m \u001b[0mbandwidth\u001b[0m\u001b[0;34m=\u001b[0m\u001b[0mkde_min_bw\u001b[0m\u001b[0;34m)\u001b[0m\u001b[0;34m.\u001b[0m\u001b[0mfit\u001b[0m\u001b[0;34m(\u001b[0m\u001b[0msamples\u001b[0m\u001b[0;34m[\u001b[0m\u001b[0;36m0\u001b[0m\u001b[0;34m]\u001b[0m\u001b[0;34m[\u001b[0m\u001b[0;34m:\u001b[0m\u001b[0;34m,\u001b[0m \u001b[0mnp\u001b[0m\u001b[0;34m.\u001b[0m\u001b[0mnewaxis\u001b[0m\u001b[0;34m]\u001b[0m\u001b[0;34m)\u001b[0m\u001b[0;34m\u001b[0m\u001b[0;34m\u001b[0m\u001b[0m\n\u001b[0m\u001b[1;32m      4\u001b[0m \u001b[0mkde_min_data\u001b[0m \u001b[0;34m=\u001b[0m \u001b[0mnp\u001b[0m\u001b[0;34m.\u001b[0m\u001b[0mexp\u001b[0m\u001b[0;34m(\u001b[0m\u001b[0mkde_min\u001b[0m\u001b[0;34m.\u001b[0m\u001b[0mscore_samples\u001b[0m\u001b[0;34m(\u001b[0m\u001b[0mxgrid\u001b[0m\u001b[0;34m[\u001b[0m\u001b[0;34m:\u001b[0m\u001b[0;34m,\u001b[0m\u001b[0mnp\u001b[0m\u001b[0;34m.\u001b[0m\u001b[0mnewaxis\u001b[0m\u001b[0;34m]\u001b[0m\u001b[0;34m)\u001b[0m\u001b[0;34m)\u001b[0m\u001b[0;34m\u001b[0m\u001b[0;34m\u001b[0m\u001b[0m\n\u001b[1;32m      5\u001b[0m \u001b[0;34m\u001b[0m\u001b[0m\n",
      "\u001b[0;31mNameError\u001b[0m: name 'kde_min_bw' is not defined"
     ]
    }
   ],
   "source": [
    "# plot histogram and kde with best possible bandwidths for these samples\n",
    "total_sample = np.ravel(samples.values)\n",
    "kde_min = KernelDensity(kernel='gaussian', bandwidth=kde_min_bw).fit(samples[0][:, np.newaxis])\n",
    "kde_min_data = np.exp(kde_min.score_samples(xgrid[:,np.newaxis]))\n",
    "\n",
    "\n",
    "plt.plot(xgrid, trimodal.pdf(xgrid), 'true / target')\n",
    "plt.hist(total_sample, density=True, bins = nbins_min)\n",
    "plt.plot(xgrid, kde_min_data)"
   ]
  },
  {
   "cell_type": "markdown",
   "metadata": {
    "ExecuteTime": {
     "end_time": "2020-02-03T15:05:05.142907Z",
     "start_time": "2020-02-03T15:05:05.133279Z"
    }
   },
   "source": [
    "## Fitting\n",
    "\n",
    "1. Histogram fixed bin width\n",
    "1. Histogram optimized bin width\n",
    "1. KDE fixed bin width\n",
    "1. KDE fixed optimized bin width\n",
    "1. Guassian mixture model"
   ]
  },
  {
   "cell_type": "code",
   "execution_count": 60,
   "metadata": {
    "ExecuteTime": {
     "end_time": "2020-04-24T21:56:43.600742Z",
     "start_time": "2020-04-24T21:56:43.594188Z"
    }
   },
   "outputs": [],
   "source": [
    "def trimodal_pdf(x, l1, l2, l3, s1, s2, s3, w1, w2, w3):\n",
    "    wtot  = w1 + w1 + w3\n",
    "    result  = w1*distributions.norm.pdf(x, loc=l1, scale=s1)/wtot\n",
    "    result += w2*distributions.norm.pdf(x, loc=l2, scale=s2)/wtot\n",
    "    result += w3*distributions.norm.pdf(x, loc=l3, scale=s3)/wtot\n",
    "    return result\n",
    "\n",
    "trimodal_model = lmfit.Model(trimodal_pdf)"
   ]
  },
  {
   "cell_type": "code",
   "execution_count": 61,
   "metadata": {
    "ExecuteTime": {
     "end_time": "2020-04-24T21:56:59.291268Z",
     "start_time": "2020-04-24T21:56:59.286481Z"
    }
   },
   "outputs": [
    {
     "name": "stdout",
     "output_type": "stream",
     "text": [
      "['l1', 'l2', 'l3', 's1', 's2', 's3', 'w1', 'w2', 'w3'] ['x']\n"
     ]
    }
   ],
   "source": [
    "print(trimodal_model.param_names, trimodal_model.independent_vars)"
   ]
  },
  {
   "cell_type": "code",
   "execution_count": 62,
   "metadata": {
    "ExecuteTime": {
     "end_time": "2020-04-24T21:57:00.142183Z",
     "start_time": "2020-04-24T21:57:00.132735Z"
    }
   },
   "outputs": [],
   "source": [
    "params = trimodal_model.make_params()"
   ]
  },
  {
   "cell_type": "code",
   "execution_count": 63,
   "metadata": {
    "ExecuteTime": {
     "end_time": "2020-04-24T21:57:03.510734Z",
     "start_time": "2020-04-24T21:57:03.503386Z"
    }
   },
   "outputs": [
    {
     "data": {
      "text/html": [
       "<table><tr><th> name </th><th> value </th><th> initial value </th><th> min </th><th> max </th><th> vary </th></tr><tr><td> l1 </td><td>        -inf </td><td> None </td><td> -4.00000000 </td><td>  6.00000000 </td><td> True </td></tr><tr><td> l2 </td><td>        -inf </td><td> None </td><td> -4.00000000 </td><td>  6.00000000 </td><td> True </td></tr><tr><td> l3 </td><td>        -inf </td><td> None </td><td> -4.00000000 </td><td>  6.00000000 </td><td> True </td></tr><tr><td> s1 </td><td>        -inf </td><td> None </td><td>        -inf </td><td>         inf </td><td> True </td></tr><tr><td> s2 </td><td>        -inf </td><td> None </td><td>        -inf </td><td>         inf </td><td> True </td></tr><tr><td> s3 </td><td>        -inf </td><td> None </td><td>        -inf </td><td>         inf </td><td> True </td></tr><tr><td> w1 </td><td>        -inf </td><td> None </td><td>        -inf </td><td>         inf </td><td> True </td></tr><tr><td> w2 </td><td>        -inf </td><td> None </td><td>        -inf </td><td>         inf </td><td> True </td></tr><tr><td> w3 </td><td>        -inf </td><td> None </td><td>        -inf </td><td>         inf </td><td> True </td></tr></table>"
      ],
      "text/plain": [
       "Parameters([('l1', <Parameter 'l1', value=-inf, bounds=[-4:6]>),\n",
       "            ('l2', <Parameter 'l2', value=-inf, bounds=[-4:6]>),\n",
       "            ('l3', <Parameter 'l3', value=-inf, bounds=[-4:6]>),\n",
       "            ('s1', <Parameter 's1', value=-inf, bounds=[-inf:inf]>),\n",
       "            ('s2', <Parameter 's2', value=-inf, bounds=[-inf:inf]>),\n",
       "            ('s3', <Parameter 's3', value=-inf, bounds=[-inf:inf]>),\n",
       "            ('w1', <Parameter 'w1', value=-inf, bounds=[-inf:inf]>),\n",
       "            ('w2', <Parameter 'w2', value=-inf, bounds=[-inf:inf]>),\n",
       "            ('w3', <Parameter 'w3', value=-inf, bounds=[-inf:inf]>)])"
      ]
     },
     "execution_count": 63,
     "metadata": {},
     "output_type": "execute_result"
    }
   ],
   "source": [
    "params['l1'].min=params['l2'].min=params['l3'].min=-4\n",
    "params['l1'].max=params['l2'].max=params['l3'].max=6\n",
    "params"
   ]
  },
  {
   "cell_type": "code",
   "execution_count": 64,
   "metadata": {
    "ExecuteTime": {
     "end_time": "2020-04-24T21:57:10.477614Z",
     "start_time": "2020-04-24T21:57:04.433416Z"
    }
   },
   "outputs": [],
   "source": [
    "rvs = trimodal.rvs(10**7)"
   ]
  },
  {
   "cell_type": "code",
   "execution_count": 65,
   "metadata": {
    "ExecuteTime": {
     "end_time": "2020-04-24T21:57:11.249261Z",
     "start_time": "2020-04-24T21:57:10.757953Z"
    }
   },
   "outputs": [
    {
     "ename": "ValueError",
     "evalue": "The model function generated NaN values and the fit aborted! Please check your model function and/or set boundaries on parameters where applicable. In cases like this, using \"nan_policy='omit'\" will probably not work.",
     "output_type": "error",
     "traceback": [
      "\u001b[0;31m---------------------------------------------------------------------------\u001b[0m",
      "\u001b[0;31mValueError\u001b[0m                                Traceback (most recent call last)",
      "\u001b[0;32m<ipython-input-65-51668c5f47a0>\u001b[0m in \u001b[0;36m<module>\u001b[0;34m\u001b[0m\n\u001b[1;32m      1\u001b[0m \u001b[0mx\u001b[0m\u001b[0;34m,\u001b[0m \u001b[0my\u001b[0m \u001b[0;34m=\u001b[0m \u001b[0mhist\u001b[0m\u001b[0;34m.\u001b[0m\u001b[0mget_data\u001b[0m\u001b[0;34m(\u001b[0m\u001b[0;34m)\u001b[0m\u001b[0;34m\u001b[0m\u001b[0;34m\u001b[0m\u001b[0m\n\u001b[0;32m----> 2\u001b[0;31m \u001b[0mresult\u001b[0m \u001b[0;34m=\u001b[0m \u001b[0mtrimodal_model\u001b[0m\u001b[0;34m.\u001b[0m\u001b[0mfit\u001b[0m\u001b[0;34m(\u001b[0m\u001b[0my\u001b[0m\u001b[0;34m,\u001b[0m \u001b[0mx\u001b[0m\u001b[0;34m=\u001b[0m\u001b[0mx\u001b[0m\u001b[0;34m,\u001b[0m \u001b[0mparams\u001b[0m\u001b[0;34m=\u001b[0m\u001b[0mparams\u001b[0m\u001b[0;34m)\u001b[0m\u001b[0;34m\u001b[0m\u001b[0;34m\u001b[0m\u001b[0m\n\u001b[0m\u001b[1;32m      3\u001b[0m \u001b[0mresult\u001b[0m\u001b[0;34m\u001b[0m\u001b[0;34m\u001b[0m\u001b[0m\n",
      "\u001b[0;32m~/miniconda3/envs/events4ess/lib/python3.7/site-packages/lmfit/model.py\u001b[0m in \u001b[0;36mfit\u001b[0;34m(self, data, params, weights, method, iter_cb, scale_covar, verbose, fit_kws, nan_policy, calc_covar, **kwargs)\u001b[0m\n\u001b[1;32m   1020\u001b[0m                              \u001b[0mnan_policy\u001b[0m\u001b[0;34m=\u001b[0m\u001b[0mself\u001b[0m\u001b[0;34m.\u001b[0m\u001b[0mnan_policy\u001b[0m\u001b[0;34m,\u001b[0m \u001b[0mcalc_covar\u001b[0m\u001b[0;34m=\u001b[0m\u001b[0mcalc_covar\u001b[0m\u001b[0;34m,\u001b[0m\u001b[0;34m\u001b[0m\u001b[0;34m\u001b[0m\u001b[0m\n\u001b[1;32m   1021\u001b[0m                              **fit_kws)\n\u001b[0;32m-> 1022\u001b[0;31m         \u001b[0moutput\u001b[0m\u001b[0;34m.\u001b[0m\u001b[0mfit\u001b[0m\u001b[0;34m(\u001b[0m\u001b[0mdata\u001b[0m\u001b[0;34m=\u001b[0m\u001b[0mdata\u001b[0m\u001b[0;34m,\u001b[0m \u001b[0mweights\u001b[0m\u001b[0;34m=\u001b[0m\u001b[0mweights\u001b[0m\u001b[0;34m)\u001b[0m\u001b[0;34m\u001b[0m\u001b[0;34m\u001b[0m\u001b[0m\n\u001b[0m\u001b[1;32m   1023\u001b[0m         \u001b[0moutput\u001b[0m\u001b[0;34m.\u001b[0m\u001b[0mcomponents\u001b[0m \u001b[0;34m=\u001b[0m \u001b[0mself\u001b[0m\u001b[0;34m.\u001b[0m\u001b[0mcomponents\u001b[0m\u001b[0;34m\u001b[0m\u001b[0;34m\u001b[0m\u001b[0m\n\u001b[1;32m   1024\u001b[0m         \u001b[0;32mreturn\u001b[0m \u001b[0moutput\u001b[0m\u001b[0;34m\u001b[0m\u001b[0;34m\u001b[0m\u001b[0m\n",
      "\u001b[0;32m~/miniconda3/envs/events4ess/lib/python3.7/site-packages/lmfit/model.py\u001b[0m in \u001b[0;36mfit\u001b[0;34m(self, data, params, weights, method, nan_policy, **kwargs)\u001b[0m\n\u001b[1;32m   1368\u001b[0m         \u001b[0mself\u001b[0m\u001b[0;34m.\u001b[0m\u001b[0muserkws\u001b[0m\u001b[0;34m.\u001b[0m\u001b[0mupdate\u001b[0m\u001b[0;34m(\u001b[0m\u001b[0mkwargs\u001b[0m\u001b[0;34m)\u001b[0m\u001b[0;34m\u001b[0m\u001b[0;34m\u001b[0m\u001b[0m\n\u001b[1;32m   1369\u001b[0m         \u001b[0mself\u001b[0m\u001b[0;34m.\u001b[0m\u001b[0minit_fit\u001b[0m \u001b[0;34m=\u001b[0m \u001b[0mself\u001b[0m\u001b[0;34m.\u001b[0m\u001b[0mmodel\u001b[0m\u001b[0;34m.\u001b[0m\u001b[0meval\u001b[0m\u001b[0;34m(\u001b[0m\u001b[0mparams\u001b[0m\u001b[0;34m=\u001b[0m\u001b[0mself\u001b[0m\u001b[0;34m.\u001b[0m\u001b[0mparams\u001b[0m\u001b[0;34m,\u001b[0m \u001b[0;34m**\u001b[0m\u001b[0mself\u001b[0m\u001b[0;34m.\u001b[0m\u001b[0muserkws\u001b[0m\u001b[0;34m)\u001b[0m\u001b[0;34m\u001b[0m\u001b[0;34m\u001b[0m\u001b[0m\n\u001b[0;32m-> 1370\u001b[0;31m         \u001b[0m_ret\u001b[0m \u001b[0;34m=\u001b[0m \u001b[0mself\u001b[0m\u001b[0;34m.\u001b[0m\u001b[0mminimize\u001b[0m\u001b[0;34m(\u001b[0m\u001b[0mmethod\u001b[0m\u001b[0;34m=\u001b[0m\u001b[0mself\u001b[0m\u001b[0;34m.\u001b[0m\u001b[0mmethod\u001b[0m\u001b[0;34m)\u001b[0m\u001b[0;34m\u001b[0m\u001b[0;34m\u001b[0m\u001b[0m\n\u001b[0m\u001b[1;32m   1371\u001b[0m \u001b[0;34m\u001b[0m\u001b[0m\n\u001b[1;32m   1372\u001b[0m         \u001b[0;32mfor\u001b[0m \u001b[0mattr\u001b[0m \u001b[0;32min\u001b[0m \u001b[0mdir\u001b[0m\u001b[0;34m(\u001b[0m\u001b[0m_ret\u001b[0m\u001b[0;34m)\u001b[0m\u001b[0;34m:\u001b[0m\u001b[0;34m\u001b[0m\u001b[0;34m\u001b[0m\u001b[0m\n",
      "\u001b[0;32m~/miniconda3/envs/events4ess/lib/python3.7/site-packages/lmfit/minimizer.py\u001b[0m in \u001b[0;36mminimize\u001b[0;34m(self, method, params, **kws)\u001b[0m\n\u001b[1;32m   2174\u001b[0m                         val.lower().startswith(user_method)):\n\u001b[1;32m   2175\u001b[0m                     \u001b[0mkwargs\u001b[0m\u001b[0;34m[\u001b[0m\u001b[0;34m'method'\u001b[0m\u001b[0;34m]\u001b[0m \u001b[0;34m=\u001b[0m \u001b[0mval\u001b[0m\u001b[0;34m\u001b[0m\u001b[0;34m\u001b[0m\u001b[0m\n\u001b[0;32m-> 2176\u001b[0;31m         \u001b[0;32mreturn\u001b[0m \u001b[0mfunction\u001b[0m\u001b[0;34m(\u001b[0m\u001b[0;34m**\u001b[0m\u001b[0mkwargs\u001b[0m\u001b[0;34m)\u001b[0m\u001b[0;34m\u001b[0m\u001b[0;34m\u001b[0m\u001b[0m\n\u001b[0m\u001b[1;32m   2177\u001b[0m \u001b[0;34m\u001b[0m\u001b[0m\n\u001b[1;32m   2178\u001b[0m \u001b[0;34m\u001b[0m\u001b[0m\n",
      "\u001b[0;32m~/miniconda3/envs/events4ess/lib/python3.7/site-packages/lmfit/minimizer.py\u001b[0m in \u001b[0;36mleastsq\u001b[0;34m(self, params, **kws)\u001b[0m\n\u001b[1;32m   1566\u001b[0m \u001b[0;34m\u001b[0m\u001b[0m\n\u001b[1;32m   1567\u001b[0m         \u001b[0;32mtry\u001b[0m\u001b[0;34m:\u001b[0m\u001b[0;34m\u001b[0m\u001b[0;34m\u001b[0m\u001b[0m\n\u001b[0;32m-> 1568\u001b[0;31m             \u001b[0mlsout\u001b[0m \u001b[0;34m=\u001b[0m \u001b[0mscipy_leastsq\u001b[0m\u001b[0;34m(\u001b[0m\u001b[0mself\u001b[0m\u001b[0;34m.\u001b[0m\u001b[0m__residual\u001b[0m\u001b[0;34m,\u001b[0m \u001b[0mvariables\u001b[0m\u001b[0;34m,\u001b[0m \u001b[0;34m**\u001b[0m\u001b[0mlskws\u001b[0m\u001b[0;34m)\u001b[0m\u001b[0;34m\u001b[0m\u001b[0;34m\u001b[0m\u001b[0m\n\u001b[0m\u001b[1;32m   1569\u001b[0m         \u001b[0;32mexcept\u001b[0m \u001b[0mAbortFitException\u001b[0m\u001b[0;34m:\u001b[0m\u001b[0;34m\u001b[0m\u001b[0;34m\u001b[0m\u001b[0m\n\u001b[1;32m   1570\u001b[0m             \u001b[0;32mpass\u001b[0m\u001b[0;34m\u001b[0m\u001b[0;34m\u001b[0m\u001b[0m\n",
      "\u001b[0;32m~/miniconda3/envs/events4ess/lib/python3.7/site-packages/scipy/optimize/minpack.py\u001b[0m in \u001b[0;36mleastsq\u001b[0;34m(func, x0, args, Dfun, full_output, col_deriv, ftol, xtol, gtol, maxfev, epsfcn, factor, diag)\u001b[0m\n\u001b[1;32m    386\u001b[0m     \u001b[0;32mif\u001b[0m \u001b[0;32mnot\u001b[0m \u001b[0misinstance\u001b[0m\u001b[0;34m(\u001b[0m\u001b[0margs\u001b[0m\u001b[0;34m,\u001b[0m \u001b[0mtuple\u001b[0m\u001b[0;34m)\u001b[0m\u001b[0;34m:\u001b[0m\u001b[0;34m\u001b[0m\u001b[0;34m\u001b[0m\u001b[0m\n\u001b[1;32m    387\u001b[0m         \u001b[0margs\u001b[0m \u001b[0;34m=\u001b[0m \u001b[0;34m(\u001b[0m\u001b[0margs\u001b[0m\u001b[0;34m,\u001b[0m\u001b[0;34m)\u001b[0m\u001b[0;34m\u001b[0m\u001b[0;34m\u001b[0m\u001b[0m\n\u001b[0;32m--> 388\u001b[0;31m     \u001b[0mshape\u001b[0m\u001b[0;34m,\u001b[0m \u001b[0mdtype\u001b[0m \u001b[0;34m=\u001b[0m \u001b[0m_check_func\u001b[0m\u001b[0;34m(\u001b[0m\u001b[0;34m'leastsq'\u001b[0m\u001b[0;34m,\u001b[0m \u001b[0;34m'func'\u001b[0m\u001b[0;34m,\u001b[0m \u001b[0mfunc\u001b[0m\u001b[0;34m,\u001b[0m \u001b[0mx0\u001b[0m\u001b[0;34m,\u001b[0m \u001b[0margs\u001b[0m\u001b[0;34m,\u001b[0m \u001b[0mn\u001b[0m\u001b[0;34m)\u001b[0m\u001b[0;34m\u001b[0m\u001b[0;34m\u001b[0m\u001b[0m\n\u001b[0m\u001b[1;32m    389\u001b[0m     \u001b[0mm\u001b[0m \u001b[0;34m=\u001b[0m \u001b[0mshape\u001b[0m\u001b[0;34m[\u001b[0m\u001b[0;36m0\u001b[0m\u001b[0;34m]\u001b[0m\u001b[0;34m\u001b[0m\u001b[0;34m\u001b[0m\u001b[0m\n\u001b[1;32m    390\u001b[0m \u001b[0;34m\u001b[0m\u001b[0m\n",
      "\u001b[0;32m~/miniconda3/envs/events4ess/lib/python3.7/site-packages/scipy/optimize/minpack.py\u001b[0m in \u001b[0;36m_check_func\u001b[0;34m(checker, argname, thefunc, x0, args, numinputs, output_shape)\u001b[0m\n\u001b[1;32m     24\u001b[0m def _check_func(checker, argname, thefunc, x0, args, numinputs,\n\u001b[1;32m     25\u001b[0m                 output_shape=None):\n\u001b[0;32m---> 26\u001b[0;31m     \u001b[0mres\u001b[0m \u001b[0;34m=\u001b[0m \u001b[0matleast_1d\u001b[0m\u001b[0;34m(\u001b[0m\u001b[0mthefunc\u001b[0m\u001b[0;34m(\u001b[0m\u001b[0;34m*\u001b[0m\u001b[0;34m(\u001b[0m\u001b[0;34m(\u001b[0m\u001b[0mx0\u001b[0m\u001b[0;34m[\u001b[0m\u001b[0;34m:\u001b[0m\u001b[0mnuminputs\u001b[0m\u001b[0;34m]\u001b[0m\u001b[0;34m,\u001b[0m\u001b[0;34m)\u001b[0m \u001b[0;34m+\u001b[0m \u001b[0margs\u001b[0m\u001b[0;34m)\u001b[0m\u001b[0;34m)\u001b[0m\u001b[0;34m)\u001b[0m\u001b[0;34m\u001b[0m\u001b[0;34m\u001b[0m\u001b[0m\n\u001b[0m\u001b[1;32m     27\u001b[0m     \u001b[0;32mif\u001b[0m \u001b[0;34m(\u001b[0m\u001b[0moutput_shape\u001b[0m \u001b[0;32mis\u001b[0m \u001b[0;32mnot\u001b[0m \u001b[0;32mNone\u001b[0m\u001b[0;34m)\u001b[0m \u001b[0;32mand\u001b[0m \u001b[0;34m(\u001b[0m\u001b[0mshape\u001b[0m\u001b[0;34m(\u001b[0m\u001b[0mres\u001b[0m\u001b[0;34m)\u001b[0m \u001b[0;34m!=\u001b[0m \u001b[0moutput_shape\u001b[0m\u001b[0;34m)\u001b[0m\u001b[0;34m:\u001b[0m\u001b[0;34m\u001b[0m\u001b[0;34m\u001b[0m\u001b[0m\n\u001b[1;32m     28\u001b[0m         \u001b[0;32mif\u001b[0m \u001b[0;34m(\u001b[0m\u001b[0moutput_shape\u001b[0m\u001b[0;34m[\u001b[0m\u001b[0;36m0\u001b[0m\u001b[0;34m]\u001b[0m \u001b[0;34m!=\u001b[0m \u001b[0;36m1\u001b[0m\u001b[0;34m)\u001b[0m\u001b[0;34m:\u001b[0m\u001b[0;34m\u001b[0m\u001b[0;34m\u001b[0m\u001b[0m\n",
      "\u001b[0;32m~/miniconda3/envs/events4ess/lib/python3.7/site-packages/lmfit/minimizer.py\u001b[0m in \u001b[0;36m__residual\u001b[0;34m(self, fvars, apply_bounds_transformation)\u001b[0m\n\u001b[1;32m    528\u001b[0m         \u001b[0mself\u001b[0m\u001b[0;34m.\u001b[0m\u001b[0mresult\u001b[0m\u001b[0;34m.\u001b[0m\u001b[0mnfev\u001b[0m \u001b[0;34m+=\u001b[0m \u001b[0;36m1\u001b[0m\u001b[0;34m\u001b[0m\u001b[0;34m\u001b[0m\u001b[0m\n\u001b[1;32m    529\u001b[0m \u001b[0;34m\u001b[0m\u001b[0m\n\u001b[0;32m--> 530\u001b[0;31m         \u001b[0mout\u001b[0m \u001b[0;34m=\u001b[0m \u001b[0mself\u001b[0m\u001b[0;34m.\u001b[0m\u001b[0muserfcn\u001b[0m\u001b[0;34m(\u001b[0m\u001b[0mparams\u001b[0m\u001b[0;34m,\u001b[0m \u001b[0;34m*\u001b[0m\u001b[0mself\u001b[0m\u001b[0;34m.\u001b[0m\u001b[0muserargs\u001b[0m\u001b[0;34m,\u001b[0m \u001b[0;34m**\u001b[0m\u001b[0mself\u001b[0m\u001b[0;34m.\u001b[0m\u001b[0muserkws\u001b[0m\u001b[0;34m)\u001b[0m\u001b[0;34m\u001b[0m\u001b[0;34m\u001b[0m\u001b[0m\n\u001b[0m\u001b[1;32m    531\u001b[0m \u001b[0;34m\u001b[0m\u001b[0m\n\u001b[1;32m    532\u001b[0m         \u001b[0;32mif\u001b[0m \u001b[0mcallable\u001b[0m\u001b[0;34m(\u001b[0m\u001b[0mself\u001b[0m\u001b[0;34m.\u001b[0m\u001b[0miter_cb\u001b[0m\u001b[0;34m)\u001b[0m\u001b[0;34m:\u001b[0m\u001b[0;34m\u001b[0m\u001b[0;34m\u001b[0m\u001b[0m\n",
      "\u001b[0;32m~/miniconda3/envs/events4ess/lib/python3.7/site-packages/lmfit/model.py\u001b[0m in \u001b[0;36m_residual\u001b[0;34m(self, params, data, weights, **kwargs)\u001b[0m\n\u001b[1;32m    764\u001b[0m                    \u001b[0;34m'boundaries on parameters where applicable. In cases like '\u001b[0m\u001b[0;34m\u001b[0m\u001b[0;34m\u001b[0m\u001b[0m\n\u001b[1;32m    765\u001b[0m                    'this, using \"nan_policy=\\'omit\\'\" will probably not work.')\n\u001b[0;32m--> 766\u001b[0;31m             \u001b[0;32mraise\u001b[0m \u001b[0mValueError\u001b[0m\u001b[0;34m(\u001b[0m\u001b[0mmsg\u001b[0m\u001b[0;34m)\u001b[0m\u001b[0;34m\u001b[0m\u001b[0;34m\u001b[0m\u001b[0m\n\u001b[0m\u001b[1;32m    767\u001b[0m \u001b[0;34m\u001b[0m\u001b[0m\n\u001b[1;32m    768\u001b[0m         \u001b[0mdiff\u001b[0m \u001b[0;34m=\u001b[0m \u001b[0mmodel\u001b[0m \u001b[0;34m-\u001b[0m \u001b[0mdata\u001b[0m\u001b[0;34m\u001b[0m\u001b[0;34m\u001b[0m\u001b[0m\n",
      "\u001b[0;31mValueError\u001b[0m: The model function generated NaN values and the fit aborted! Please check your model function and/or set boundaries on parameters where applicable. In cases like this, using \"nan_policy='omit'\" will probably not work."
     ]
    }
   ],
   "source": [
    "x, y = hist.get_data()\n",
    "result = trimodal_model.fit(y, x=x, params=params)\n",
    "result"
   ]
  },
  {
   "cell_type": "code",
   "execution_count": null,
   "metadata": {},
   "outputs": [],
   "source": []
  },
  {
   "cell_type": "code",
   "execution_count": null,
   "metadata": {
    "ExecuteTime": {
     "end_time": "2020-02-06T20:41:38.032531Z",
     "start_time": "2020-02-06T20:41:38.026718Z"
    }
   },
   "outputs": [],
   "source": [
    "def lorentzian(x, loc, scale):\n",
    "    return distributions.norm.pdf(x, loc=loc, scale=scale)"
   ]
  },
  {
   "cell_type": "code",
   "execution_count": null,
   "metadata": {
    "ExecuteTime": {
     "end_time": "2020-02-06T18:29:07.995409Z",
     "start_time": "2020-02-06T18:29:07.991375Z"
    }
   },
   "outputs": [],
   "source": [
    "lmodel = lmfit.Model(lorentzian)"
   ]
  },
  {
   "cell_type": "code",
   "execution_count": null,
   "metadata": {
    "ExecuteTime": {
     "end_time": "2020-02-06T20:41:46.007071Z",
     "start_time": "2020-02-06T20:41:46.000360Z"
    }
   },
   "outputs": [],
   "source": [
    "target = distributions.norm(loc=1.2, scale=0.2)"
   ]
  },
  {
   "cell_type": "code",
   "execution_count": null,
   "metadata": {
    "ExecuteTime": {
     "end_time": "2020-02-06T20:41:49.878824Z",
     "start_time": "2020-02-06T20:41:49.657304Z"
    }
   },
   "outputs": [],
   "source": [
    "plt.plot(xgrid, target.pdf(xgrid))"
   ]
  },
  {
   "cell_type": "code",
   "execution_count": null,
   "metadata": {
    "ExecuteTime": {
     "end_time": "2020-02-06T20:41:56.377267Z",
     "start_time": "2020-02-06T20:41:55.819971Z"
    }
   },
   "outputs": [],
   "source": [
    "rvs = target.rvs(1000000)\n",
    "hist = plt.hist(rvs[:1000000], bins=200, range=[-4,6], density=1)"
   ]
  },
  {
   "cell_type": "code",
   "execution_count": null,
   "metadata": {
    "ExecuteTime": {
     "end_time": "2020-02-06T20:41:59.946628Z",
     "start_time": "2020-02-06T20:41:59.702530Z"
    }
   },
   "outputs": [],
   "source": [
    "plt.plot(0.5*(hist[1][1:]+hist[1][:-1]), hist[0])"
   ]
  },
  {
   "cell_type": "markdown",
   "metadata": {},
   "source": [
    "# Fitting to rvs (nothing to do with KDE)"
   ]
  },
  {
   "cell_type": "markdown",
   "metadata": {},
   "source": [
    "Assume we have a set of events: $\\{x\\}_i$ that we assume is a random variable sample (rvs) from a probability distribution function (pdf), $P(x; \\alpha)$, where $alpha$ is a set of parameters. In order to find the parameters that best fit the model, we want to maximize the likelihood for getting the rvs. That is\n",
    "$P(\\{x\\}_i; \\alpha)$ is a maximum, i.e. \n",
    "$$\\nabla_\\alpha P(\\{x\\}_i; \\alpha) = 0$$\n",
    "or equivalently \n",
    "$$\\nabla_\\alpha \\log P(\\{x\\}_i; \\alpha) = 0$$.\n",
    "\n",
    "$P(\\{x\\}_i; \\alpha)$ is the probability of getting $x_1$ and $x_2$ and $x_3$ and $\\ldots$. Assuming the events are independent, this means \n",
    "$$P(\\{x\\}_i; \\alpha) = \\prod_i P(x_i; \\alpha)$$\n",
    "and\n",
    "$$\\log P(\\{x\\}_i; \\alpha) = \\sum_i \\log P(x_i; \\alpha)$$\n",
    "and hence:\n",
    "$$\\nabla_\\alpha \\log P(\\{x\\}_i; \\alpha) = \\sum_i \\frac{\\nabla_\\alpha P(x_i; \\alpha)}{P(x_i; \\alpha)}$$"
   ]
  },
  {
   "cell_type": "code",
   "execution_count": null,
   "metadata": {},
   "outputs": [],
   "source": []
  }
 ],
 "metadata": {
  "kernelspec": {
   "display_name": "Python 3",
   "language": "python",
   "name": "python3"
  },
  "language_info": {
   "codemirror_mode": {
    "name": "ipython",
    "version": 3
   },
   "file_extension": ".py",
   "mimetype": "text/x-python",
   "name": "python",
   "nbconvert_exporter": "python",
   "pygments_lexer": "ipython3",
   "version": "3.9.1"
  },
  "toc": {
   "base_numbering": 1,
   "nav_menu": {},
   "number_sections": true,
   "sideBar": true,
   "skip_h1_title": true,
   "title_cell": "Table of Contents",
   "title_sidebar": "Contents",
   "toc_cell": true,
   "toc_position": {
    "height": "calc(100% - 180px)",
    "left": "10px",
    "top": "150px",
    "width": "286.4px"
   },
   "toc_section_display": true,
   "toc_window_display": true
  },
  "varInspector": {
   "cols": {
    "lenName": 16,
    "lenType": 16,
    "lenVar": 40
   },
   "kernels_config": {
    "python": {
     "delete_cmd_postfix": "",
     "delete_cmd_prefix": "del ",
     "library": "var_list.py",
     "varRefreshCmd": "print(var_dic_list())"
    },
    "r": {
     "delete_cmd_postfix": ") ",
     "delete_cmd_prefix": "rm(",
     "library": "var_list.r",
     "varRefreshCmd": "cat(var_dic_list()) "
    }
   },
   "types_to_exclude": [
    "module",
    "function",
    "builtin_function_or_method",
    "instance",
    "_Feature"
   ],
   "window_display": false
  }
 },
 "nbformat": 4,
 "nbformat_minor": 2
}
