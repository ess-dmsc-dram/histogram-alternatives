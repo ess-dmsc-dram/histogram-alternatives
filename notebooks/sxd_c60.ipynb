{
 "cells": [
  {
   "cell_type": "code",
   "execution_count": null,
   "id": "bfd318f4-c9a3-48a6-8465-40aadb118001",
   "metadata": {},
   "outputs": [],
   "source": [
    "import matplotlib.pyplot as plt\n",
    "from mpl_toolkits.mplot3d import proj3d\n",
    "import numpy as np\n",
    "import scipp as sc\n",
    "import scippneutron as scn\n",
    "\n",
    "from halt.io import cached_load"
   ]
  },
  {
   "cell_type": "code",
   "execution_count": null,
   "id": "e7c88547-fd8e-475d-a3ec-d09e134b0a7c",
   "metadata": {},
   "outputs": [],
   "source": [
    "# Data files from ownCloud\n",
    "data = cached_load('../data/C60_n1e8.h5', 'EventData')\n",
    "data"
   ]
  },
  {
   "cell_type": "code",
   "execution_count": null,
   "id": "bc6ba6da-6254-4cf2-91a5-a037aa5187dc",
   "metadata": {},
   "outputs": [],
   "source": [
    "scn.instrument_view(data, pixel_size=0.02)"
   ]
  },
  {
   "cell_type": "code",
   "execution_count": null,
   "id": "3b8deb9f-8c7d-46e0-99f5-5846655f12f9",
   "metadata": {},
   "outputs": [],
   "source": [
    "d = data.copy()\n",
    "d.bins.coords['position'] = sc.bins_like(data, data.coords['position'])\n",
    "d = d.bins.constituents['data']\n",
    "x = d.coords['position'].fields.x.values\n",
    "y = d.coords['position'].fields.y.values\n",
    "z = d.coords['position'].fields.z.values\n",
    "tof = d.data.values"
   ]
  },
  {
   "cell_type": "code",
   "execution_count": null,
   "id": "235dbb6e-2c51-4866-b971-5bcf1fe03599",
   "metadata": {},
   "outputs": [],
   "source": [
    "tof"
   ]
  },
  {
   "cell_type": "code",
   "execution_count": null,
   "id": "8c5f95d7-17b9-4c9c-a522-967c07042405",
   "metadata": {},
   "outputs": [],
   "source": [
    "from sklearn.decomposition import PCA"
   ]
  },
  {
   "cell_type": "code",
   "execution_count": null,
   "id": "00841989-6817-4656-a7ef-44f1887140b1",
   "metadata": {},
   "outputs": [],
   "source": [
    "def find_normal(position):\n",
    "    pca = PCA(n_components=3)\n",
    "    pca.fit(position.values)\n",
    "    return pca.components_[-1]"
   ]
  },
  {
   "cell_type": "code",
   "execution_count": null,
   "id": "8d87130d-6d52-404c-99bb-4deba202ffeb",
   "metadata": {},
   "outputs": [],
   "source": [
    "def project_to_plane(da):\n",
    "    position = data.coords['position']\n",
    "    normal = find_normal(position)\n",
    "\n",
    "    new_z_axis = sc.vector(value=normal / np.linalg.norm(normal))\n",
    "    old_x_axis = np.array([1, 0, 0])\n",
    "    new_y_axis = sc.vector(value=np.cross(old_x_axis, new_z_axis.value))\n",
    "    new_x_axis = sc.vector(value=np.cross(new_z_axis.value, new_y_axis.value))\n",
    "\n",
    "    new_origin = position.mean()\n",
    "    p2 = position - new_origin\n",
    "\n",
    "    new_position = sc.empty_like(position)\n",
    "    new_position.fields.x = sc.dot(p2, new_x_axis)\n",
    "    new_position.fields.y = sc.dot(p2, new_y_axis)\n",
    "    new_position.fields.z = sc.scalar(0.0, unit=position.unit)\n",
    "    \n",
    "    new_data = data.copy(deep=False)\n",
    "    new_data.coords['position'] = new_position\n",
    "    return new_data"
   ]
  },
  {
   "cell_type": "code",
   "execution_count": null,
   "id": "e9580df9-c2d4-493d-9786-42236a195148",
   "metadata": {},
   "outputs": [],
   "source": [
    "data_in_plane = project_to_plane(data)"
   ]
  },
  {
   "cell_type": "code",
   "execution_count": null,
   "id": "63880501-fe92-4bcd-94aa-7a911088cf26",
   "metadata": {},
   "outputs": [],
   "source": [
    "scn.instrument_view(data_in_plane, pixel_size=0.02)"
   ]
  },
  {
   "cell_type": "code",
   "execution_count": null,
   "id": "6084acca-1534-47cf-b233-4692106328c8",
   "metadata": {},
   "outputs": [],
   "source": []
  }
 ],
 "metadata": {
  "kernelspec": {
   "display_name": "Python 3 (ipykernel)",
   "language": "python",
   "name": "python3"
  },
  "language_info": {
   "codemirror_mode": {
    "name": "ipython",
    "version": 3
   },
   "file_extension": ".py",
   "mimetype": "text/x-python",
   "name": "python",
   "nbconvert_exporter": "python",
   "pygments_lexer": "ipython3",
   "version": "3.8.10"
  }
 },
 "nbformat": 4,
 "nbformat_minor": 5
}
