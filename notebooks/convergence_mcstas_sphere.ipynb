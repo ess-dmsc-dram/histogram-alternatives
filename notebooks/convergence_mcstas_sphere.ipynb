{
 "cells": [
  {
   "cell_type": "code",
   "execution_count": null,
   "id": "4b3e84e5-c798-44d7-92be-416420aa08d5",
   "metadata": {},
   "outputs": [],
   "source": [
    "from typing import Dict, Iterable, Tuple\n",
    "import warnings\n",
    "\n",
    "import numpy as np\n",
    "import matplotlib.pyplot as plt\n",
    "import scipy\n",
    "import scipp as sc\n",
    "import scippneutron as scn\n",
    "\n",
    "from halt.estimators import HistogramEstimator, KDEEstimator, MaximumLikelihoodEstimator\n",
    "from halt.models import sphere, sphere_pdf\n",
    "\n",
    "%matplotlib widget"
   ]
  },
  {
   "cell_type": "code",
   "execution_count": null,
   "id": "e5178291-854b-414d-ad7e-95099b277538",
   "metadata": {},
   "outputs": [],
   "source": [
    "SAMPLE_SIZE_RATIOS = [0.25, 0.5, 0.75, 1.0]\n",
    "N_RESAMPLE = 2\n",
    "N_RESAMPLE_MLE = 2\n",
    "COLOURS = {'KDE': 'C0', 'histogram': 'C1', 'MLE': 'C2', 'true': 'k'}"
   ]
  },
  {
   "cell_type": "code",
   "execution_count": null,
   "id": "75235674-de46-4902-aaa2-b91a7aabe853",
   "metadata": {},
   "outputs": [],
   "source": [
    "raw_events = scn.load_nexus('../data/square_sans_sphere_events.nxs')\n",
    "raw_events"
   ]
  },
  {
   "cell_type": "code",
   "execution_count": null,
   "id": "41e491b4-2219-4b3f-a62e-81484b1fa931",
   "metadata": {},
   "outputs": [],
   "source": [
    "q_events = scn.convert(raw_events, 'tof', 'Q', scatter=True)\n",
    "q_events"
   ]
  },
  {
   "cell_type": "code",
   "execution_count": null,
   "id": "f4a95dca-2aba-4567-af9f-eceee0f7eabc",
   "metadata": {},
   "outputs": [],
   "source": [
    "q = q_events.data.bins.constituents['data'].coords['Q']\n",
    "base_sample = q.values\n",
    "q_unit = q.unit"
   ]
  },
  {
   "cell_type": "code",
   "execution_count": null,
   "id": "35c1e1ef-4f24-4fde-b26a-e492502bddb1",
   "metadata": {},
   "outputs": [],
   "source": [
    "def unary_fit(*args, **kwargs):\n",
    "    (p,), ((_e,),) = scipy.optimize.curve_fit(*args, **kwargs)\n",
    "    return p\n",
    "\n",
    "\n",
    "def fit_r(data: sc.DataArray) -> sc.Variable:\n",
    "    return sc.scalar(\n",
    "        unary_fit(sphere_pdf,\n",
    "                  xdata=data.coords['x'].values,\n",
    "                  ydata=data.data.values,\n",
    "                  p0=[1]))"
   ]
  },
  {
   "cell_type": "code",
   "execution_count": null,
   "id": "ba66845a-061a-417e-b43a-75b11dd633a1",
   "metadata": {},
   "outputs": [],
   "source": [
    "rng = np.random.default_rng(174)"
   ]
  },
  {
   "cell_type": "code",
   "execution_count": null,
   "id": "ab6c1dd0-ff77-433d-8998-7485b0e1b8fe",
   "metadata": {},
   "outputs": [],
   "source": [
    "def estimate(sample, x, rng):\n",
    "#     estimators = (KDEEstimator(sample, x, {'r': fit_r}),\n",
    "#                   HistogramEstimator(sample, x, {'r': fit_r}))\n",
    "    estimators = (HistogramEstimator(sample, x, {'r': fit_r}),)\n",
    "    results = {estimator.name: estimator(N_RESAMPLE, rng) for estimator in estimators}\n",
    "    mle = MaximumLikelihoodEstimator(sample, x, sphere)\n",
    "    results[mle.name] = mle(N_RESAMPLE_MLE, rng)\n",
    "    return results"
   ]
  },
  {
   "cell_type": "code",
   "execution_count": null,
   "id": "a59471dd-8094-4101-9980-7d2de94ea732",
   "metadata": {},
   "outputs": [],
   "source": [
    "x = np.linspace(0, 5, 1000)\n",
    "sample_sizes = [int(ratio * len(base_sample)) for ratio in SAMPLE_SIZE_RATIOS]\n",
    "\n",
    "with warnings.catch_warnings():\n",
    "    warnings.simplefilter(\"ignore\")\n",
    "    densities = {size: estimate(base_sample[:size], x, rng) for size in sample_sizes}"
   ]
  },
  {
   "cell_type": "code",
   "execution_count": null,
   "id": "43253eb7-624f-422b-b07d-ea247a327c28",
   "metadata": {},
   "outputs": [],
   "source": [
    "def find_xlim(densities: Iterable[sc.DataArray]) -> Tuple[float, float]:\n",
    "    lo = min(map(lambda da: da.coords['x'].min().value, densities))\n",
    "    hi = max(map(lambda da: da.coords['x'].max().value, densities))\n",
    "    return float(lo), float(hi)\n",
    "\n",
    "\n",
    "def errorstep(ax, x, y, e, c, **kwargs):\n",
    "    ax.fill_between(x, y - e, y + e, step='mid', facecolor=c, alpha=0.5)\n",
    "    ax.step(x, y, where='mid', c=c, **kwargs)\n",
    "\n",
    "\n",
    "def errorfill(ax, x, y, e, c, **kwargs):\n",
    "    ax.fill_between(x, y - e, y + e, facecolor=c, alpha=0.5)\n",
    "    ax.plot(x, y, c=c, **kwargs)"
   ]
  },
  {
   "cell_type": "code",
   "execution_count": null,
   "id": "51c9253d-8fdf-4913-8397-a6b025e2ae96",
   "metadata": {},
   "outputs": [],
   "source": [
    "TRUE_R = 25.0\n",
    "true_distribution = sphere(r=TRUE_R, loc=0.0, scale=1.0)\n",
    "\n",
    "n_plots = len(densities)\n",
    "fig, axs = plt.subplots(nrows=n_plots // 3 + min(n_plots % 3, 1), ncols=min(n_plots, 3),\n",
    "                        squeeze=False, sharex='all', sharey='all',\n",
    "                        gridspec_kw={'wspace': 0, 'hspace': 0})\n",
    "\n",
    "for ax, (n, estimated) in zip(axs.flat, densities.items()):\n",
    "    x_true = np.linspace(*find_xlim(densities[n].values()), 1000)\n",
    "    ax.plot(x_true, true_distribution.pdf(x_true), c=COLOURS['true'], label='pdf')\n",
    "    for name, data in estimated.items():\n",
    "        fn = errorstep if name == 'histogram' else errorfill\n",
    "        fn(ax, data.coords['x'].values, data.data.values, np.sqrt(data.data.variances),\n",
    "           c=COLOURS[name], label=name)\n",
    "\n",
    "    ax.set_yscale('log')\n",
    "    ax.set_ylim((1e-10, 2))\n",
    "\n",
    "for ax in axs[:, 0]:\n",
    "    ax.set_ylabel('density')\n",
    "\n",
    "for ax in axs[-1, :]:\n",
    "    ax.set_xlabel(f'q [{q_unit}]')\n",
    "\n",
    "axs[0, 0].legend()\n",
    "fig.tight_layout()"
   ]
  },
  {
   "cell_type": "code",
   "execution_count": null,
   "id": "2f3c613d-5d97-41d4-9ad4-eb996a87dcbe",
   "metadata": {},
   "outputs": [],
   "source": [
    "fig, ax = plt.subplots(1, 1)\n",
    "ax.set_xlabel('n')\n",
    "ax.set_ylabel('r')\n",
    "\n",
    "fit_results = {}\n",
    "for n, per_n in densities.items():\n",
    "    for name, result in per_n.items():\n",
    "        fit_results.setdefault(name, []).append((n, result.attrs['r'].value, result.attrs['r'].variance))\n",
    "for name, data in fit_results.items():\n",
    "    x, y, e = zip(*data)\n",
    "    ax.errorbar(x, y, e, c=COLOURS[name], label=name)\n",
    "\n",
    "ax.legend()\n",
    "fig.tight_layout()"
   ]
  },
  {
   "cell_type": "code",
   "execution_count": null,
   "id": "c633a0f5-48cc-4edb-a56c-12cc9347af2d",
   "metadata": {},
   "outputs": [],
   "source": []
  }
 ],
 "metadata": {
  "kernelspec": {
   "display_name": "Python 3 (ipykernel)",
   "language": "python",
   "name": "python3"
  },
  "language_info": {
   "codemirror_mode": {
    "name": "ipython",
    "version": 3
   },
   "file_extension": ".py",
   "mimetype": "text/x-python",
   "name": "python",
   "nbconvert_exporter": "python",
   "pygments_lexer": "ipython3",
   "version": "3.8.10"
  }
 },
 "nbformat": 4,
 "nbformat_minor": 5
}
