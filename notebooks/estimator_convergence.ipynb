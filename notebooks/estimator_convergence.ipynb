{
 "cells": [
  {
   "cell_type": "code",
   "execution_count": null,
   "id": "e6d035de-8df0-40db-97fe-77d0a521a924",
   "metadata": {},
   "outputs": [],
   "source": [
    "import numpy as np\n",
    "import matplotlib.pyplot as plt\n",
    "import scipy.stats as stats\n",
    "%matplotlib widget"
   ]
  },
  {
   "cell_type": "code",
   "execution_count": null,
   "id": "2f0a52d5-f284-40d0-be00-cdbbf023298f",
   "metadata": {},
   "outputs": [],
   "source": [
    "rng = np.random.default_rng(123)"
   ]
  },
  {
   "cell_type": "code",
   "execution_count": null,
   "id": "4954a3cd-69ae-48bb-9795-40b402838154",
   "metadata": {},
   "outputs": [],
   "source": [
    "def sphere(q, r):\n",
    "    qr = q * r\n",
    "    return np.where(q==0, 1, 9 * (np.sin(qr) - qr * np.cos(qr))**2 / qr**6)"
   ]
  },
  {
   "cell_type": "code",
   "execution_count": null,
   "id": "dd1e18b4-1431-473b-b19f-25900c258491",
   "metadata": {},
   "outputs": [],
   "source": [
    "pdf = lambda x: sphere(x, 2)"
   ]
  },
  {
   "cell_type": "code",
   "execution_count": null,
   "id": "82177763-8ea4-4b48-8925-c3ff9d5477c5",
   "metadata": {},
   "outputs": [],
   "source": [
    "def generate(rng, pdf, size):\n",
    "    x_max = 2\n",
    "    v_bound = np.sqrt(pdf(np.sqrt(x_max))) * np.sqrt(x_max)\n",
    "    umax, vmin, vmax = np.sqrt(pdf(0)), 0, v_bound\n",
    "    return stats.rvs_ratio_uniforms(pdf, umax, vmin, vmax, size=size, random_state=rng)"
   ]
  },
  {
   "cell_type": "code",
   "execution_count": null,
   "id": "775dd3b1-9704-4839-94c1-58975d131735",
   "metadata": {},
   "outputs": [],
   "source": [
    "samples = {n: generate(rng, pdf, n) for n in (100, 1000, 10000, 100000)}"
   ]
  },
  {
   "cell_type": "code",
   "execution_count": null,
   "id": "aa349d6c-ddd5-468a-9f67-dd315920fa9c",
   "metadata": {},
   "outputs": [],
   "source": [
    "def histogram(sample, bins):\n",
    "    return np.histogram(sample, bins=bins, density=True)"
   ]
  },
  {
   "cell_type": "code",
   "execution_count": null,
   "id": "a94b2acb-bc96-476d-ac0d-c46fa5bca301",
   "metadata": {},
   "outputs": [],
   "source": [
    "x = np.linspace(0, 10, 4000)\n",
    "delta_x = (x[1]+x[0])/2\n",
    "edges = np.concatenate((x - delta_x, [x[-1]+delta_x]))\n",
    "hists = {n: histogram(sample, bins=edges) for n, sample in samples.items()}"
   ]
  },
  {
   "cell_type": "code",
   "execution_count": null,
   "id": "8c92fcd7-e372-40f2-a675-5100e1df11a9",
   "metadata": {},
   "outputs": [],
   "source": [
    "fig, ax = plt.subplots(1)\n",
    "\n",
    "for n, (density, edges) in hists.items():\n",
    "    ax.plot(x, density, ls='', marker='.', markersize=1, label=f'hist({n})')\n",
    "\n",
    "ax.plot(x, pdf(x), c='k', label='pdf')\n",
    "ax.set_yscale('log')\n",
    "ax.legend()"
   ]
  },
  {
   "cell_type": "code",
   "execution_count": null,
   "id": "db3846a5-2ab6-4272-aa83-906e4fb9fb9c",
   "metadata": {},
   "outputs": [],
   "source": []
  },
  {
   "cell_type": "code",
   "execution_count": null,
   "id": "cf1a3b67-d7c6-4d5e-a8ae-c7eac030335c",
   "metadata": {},
   "outputs": [],
   "source": []
  },
  {
   "cell_type": "code",
   "execution_count": null,
   "id": "8952bfa6-7298-46ce-8ff3-89b0fc0a7b6c",
   "metadata": {},
   "outputs": [],
   "source": []
  },
  {
   "cell_type": "code",
   "execution_count": null,
   "id": "142ebcd8-cbbe-44b1-a98c-4634f52e22fc",
   "metadata": {},
   "outputs": [],
   "source": []
  }
 ],
 "metadata": {
  "kernelspec": {
   "display_name": "Python 3 (ipykernel)",
   "language": "python",
   "name": "python3"
  },
  "language_info": {
   "codemirror_mode": {
    "name": "ipython",
    "version": 3
   },
   "file_extension": ".py",
   "mimetype": "text/x-python",
   "name": "python",
   "nbconvert_exporter": "python",
   "pygments_lexer": "ipython3",
   "version": "3.9.5"
  }
 },
 "nbformat": 4,
 "nbformat_minor": 5
}
