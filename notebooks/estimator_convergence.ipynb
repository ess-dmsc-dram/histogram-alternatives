{
 "cells": [
  {
   "cell_type": "markdown",
   "id": "e38600d8-1b6e-471d-a855-7dfeb8083514",
   "metadata": {},
   "source": [
    "# Comparison between different estimators of distributions\n",
    "\n",
    "Currently compares histogram and KDE when estimating the form factor of a SANS sphere."
   ]
  },
  {
   "cell_type": "code",
   "execution_count": 1,
   "id": "e6d035de-8df0-40db-97fe-77d0a521a924",
   "metadata": {},
   "outputs": [],
   "source": [
    "import numpy as np\n",
    "import matplotlib.pyplot as plt\n",
    "import scipy.stats as stats\n",
    "import scipy\n",
    "from statsmodels.nonparametric.kde import KDEUnivariate, kernel_switch\n",
    "from halt.models import Sphere, sphere_pdf\n",
    "%matplotlib widget"
   ]
  },
  {
   "cell_type": "code",
   "execution_count": 2,
   "id": "2f0a52d5-f284-40d0-be00-cdbbf023298f",
   "metadata": {},
   "outputs": [],
   "source": [
    "rng = np.random.default_rng(174)"
   ]
  },
  {
   "cell_type": "code",
   "execution_count": 3,
   "id": "dd1e18b4-1431-473b-b19f-25900c258491",
   "metadata": {},
   "outputs": [],
   "source": [
    "true_distribution = Sphere(r=2)"
   ]
  },
  {
   "cell_type": "code",
   "execution_count": 4,
   "id": "42cf4d0b-934e-41bb-8d7a-f9f1e1aa23a1",
   "metadata": {},
   "outputs": [],
   "source": [
    "x = np.linspace(0, 5, 1000)"
   ]
  },
  {
   "cell_type": "code",
   "execution_count": 5,
   "id": "82177763-8ea4-4b48-8925-c3ff9d5477c5",
   "metadata": {
    "tags": []
   },
   "outputs": [],
   "source": [
    "sample_sizes = 10 ** np.array([2, 3, 4, 5])\n",
    "full_sample = true_distribution.rvs(size=sample_sizes[-1], random_state=rng)\n",
    "samples = {n: full_sample[:n] for n in sample_sizes}"
   ]
  },
  {
   "cell_type": "code",
   "execution_count": 6,
   "id": "910d9672-860d-40cc-8b36-a543bb5e98fe",
   "metadata": {
    "tags": []
   },
   "outputs": [],
   "source": [
    "def make_bin_edges(sample, xmin, xmax):\n",
    "    \"\"\"\n",
    "    Build bins for histogramming using the Freedman–Diaconis rule.\n",
    "    \"\"\"\n",
    "    width = 2 * stats.iqr(sample) / len(sample)**(1/3)\n",
    "    return np.arange(xmin, xmax+width, width)"
   ]
  },
  {
   "cell_type": "code",
   "execution_count": 7,
   "id": "a94b2acb-bc96-476d-ac0d-c46fa5bca301",
   "metadata": {},
   "outputs": [],
   "source": [
    "def histogram(sample):\n",
    "    bin_edges = make_bin_edges(sample, xmin=x[0], xmax=x[-1])\n",
    "    bin_centres = (bin_edges[1:] + bin_edges[:-1]) / 2\n",
    "    return bin_centres, np.histogram(sample, bins=bin_edges, density=True)[0]\n",
    "\n",
    "hists = {n: histogram(sample) for n, sample in samples.items()}"
   ]
  },
  {
   "cell_type": "code",
   "execution_count": 8,
   "id": "83b9e37d-24c6-400c-9f50-7d5450f0bd12",
   "metadata": {},
   "outputs": [],
   "source": [
    "def kde(sample):\n",
    "    estimator = KDEUnivariate(sample)\n",
    "    estimator.fit()\n",
    "    return estimator.evaluate(x)\n",
    "    \n",
    "kdes = {n: kde(sample) for n, sample in samples.items()}"
   ]
  },
  {
   "cell_type": "code",
   "execution_count": 15,
   "id": "8c92fcd7-e372-40f2-a675-5100e1df11a9",
   "metadata": {},
   "outputs": [
    {
     "data": {
      "application/vnd.jupyter.widget-view+json": {
       "model_id": "b9f66e290b1c42f09d7e4de94227251f",
       "version_major": 2,
       "version_minor": 0
      },
      "text/plain": [
       "Canvas(toolbar=Toolbar(toolitems=[('Home', 'Reset original view', 'home', 'home'), ('Back', 'Back to previous …"
      ]
     },
     "metadata": {},
     "output_type": "display_data"
    },
    {
     "data": {
      "text/plain": [
       "<matplotlib.legend.Legend at 0x7fbfd52b8bb0>"
      ]
     },
     "execution_count": 15,
     "metadata": {},
     "output_type": "execute_result"
    }
   ],
   "source": [
    "fig, ax = plt.subplots(1)\n",
    "\n",
    "for i, (n, (q, density)) in enumerate(hists.items()):\n",
    "    ax.plot(q, density, ls='', marker='.', markersize=3, c=f'C{i}', label=f'hist({n})')\n",
    "    \n",
    "for i, (n, density) in enumerate(kdes.items()):\n",
    "    ax.plot(x, density, c=f'C{i}', label=f'kde({n})')\n",
    "\n",
    "ax.plot(x, true_distribution.pdf(x), c='k', label='pdf')\n",
    "ax.set_xlabel('q')\n",
    "ax.set_ylabel('density')\n",
    "ax.set_yscale('log')\n",
    "ax.set_ylim((1e-6, 2))\n",
    "ax.legend()"
   ]
  },
  {
   "cell_type": "code",
   "execution_count": 10,
   "id": "77ae443a-27f3-493d-872d-bb8ee5b65a8b",
   "metadata": {},
   "outputs": [],
   "source": [
    "def fit_model(q, r):\n",
    "    return sphere_pdf(q, r)\n",
    "\n",
    "def unary_fit(*args, **kwargs):\n",
    "    (p,), ((e,),) = scipy.optimize.curve_fit(*args, **kwargs)\n",
    "    return p, e"
   ]
  },
  {
   "cell_type": "code",
   "execution_count": 18,
   "id": "7678eb3f-21cd-4d7c-9368-b56d728c9620",
   "metadata": {},
   "outputs": [
    {
     "data": {
      "application/vnd.jupyter.widget-view+json": {
       "model_id": "8d2842f99ecc4e5383c3ac1a417e6fbe",
       "version_major": 2,
       "version_minor": 0
      },
      "text/plain": [
       "Canvas(toolbar=Toolbar(toolitems=[('Home', 'Reset original view', 'home', 'home'), ('Back', 'Back to previous …"
      ]
     },
     "metadata": {},
     "output_type": "display_data"
    },
    {
     "data": {
      "text/plain": [
       "<matplotlib.legend.Legend at 0x7fbfd4f49fa0>"
      ]
     },
     "execution_count": 18,
     "metadata": {},
     "output_type": "execute_result"
    }
   ],
   "source": [
    "fig, ax = plt.subplots(1)\n",
    "\n",
    "hist_fits = list(zip(*[(n, *unary_fit(fit_model, xdata=q, ydata=density, p0=[1]))\n",
    "                       for n, (q, density) in hists.items()]))\n",
    "ax.errorbar(*hist_fits, label='hist')\n",
    "\n",
    "kde_fits = list(zip(*[(n, *unary_fit(fit_model, xdata=x, ydata=density, p0=[1]))\n",
    "                      for n, density in kdes.items()]))\n",
    "ax.errorbar(*kde_fits, label='kde')\n",
    "\n",
    "trunc_kde_fits = list(zip(*[(n, *unary_fit(fit_model, xdata=x[30:], ydata=density[30:], p0=[1]))\n",
    "                            for n, density in kdes.items()]))\n",
    "ax.errorbar(*trunc_kde_fits, label='truncated kde')\n",
    "\n",
    "ax.axhline(true_distribution.r, c='k', label='true')\n",
    "\n",
    "ax.set_xlabel('n')\n",
    "ax.set_ylabel('r')\n",
    "ax.set_xscale('log')\n",
    "ax.legend()"
   ]
  },
  {
   "cell_type": "code",
   "execution_count": null,
   "id": "766a4e29-b857-4528-9ae0-0df51ba8ebf4",
   "metadata": {},
   "outputs": [],
   "source": []
  }
 ],
 "metadata": {
  "kernelspec": {
   "display_name": "Python 3 (ipykernel)",
   "language": "python",
   "name": "python3"
  },
  "language_info": {
   "codemirror_mode": {
    "name": "ipython",
    "version": 3
   },
   "file_extension": ".py",
   "mimetype": "text/x-python",
   "name": "python",
   "nbconvert_exporter": "python",
   "pygments_lexer": "ipython3",
   "version": "3.9.5"
  }
 },
 "nbformat": 4,
 "nbformat_minor": 5
}
