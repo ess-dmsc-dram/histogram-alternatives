{
 "cells": [
  {
   "cell_type": "markdown",
   "id": "e38600d8-1b6e-471d-a855-7dfeb8083514",
   "metadata": {},
   "source": [
    "# Comparison between different estimators of distributions\n",
    "\n",
    "Currently compares histogram and KDE when estimating the form factor of a SANS sphere."
   ]
  },
  {
   "cell_type": "code",
   "execution_count": null,
   "id": "e6d035de-8df0-40db-97fe-77d0a521a924",
   "metadata": {},
   "outputs": [],
   "source": [
    "import numpy as np\n",
    "import matplotlib.pyplot as plt\n",
    "import scipy.stats as stats\n",
    "from statsmodels.nonparametric.kde import KDEUnivariate, kernel_switch\n",
    "%matplotlib widget"
   ]
  },
  {
   "cell_type": "code",
   "execution_count": null,
   "id": "2f0a52d5-f284-40d0-be00-cdbbf023298f",
   "metadata": {},
   "outputs": [],
   "source": [
    "rng = np.random.default_rng(123)"
   ]
  },
  {
   "cell_type": "code",
   "execution_count": null,
   "id": "4954a3cd-69ae-48bb-9795-40b402838154",
   "metadata": {},
   "outputs": [],
   "source": [
    "def sans_sphere(q, r):\n",
    "    qr = q * r\n",
    "    return np.where(q==0, 1, 9 * (np.sin(qr) - qr * np.cos(qr))**2 / qr**6)"
   ]
  },
  {
   "cell_type": "code",
   "execution_count": null,
   "id": "dd1e18b4-1431-473b-b19f-25900c258491",
   "metadata": {},
   "outputs": [],
   "source": [
    "pdf = lambda x: sans_sphere(x, 2)\n",
    "x = np.linspace(0, 5, 1000)"
   ]
  },
  {
   "cell_type": "code",
   "execution_count": null,
   "id": "82177763-8ea4-4b48-8925-c3ff9d5477c5",
   "metadata": {},
   "outputs": [],
   "source": [
    "def generate(rng, pdf, size):\n",
    "    x_max = 2\n",
    "    v_bound = np.sqrt(pdf(np.sqrt(x_max))) * np.sqrt(x_max)\n",
    "    umax, vmin, vmax = np.sqrt(pdf(0)), 0, v_bound\n",
    "    return stats.rvs_ratio_uniforms(pdf, umax, vmin, vmax, size=size, random_state=rng)\n",
    "samples = {n: generate(rng, pdf, n) for n in (100, 1000, 10000, 100000)}"
   ]
  },
  {
   "cell_type": "code",
   "execution_count": null,
   "id": "910d9672-860d-40cc-8b36-a543bb5e98fe",
   "metadata": {},
   "outputs": [],
   "source": [
    "def make_bin_edges(sample, xmin, xmax):\n",
    "    \"\"\"\n",
    "    Build bins for histogramming using the Freedman–Diaconis rule.\n",
    "    \"\"\"\n",
    "    width = 2 * stats.iqr(sample) / len(sample)**(1/3)\n",
    "    return np.arange(xmin, xmax+width, width)"
   ]
  },
  {
   "cell_type": "code",
   "execution_count": null,
   "id": "a94b2acb-bc96-476d-ac0d-c46fa5bca301",
   "metadata": {},
   "outputs": [],
   "source": [
    "def histogram(sample):\n",
    "    bin_edges = make_bin_edges(sample, xmin=x[0], xmax=x[-1])\n",
    "    bin_centres = (bin_edges[1:] + bin_edges[:-1]) / 2\n",
    "    return bin_centres, np.histogram(sample, bins=bin_edges, density=True)[0]\n",
    "\n",
    "hists = {n: histogram(sample) for n, sample in samples.items()}"
   ]
  },
  {
   "cell_type": "code",
   "execution_count": null,
   "id": "83b9e37d-24c6-400c-9f50-7d5450f0bd12",
   "metadata": {},
   "outputs": [],
   "source": [
    "def kde(sample):\n",
    "    estimator = KDEUnivariate(sample)\n",
    "    estimator.fit()\n",
    "    return estimator.evaluate(x)\n",
    "    \n",
    "kdes = {n: kde(sample) for n, sample in samples.items()}"
   ]
  },
  {
   "cell_type": "code",
   "execution_count": null,
   "id": "8c92fcd7-e372-40f2-a675-5100e1df11a9",
   "metadata": {},
   "outputs": [],
   "source": [
    "fig, ax = plt.subplots(1)\n",
    "\n",
    "for i, (n, (q, density)) in enumerate(hists.items()):\n",
    "    ax.plot(q, density, ls='', marker='.', markersize=3, c=f'C{i}', label=f'hist({n})')\n",
    "    \n",
    "for i, (n, density) in enumerate(kdes.items()):\n",
    "    ax.plot(x, density, c=f'C{i}', label=f'kde({n})')\n",
    "\n",
    "ax.plot(x, pdf(x), c='k', label='pdf')\n",
    "ax.set_yscale('log')\n",
    "ax.legend()"
   ]
  },
  {
   "cell_type": "code",
   "execution_count": null,
   "id": "db3846a5-2ab6-4272-aa83-906e4fb9fb9c",
   "metadata": {},
   "outputs": [],
   "source": []
  },
  {
   "cell_type": "code",
   "execution_count": null,
   "id": "8952bfa6-7298-46ce-8ff3-89b0fc0a7b6c",
   "metadata": {},
   "outputs": [],
   "source": []
  },
  {
   "cell_type": "code",
   "execution_count": null,
   "id": "1193df0c-0dc8-4a70-a403-ba9d5a95d35c",
   "metadata": {},
   "outputs": [],
   "source": []
  }
 ],
 "metadata": {
  "kernelspec": {
   "display_name": "Python 3 (ipykernel)",
   "language": "python",
   "name": "python3"
  },
  "language_info": {
   "codemirror_mode": {
    "name": "ipython",
    "version": 3
   },
   "file_extension": ".py",
   "mimetype": "text/x-python",
   "name": "python",
   "nbconvert_exporter": "python",
   "pygments_lexer": "ipython3",
   "version": "3.9.5"
  }
 },
 "nbformat": 4,
 "nbformat_minor": 5
}
