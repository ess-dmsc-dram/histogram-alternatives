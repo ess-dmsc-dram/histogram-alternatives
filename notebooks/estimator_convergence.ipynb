{
 "cells": [
  {
   "cell_type": "markdown",
   "id": "e38600d8-1b6e-471d-a855-7dfeb8083514",
   "metadata": {},
   "source": [
    "# Comparison between different estimators of distributions\n",
    "\n",
    "Currently compares histogram and KDE when estimating the form factor of a SANS sphere."
   ]
  },
  {
   "cell_type": "code",
   "execution_count": null,
   "id": "e6d035de-8df0-40db-97fe-77d0a521a924",
   "metadata": {},
   "outputs": [],
   "source": [
    "import numpy as np\n",
    "import matplotlib.pyplot as plt\n",
    "import scipy.stats as stats\n",
    "import scipy\n",
    "from statsmodels.nonparametric.kde import KDEUnivariate, kernel_switch\n",
    "from halt.models import sphere, sphere_pdf\n",
    "%matplotlib widget"
   ]
  },
  {
   "cell_type": "code",
   "execution_count": null,
   "id": "2f0a52d5-f284-40d0-be00-cdbbf023298f",
   "metadata": {},
   "outputs": [],
   "source": [
    "rng = np.random.default_rng(174)"
   ]
  },
  {
   "cell_type": "code",
   "execution_count": null,
   "id": "dd1e18b4-1431-473b-b19f-25900c258491",
   "metadata": {},
   "outputs": [],
   "source": [
    "true_distribution = sphere(r=2.0, loc=0.0, scale=1.0)"
   ]
  },
  {
   "cell_type": "code",
   "execution_count": null,
   "id": "42cf4d0b-934e-41bb-8d7a-f9f1e1aa23a1",
   "metadata": {},
   "outputs": [],
   "source": [
    "x = np.linspace(0, 5, 1000)"
   ]
  },
  {
   "cell_type": "code",
   "execution_count": null,
   "id": "82177763-8ea4-4b48-8925-c3ff9d5477c5",
   "metadata": {
    "tags": []
   },
   "outputs": [],
   "source": [
    "sample_sizes = [100, 250, 500, 750, 1000, 5000]\n",
    "full_sample = true_distribution.rvs(size=sample_sizes[-1], random_state=rng)\n",
    "samples = {n: full_sample[:n] for n in sample_sizes}"
   ]
  },
  {
   "cell_type": "code",
   "execution_count": null,
   "id": "910d9672-860d-40cc-8b36-a543bb5e98fe",
   "metadata": {
    "tags": []
   },
   "outputs": [],
   "source": [
    "def make_bin_edges(sample, xmin, xmax):\n",
    "    \"\"\"\n",
    "    Build bins for histogramming using the Freedman–Diaconis rule.\n",
    "    \"\"\"\n",
    "    width = 2 * stats.iqr(sample) / len(sample)**(1/3)\n",
    "    return np.arange(xmin, xmax+width, width)"
   ]
  },
  {
   "cell_type": "code",
   "execution_count": null,
   "id": "a94b2acb-bc96-476d-ac0d-c46fa5bca301",
   "metadata": {},
   "outputs": [],
   "source": [
    "def histogram(sample):\n",
    "    bin_edges = make_bin_edges(sample, xmin=x[0], xmax=x[-1])\n",
    "    bin_centres = (bin_edges[1:] + bin_edges[:-1]) / 2\n",
    "    return bin_centres, np.histogram(sample, bins=bin_edges, density=True)[0]\n",
    "\n",
    "hists = {n: histogram(sample) for n, sample in samples.items()}"
   ]
  },
  {
   "cell_type": "code",
   "execution_count": null,
   "id": "83b9e37d-24c6-400c-9f50-7d5450f0bd12",
   "metadata": {},
   "outputs": [],
   "source": [
    "def kde(sample):\n",
    "    estimator = KDEUnivariate(sample)\n",
    "    estimator.fit()\n",
    "    return estimator.evaluate(x)\n",
    "    \n",
    "kdes = {n: kde(sample) for n, sample in samples.items()}"
   ]
  },
  {
   "cell_type": "code",
   "execution_count": null,
   "id": "a84c6f6a-bd5f-412b-a45a-19401838d7f8",
   "metadata": {},
   "outputs": [],
   "source": [
    "def maximum_likelihood(sample):\n",
    "    return sphere.fit(sample, floc=0.0, fscale=1.0)[0]\n",
    "\n",
    "mles = {n: maximum_likelihood(sample) for n, sample in samples.items()}"
   ]
  },
  {
   "cell_type": "code",
   "execution_count": null,
   "id": "8c92fcd7-e372-40f2-a675-5100e1df11a9",
   "metadata": {},
   "outputs": [],
   "source": [
    "n_plots = len(samples)\n",
    "fig, axs = plt.subplots(nrows=n_plots//3+min(n_plots%3,1), ncols=min(n_plots, 3),\n",
    "                        squeeze=False, sharex=True, sharey=True, gridspec_kw={'wspace':0, 'hspace':0})\n",
    "\n",
    "first = True\n",
    "for ax, n in zip(axs.flat, samples.keys()):\n",
    "    ax.plot(x, true_distribution.pdf(x), c='k', label='pdf')\n",
    "    ax.step(*hists[n], where='mid', label=f'hist({n})')\n",
    "    ax.plot(x, sphere.pdf(x, r=mles[n]), ls='--', label=f'MLE({n})')\n",
    "    ax.plot(x, kdes[n], label=f'kde({n})')\n",
    "\n",
    "    ax.set_yscale('log')\n",
    "    ax.set_ylim((1e-6, 2))\n",
    "\n",
    "for ax in axs[:, 0]:\n",
    "    ax.set_ylabel('density')\n",
    "    \n",
    "for ax in axs[-1, :]:\n",
    "    ax.set_xlabel('q')\n",
    "    \n",
    "axs[0, 0].legend()\n",
    "fig.tight_layout()"
   ]
  },
  {
   "cell_type": "code",
   "execution_count": null,
   "id": "77ae443a-27f3-493d-872d-bb8ee5b65a8b",
   "metadata": {},
   "outputs": [],
   "source": [
    "def fit_model(q, r):\n",
    "    return sphere_pdf(q, r)\n",
    "\n",
    "def unary_fit(*args, **kwargs):\n",
    "    (p,), ((e,),) = scipy.optimize.curve_fit(*args, **kwargs)\n",
    "    return p, e"
   ]
  },
  {
   "cell_type": "code",
   "execution_count": null,
   "id": "7678eb3f-21cd-4d7c-9368-b56d728c9620",
   "metadata": {},
   "outputs": [],
   "source": [
    "fig, ax = plt.subplots(1)\n",
    "\n",
    "ax.axhline(true_distribution.kwds['r'], c='k', label='true')\n",
    "\n",
    "ml_fits = list(zip(*mles.items()))\n",
    "ax.plot(*ml_fits, label='ML')\n",
    "\n",
    "hist_fits = list(zip(*[(n, *unary_fit(fit_model, xdata=q, ydata=density, p0=[1]))\n",
    "                       for n, (q, density) in hists.items()]))\n",
    "ax.errorbar(*hist_fits, label='hist')\n",
    "\n",
    "kde_fits = list(zip(*[(n, *unary_fit(fit_model, xdata=x, ydata=density, p0=[1]))\n",
    "                      for n, density in kdes.items()]))\n",
    "ax.errorbar(*kde_fits, label='kde')\n",
    "\n",
    "trunc_kde_fits = list(zip(*[(n, *unary_fit(fit_model, xdata=x[30:], ydata=density[30:], p0=[1]))\n",
    "                            for n, density in kdes.items()]))\n",
    "ax.errorbar(*trunc_kde_fits, label='truncated kde')\n",
    "\n",
    "ax.set_xlabel('n')\n",
    "ax.set_ylabel('r')\n",
    "ax.set_xscale('log')\n",
    "ax.legend()"
   ]
  },
  {
   "cell_type": "code",
   "execution_count": null,
   "id": "afd26c2f-3b7e-4047-bde5-e630708782d2",
   "metadata": {},
   "outputs": [],
   "source": []
  }
 ],
 "metadata": {
  "kernelspec": {
   "display_name": "Python 3 (ipykernel)",
   "language": "python",
   "name": "python3"
  },
  "language_info": {
   "codemirror_mode": {
    "name": "ipython",
    "version": 3
   },
   "file_extension": ".py",
   "mimetype": "text/x-python",
   "name": "python",
   "nbconvert_exporter": "python",
   "pygments_lexer": "ipython3",
   "version": "3.9.5"
  }
 },
 "nbformat": 4,
 "nbformat_minor": 5
}
