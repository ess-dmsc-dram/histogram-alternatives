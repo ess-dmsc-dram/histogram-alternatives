{
 "cells": [
  {
   "cell_type": "markdown",
   "id": "e38600d8-1b6e-471d-a855-7dfeb8083514",
   "metadata": {},
   "source": [
    "# Comparison between different estimators of distributions\n",
    "\n",
    "Currently compares histograms, KDE, and maximum likelihood fits when estimating the form factor of a SANS sphere using data samples directly from the form factor."
   ]
  },
  {
   "cell_type": "code",
   "execution_count": null,
   "id": "e6d035de-8df0-40db-97fe-77d0a521a924",
   "metadata": {},
   "outputs": [],
   "source": [
    "from typing import Dict, Iterable, Tuple\n",
    "\n",
    "import numpy as np\n",
    "import matplotlib.pyplot as plt\n",
    "import scipy\n",
    "import scipp as sc\n",
    "from halt.models import sphere, sphere_pdf\n",
    "from halt.estimators import HistogramEstimator, KDEEstimator, MaximumLikelihoodEstimator\n",
    "\n",
    "%matplotlib widget"
   ]
  },
  {
   "cell_type": "markdown",
   "id": "d9d1305d-c5ad-4b26-be20-960d9c9d4888",
   "metadata": {},
   "source": [
    "## Configure run"
   ]
  },
  {
   "cell_type": "code",
   "execution_count": null,
   "id": "b8aad468-efa9-455f-9b11-58290ce541f4",
   "metadata": {},
   "outputs": [],
   "source": [
    "TRUE_R = 2.0\n",
    "SAMPLE_SIZES = [100, 200]\n",
    "N_RESAMPLE = 100\n",
    "N_RESAMPLE_MLE = 2\n",
    "COLOURS = {'KDE': 'C0', 'histogram': 'C1', 'MLE': 'C2', 'true': 'k'}"
   ]
  },
  {
   "cell_type": "markdown",
   "id": "e013fa4a-976b-49b2-937c-ccf1ddad0ecd",
   "metadata": {},
   "source": [
    "## Estimate distributions and fit parameters"
   ]
  },
  {
   "cell_type": "code",
   "execution_count": null,
   "id": "e5d5c785-fbe4-43eb-9947-5269e0a9608e",
   "metadata": {},
   "outputs": [],
   "source": [
    "def make_sample(dist, size, rng):\n",
    "    return dist.rvs(size=size, random_state=rng)"
   ]
  },
  {
   "cell_type": "code",
   "execution_count": null,
   "id": "7476ea17-dd6c-443a-b7b3-bc01ff0c54e7",
   "metadata": {},
   "outputs": [],
   "source": [
    "def unary_fit(*args, **kwargs):\n",
    "    (p,), ((_e,),) = scipy.optimize.curve_fit(*args, **kwargs)\n",
    "    return p\n",
    "\n",
    "\n",
    "def fit_r(data: sc.DataArray) -> sc.Variable:\n",
    "    return sc.scalar(\n",
    "        unary_fit(sphere_pdf,\n",
    "                  xdata=data.coords['x'].values,\n",
    "                  ydata=data.data.values,\n",
    "                  p0=[1]))"
   ]
  },
  {
   "cell_type": "code",
   "execution_count": null,
   "id": "148ed2bc-6281-4015-a357-5cd34b89af55",
   "metadata": {},
   "outputs": [],
   "source": [
    "def estimate(sample, x, rng):\n",
    "    estimators = (KDEEstimator(sample, x, {'r': fit_r}),\n",
    "                  HistogramEstimator(sample, x, {'r': fit_r}))\n",
    "    results = {estimator.name: estimator(N_RESAMPLE, rng) for estimator in estimators}\n",
    "    mle = MaximumLikelihoodEstimator(sample, x, sphere)\n",
    "    results[mle.name] = mle(N_RESAMPLE_MLE, rng)\n",
    "    return results"
   ]
  },
  {
   "cell_type": "code",
   "execution_count": null,
   "id": "9fac71a9-322f-4548-9d0b-3fcc9cab1083",
   "metadata": {},
   "outputs": [],
   "source": [
    "rng = np.random.default_rng(8471)"
   ]
  },
  {
   "cell_type": "code",
   "execution_count": null,
   "id": "5f796a9e-d9fb-4057-9b4f-22102a2e9a9a",
   "metadata": {},
   "outputs": [],
   "source": [
    "true_distribution = sphere(r=TRUE_R, loc=0.0, scale=1.0)\n",
    "base_sample = make_sample(true_distribution, SAMPLE_SIZES[-1], rng)"
   ]
  },
  {
   "cell_type": "code",
   "execution_count": null,
   "id": "ac408330-d654-4a91-a276-fb9a53dd8294",
   "metadata": {},
   "outputs": [],
   "source": [
    "x = np.linspace(0, 5, 1000)\n",
    "densities = {size: estimate(base_sample[:size], x, rng) for size in SAMPLE_SIZES}"
   ]
  },
  {
   "cell_type": "markdown",
   "id": "fcaefa07-f046-4a7f-b540-b6a66c876a02",
   "metadata": {},
   "source": [
    "## Plot results"
   ]
  },
  {
   "cell_type": "code",
   "execution_count": null,
   "id": "69cdef6a-1b36-4802-b007-2e18e0e95267",
   "metadata": {},
   "outputs": [],
   "source": [
    "def find_xlim(densities: Iterable[sc.DataArray]) -> Tuple[float, float]:\n",
    "    lo = min(map(lambda da: da.coords['x'].min().value, densities))\n",
    "    hi = max(map(lambda da: da.coords['x'].max().value, densities))\n",
    "    return float(lo), float(hi)\n",
    "\n",
    "\n",
    "def errorstep(ax, x, y, e, c, **kwargs):\n",
    "    ax.fill_between(x, y - e, y + e, step='mid', facecolor=c, alpha=0.5)\n",
    "    ax.step(x, y, where='mid', c=c, **kwargs)\n",
    "\n",
    "\n",
    "def errorfill(ax, x, y, e, c, **kwargs):\n",
    "    ax.fill_between(x, y - e, y + e, facecolor=c, alpha=0.5)\n",
    "    ax.plot(x, y, c=c, **kwargs)"
   ]
  },
  {
   "cell_type": "code",
   "execution_count": null,
   "id": "f56e810a-6716-4cde-b798-7e2f402d685a",
   "metadata": {},
   "outputs": [],
   "source": [
    "n_plots = len(densities)\n",
    "fig, axs = plt.subplots(nrows=n_plots // 3 + min(n_plots % 3, 1), ncols=min(n_plots, 3),\n",
    "                        squeeze=False, sharex='all', sharey='all',\n",
    "                        gridspec_kw={'wspace': 0, 'hspace': 0})\n",
    "\n",
    "for ax, (n, estimated) in zip(axs.flat, densities.items()):\n",
    "    x_true = np.linspace(*find_xlim(densities[n].values()), 1000)\n",
    "    ax.plot(x_true, true_distribution.pdf(x_true), c=COLOURS['true'], label='pdf')\n",
    "    for name, data in estimated.items():\n",
    "        fn = errorstep if name == 'histogram' else errorfill\n",
    "        fn(ax, data.coords['x'].values, data.data.values, np.sqrt(data.data.variances),\n",
    "           c=COLOURS[name], label=name)\n",
    "\n",
    "    ax.set_yscale('log')\n",
    "    ax.set_ylim((1e-6, 2))\n",
    "\n",
    "for ax in axs[:, 0]:\n",
    "    ax.set_ylabel('density')\n",
    "\n",
    "for ax in axs[-1, :]:\n",
    "    ax.set_xlabel('q')\n",
    "\n",
    "axs[0, 0].legend()\n",
    "fig.tight_layout()"
   ]
  },
  {
   "cell_type": "code",
   "execution_count": null,
   "id": "848fc579-3b33-49d5-81d7-ad54ecb566fb",
   "metadata": {},
   "outputs": [],
   "source": [
    "fig, ax = plt.subplots(1, 1)\n",
    "ax.axhline(TRUE_R, c=COLOURS['true'])\n",
    "ax.set_xlabel('n')\n",
    "ax.set_ylabel('r')\n",
    "\n",
    "fit_results = {}\n",
    "for n, per_n in densities.items():\n",
    "    for name, result in per_n.items():\n",
    "        fit_results.setdefault(name, []).append((n, result.attrs['r'].value, result.attrs['r'].variance))\n",
    "for name, data in fit_results.items():\n",
    "    x, y, e = zip(*data)\n",
    "    ax.errorbar(x, y, e, c=COLOURS[name], label=name)\n",
    "\n",
    "ax.legend()\n",
    "fig.tight_layout()"
   ]
  }
 ],
 "metadata": {
  "kernelspec": {
   "display_name": "Python 3 (ipykernel)",
   "language": "python",
   "name": "python3"
  },
  "language_info": {
   "codemirror_mode": {
    "name": "ipython",
    "version": 3
   },
   "file_extension": ".py",
   "mimetype": "text/x-python",
   "name": "python",
   "nbconvert_exporter": "python",
   "pygments_lexer": "ipython3",
   "version": "3.8.10"
  }
 },
 "nbformat": 4,
 "nbformat_minor": 5
}
