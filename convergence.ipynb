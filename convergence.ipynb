{
 "cells": [
  {
   "cell_type": "code",
   "execution_count": 1,
   "id": "7e9cc5d1-47a7-4eab-ab8f-fda10baf5f16",
   "metadata": {},
   "outputs": [],
   "source": [
    "import numpy as np\n",
    "import scipp as sc\n",
    "import scippneutron as scn\n",
    "\n",
    "from halt.io import cached_load"
   ]
  },
  {
   "cell_type": "code",
   "execution_count": 2,
   "id": "1a8030c6-b29d-4094-85d7-056b33ee48ff",
   "metadata": {},
   "outputs": [],
   "source": [
    "rng = np.random.default_rng(8371)"
   ]
  },
  {
   "cell_type": "code",
   "execution_count": 3,
   "id": "8cb88f45-c4e6-440f-a5dc-2ca5f66a17ab",
   "metadata": {},
   "outputs": [],
   "source": [
    "data = cached_load('data/C60_n1e8.h5', 'EventData')\n",
    "data.coords['spectrum'] = data.coords['spectrum'].astype(sc.dtype.int64)"
   ]
  },
  {
   "cell_type": "code",
   "execution_count": 4,
   "id": "c8adc8b6-6110-4bab-ae21-0b0da4fbd5c4",
   "metadata": {},
   "outputs": [
    {
     "data": {
      "application/javascript": [
       "\n",
       "            const style = document.createElement('style');\n",
       "            style.textContent = String.raw`:root{--sc-background-color0:var(--jp-layout-color0,#fff);--sc-background-color1:var(--jp-layout-color1,#fcfcfc);--sc-background-color2:var(--jp-layout-color2,#efefef);--sc-inverse-background-color0:var(--jp-inverse-layout-color4,#111);--sc-font-color0:var(--jp-content-font-color0,#000);--sc-font-color1:var(--jp-content-font-color1,#555);--sc-font-color2:var(--jp-content-font-color2,#888);--sc-font-color3:var(--jp-content-font-color3,#ccc);--sc-table-data-color:#f6d028;--sc-table-coords-color:#c6e590;--sc-table-masks-color:#c8c8c8;--sc-table-attrs-color:#ff5555;--sc-table-header-font-color:#111111;}.sc-wrap{font-size:14px;min-width:300px;max-width:800px;}.sc-var-attrs .sc-wrap{padding-left:3em;}.sc-header{padding-top:6px;padding-bottom:6px;margin-bottom:4px;border-bottom:solid 1px #ddd;}.sc-header > div,.sc-header > ul{display:inline;margin-top:0;margin-bottom:0;}.sc-obj-type,.sc-array-name{margin-left:2px;margin-right:10px;}.sc-obj-type{color:var(--sc-font-color1);}.sc-underlying-size{color:var(--sc-font-color2);}.sc-sections{padding-left:0 !important;display:grid;grid-template-columns:150px auto auto auto 1fr 20px 20px;}.sc-section-item{display:contents;}.sc-section-item input{display:none;}.sc-section-item input:enabled + label{cursor:pointer;color:var(--sc-font-color1);}.sc-section-item input:enabled + label:hover{color:var(--sc-font-color0);}.sc-section-summary{grid-column:1;font-weight:500;}.sc-section-summary > span{display:inline-block;padding-left:0.5em;}.sc-section-summary-in:disabled + label{color:var(--sc-font-color1);}.sc-section-summary-in + label:before{display:inline-block;content:'►';font-size:11px;width:15px;text-align:center;}.sc-section-summary-in:disabled + label:before{color:var(--sc-font-color3);}.sc-section-summary-in:checked + label:before{content:'▼';}.sc-section-summary-in:checked + label > span{display:none;}.sc-section-summary,.sc-section-inline-details{padding-top:4px;padding-bottom:4px;}.sc-section-inline-details{grid-column:2 / 5;}.sc-section-details{display:none;grid-column:1 / -1;margin-bottom:5px;}.sc-section-summary-in:checked ~ .sc-section-details{display:contents;}.sc-array-wrap{grid-column:1 / -1;display:grid;grid-template-columns:20px auto;}.sc-array-wrap > label{grid-column:1;vertical-align:top;}.sc-preview{color:var(--sc-font-color2);}.sc-array-preview,.sc-array-data{padding:0 5px !important;grid-column:2;}.sc-array-data,.sc-array-in:checked ~ .sc-array-preview{display:none;}.sc-array-in:checked ~ .sc-array-data,.sc-array-preview{display:inline-block;}.sc-dim-list{display:inline-block !important;list-style:none;padding:0 !important;margin:0;}.sc-dim-list li{display:inline-block;padding:0;margin:0!important;}.sc-dim-list:before{content:'(';}.sc-dim-list:after{content:')';}.sc-dim-list li:not(:last-child):after{content:',';padding-right:5px;}.sc-has-index{font-weight:bold;}.sc-var-list,.sc-var-item{display:contents;}.sc-var-item > div,.sc-var-item label,.sc-var-item > .sc-var-name span{background-color:var(--sc-background-color1);margin-bottom:0;}.sc-var-item > .sc-var-name:hover span{padding-right:5px;}.sc-var-list > li:nth-child(odd) > div,.sc-var-list > li:nth-child(odd) > label,.sc-var-list > li:nth-child(odd) > .sc-var-name span{background-color:var(--sc-background-color2);}.sc-var-name{grid-column:1;}.sc-var-dims{grid-column:2;}.sc-var-dtype{grid-column:3;text-align:right;color:var(--sc-font-color2);}.sc-var-unit{grid-column:4;text-align:left;color:var(--sc-font-color1);}.sc-value-preview{grid-column:5;}.sc-var-preview-variances{text-align:right;}.sc-sections .sc-section-item .sc-section-summary,.sc-sections .sc-section-item .sc-section-inline-details,.sc-section-item .sc-var-list .sc-var-item > div,.sc-section-item .sc-var-list .sc-var-item > label,.sc-section-details .sc-var-list .sc-var-item > div,.sc-section-details .sc-var-list .sc-var-item > label{margin-top:0;margin-bottom:0;}.sc-var-name,.sc-var-dims,.sc-var-dtype,.sc-var-unit,.sc-preview,.sc-attrs dt{white-space:nowrap;overflow:hidden;text-overflow:ellipsis;padding-right:10px;}.sc-var-name:hover,.sc-var-dims:hover,.sc-var-dtype:hover,.sc-var-unit:hover,.sc-attrs dt:hover{overflow:visible;width:auto;z-index:1;}.sc-var-attrs{display:block;}.sc-var-data{display:none;}.sc-var-attrs,.sc-var-data{background-color:var(--sc-background-color0) !important;padding-bottom:5px !important;}.sc-var-attrs-in:checked ~ .sc-var-attrs{display:none;}.sc-var-data-in:checked ~ .sc-var-data{display:block;}.sc-var-data > table{float:right;}.sc-var-name span,.sc-var-data{padding-left:25px !important;}.sc-var-attrs,.sc-var-data{grid-column:1 / -1;}dl.sc-attrs{padding:0;margin:0;display:grid;grid-template-columns:125px auto;}.sc-attrs dt,dd{padding:0;margin:0;float:left;padding-right:10px;width:auto;}.sc-attrs dt{font-weight:normal;grid-column:1;}.sc-attrs dt:hover span{display:inline-block;padding-right:10px;}.sc-attrs dd{grid-column:2;white-space:pre-wrap;word-break:break-all;}.sc-icon-database,.sc-icon-file-text2{display:inline-block;vertical-align:middle;width:1em;height:1.5em !important;stroke-width:0;stroke:currentColor;fill:currentColor;}label.sc-hide-icon svg{opacity:0;}.sc-standalone-var-name{grid-column:1/3;}.sc-standalone-var-name span{padding-left:25px;padding-right:10px;}.sc-table{border-collapse:collapse;}.sc-title{font-weight:bold;font-size:1.5em;}.sc-subtitle{font-weight:normal;font-style:italic;text-align:left;font-size:1.2em;padding:1px;}.sc-table th,.sc-table td{border:1px solid var(--sc-inverse-background-color0);padding:0 5px 0 5px;}.sc-table th{text-align:center;}.sc-table tr{background-color:var(--sc-background-color1);text-align:right;}.sc-table tr:hover{background-color:var(--sc-background-color2);}.sc-table th.sc-data{background-color:var(--sc-table-data-color);color:var(--sc-table-header-font-color);}.sc-table th.sc-coords{background-color:var(--sc-table-coords-color);color:var(--sc-table-header-font-color);}.sc-table th.sc-masks{background-color:var(--sc-table-masks-color);color:var(--sc-table-header-font-color);}.sc-table th.sc-attrs{background-color:var(--sc-table-attrs-color);color:var(--sc-table-header-font-color);}.sc-table th.sc-subheader{background-color:var(--sc-background-color2);}.sc-table td.sc-padding{background-color:var(--sc-background-color1);border:0 solid var(--sc-background-color1);height:1.2em;}.sc-label{fill:var(--sc-font-color0,#444444);text-anchor:middle;}.sc-name{fill:var(--sc-font-color0,#111111);}.sc-inset-line{stroke:var(--sc-font-color1);stroke-width:0.05;stroke-dasharray:0.2,0.2;}`;\n",
       "            document.head.append(style);\n",
       "            "
      ],
      "text/plain": [
       "<IPython.core.display.Javascript object>"
      ]
     },
     "metadata": {},
     "output_type": "display_data"
    },
    {
     "data": {
      "text/html": [
       "<div><!-- Original source from -->\n",
       "<!-- https://github.com/jsignell/xarray/blob/1d960933ab252e0f79f7e050e6c9261d55568057/xarray/static/html/icons-svg-inline.html -->\n",
       "<svg style=\"position: absolute; width: 0; height: 0; overflow: hidden\">\n",
       "<defs>\n",
       "<symbol id=\"icon-database\" viewBox=\"0 0 32 32\">\n",
       "<title>Show/Hide data repr</title>\n",
       "<path d=\"M16 0c-8.837 0-16 2.239-16 5v4c0 2.761 7.163 5 16 5s16-2.239 16-5v-4c0-2.761-7.163-5-16-5z\"></path>\n",
       "<path d=\"M16 17c-8.837 0-16-2.239-16-5v6c0 2.761 7.163 5 16 5s16-2.239 16-5v-6c0 2.761-7.163 5-16 5z\"></path>\n",
       "<path d=\"M16 26c-8.837 0-16-2.239-16-5v6c0 2.761 7.163 5 16 5s16-2.239 16-5v-6c0 2.761-7.163 5-16 5z\"></path>\n",
       "</symbol>\n",
       "<symbol id=\"icon-file-text2\" viewBox=\"0 0 32 32\">\n",
       "<title>Show/Hide attributes</title>\n",
       "<path d=\"M28.681 7.159c-0.694-0.947-1.662-2.053-2.724-3.116s-2.169-2.030-3.116-2.724c-1.612-1.182-2.393-1.319-2.841-1.319h-15.5c-1.378 0-2.5 1.121-2.5 2.5v27c0 1.378 1.122 2.5 2.5 2.5h23c1.378 0 2.5-1.122 2.5-2.5v-19.5c0-0.448-0.137-1.23-1.319-2.841zM24.543 5.457c0.959 0.959 1.712 1.825 2.268 2.543h-4.811v-4.811c0.718 0.556 1.584 1.309 2.543 2.268zM28 29.5c0 0.271-0.229 0.5-0.5 0.5h-23c-0.271 0-0.5-0.229-0.5-0.5v-27c0-0.271 0.229-0.5 0.5-0.5 0 0 15.499-0 15.5 0v7c0 0.552 0.448 1 1 1h7v19.5z\"></path>\n",
       "<path d=\"M23 26h-14c-0.552 0-1-0.448-1-1s0.448-1 1-1h14c0.552 0 1 0.448 1 1s-0.448 1-1 1z\"></path>\n",
       "<path d=\"M23 22h-14c-0.552 0-1-0.448-1-1s0.448-1 1-1h14c0.552 0 1 0.448 1 1s-0.448 1-1 1z\"></path>\n",
       "<path d=\"M23 18h-14c-0.552 0-1-0.448-1-1s0.448-1 1-1h14c0.552 0 1 0.448 1 1s-0.448 1-1 1z\"></path>\n",
       "</symbol>\n",
       "</defs>\n",
       "</svg><div class='sc-wrap'><div class='sc-header'><div class='sc-obj-type'>scipp.DataArray (3.02 MB)</div></div><ul class='sc-sections'><li class='sc-section-item'><input id='section-e9ba7d4b-28c8-48cb-a897-46e378b2b02c' class='sc-section-summary-in' type='checkbox' disabled ><label for='section-e9ba7d4b-28c8-48cb-a897-46e378b2b02c' class='sc-section-summary'  title='Expand/collapse section'>Dimensions:</label><div class='sc-section-inline-details'><ul class='sc-dim-list'><li><span class='sc-has-index'>spectrum</span>: 16384</li><li><span class='sc-has-index'>tof</span>: 1</li></ul></div><div class='sc-section-details'></div></li><li class='sc-section-item'><input id='section-0831d426-a87d-488b-8782-39f29b4ca74c' class='sc-section-summary-in' type='checkbox'  checked><label for='section-0831d426-a87d-488b-8782-39f29b4ca74c' class='sc-section-summary' >Coordinates: <span>(5)</span></label><div class='sc-section-inline-details'></div><div class='sc-section-details'><ul class='sc-var-list'><li class='sc-var-item'><div class='sc-var-name'><span>position</span></div><div class='sc-var-dims'>(spectrum)</div><div class='sc-var-dtype'>vector_3_float64</div><div class='sc-var-unit'>m</div><div class='sc-value-preview sc-preview'><span><div>[ -0.8536468   -0.3        157.42313904], [ -0.84954754  -0.3        157.42079039], ..., [ -0.33714046   0.3        157.12720961], [ -0.3330412    0.3        157.12486096]</div></span></div><input id='attrs-10424863-3a1a-46ff-a7f5-f07bb6ad3483' class='sc-var-attrs-in' type='checkbox' disabled><label for='attrs-10424863-3a1a-46ff-a7f5-f07bb6ad3483' class='sc-hide-icon' title='Show/Hide attributes'><svg class='icon sc-icon-file-text2'><use xlink:href='#icon-file-text2'></use></svg></label><input id='data-da2fb6f4-ea51-4cb8-b488-b0e2ee8c0640' class='sc-var-data-in' type='checkbox'><label for='data-da2fb6f4-ea51-4cb8-b488-b0e2ee8c0640' title='Show/Hide data repr'><svg class='icon sc-icon-database'><use xlink:href='#icon-database'></use></svg></label><pre class='sc-var-data'>Values:<br>array([[ -0.8536468 ,  -0.3       , 157.42313904],\n",
       "       [ -0.84954754,  -0.3       , 157.42079039],\n",
       "       [ -0.84544829,  -0.3       , 157.41844174],\n",
       "       ...,\n",
       "       [ -0.34123971,   0.3       , 157.12955826],\n",
       "       [ -0.33714046,   0.3       , 157.12720961],\n",
       "       [ -0.3330412 ,   0.3       , 157.12486096]])</pre></span></li><li class='sc-var-item'><div class='sc-var-name'><span>sample_position</span></div><div class='sc-var-dims'>()</div><div class='sc-var-dtype'>vector_3_float64</div><div class='sc-var-unit'>m</div><div class='sc-value-preview sc-preview'><span><div>[ -0.69277   0.      157.1    ]</div></span></div><input id='attrs-339ac0c7-dc85-4a1d-beee-4a380c1c5134' class='sc-var-attrs-in' type='checkbox' disabled><label for='attrs-339ac0c7-dc85-4a1d-beee-4a380c1c5134' class='sc-hide-icon' title='Show/Hide attributes'><svg class='icon sc-icon-file-text2'><use xlink:href='#icon-file-text2'></use></svg></label><input id='data-792e1a9a-dd0a-48d6-8845-adfe0233cc2a' class='sc-var-data-in' type='checkbox'><label for='data-792e1a9a-dd0a-48d6-8845-adfe0233cc2a' title='Show/Hide data repr'><svg class='icon sc-icon-database'><use xlink:href='#icon-database'></use></svg></label><pre class='sc-var-data'>Values:<br>array([ -0.69277,   0.     , 157.1    ])</pre></span></li><li class='sc-var-item'><div class='sc-var-name'><span>source_position</span></div><div class='sc-var-dims'>()</div><div class='sc-var-dtype'>vector_3_float64</div><div class='sc-var-unit'>m</div><div class='sc-value-preview sc-preview'><span><div>[0. 0. 0.]</div></span></div><input id='attrs-8bf1d4ed-1def-4e85-a8ec-9dae6acb363d' class='sc-var-attrs-in' type='checkbox' disabled><label for='attrs-8bf1d4ed-1def-4e85-a8ec-9dae6acb363d' class='sc-hide-icon' title='Show/Hide attributes'><svg class='icon sc-icon-file-text2'><use xlink:href='#icon-file-text2'></use></svg></label><input id='data-67ef1eec-dd1b-49ca-9812-44a774a9b90a' class='sc-var-data-in' type='checkbox'><label for='data-67ef1eec-dd1b-49ca-9812-44a774a9b90a' title='Show/Hide data repr'><svg class='icon sc-icon-database'><use xlink:href='#icon-database'></use></svg></label><pre class='sc-var-data'>Values:<br>array([0., 0., 0.])</pre></span></li><li class='sc-var-item'><div class='sc-var-name'><span class='sc-has-index'>spectrum</span></div><div class='sc-var-dims'>(spectrum)</div><div class='sc-var-dtype'>int64</div><div class='sc-var-unit'></div><div class='sc-value-preview sc-preview'><span><div>1, 2, ..., 16383, 16384</div></span></div><input id='attrs-1d4c2bbc-439f-4ee5-8238-42e83685eff8' class='sc-var-attrs-in' type='checkbox' disabled><label for='attrs-1d4c2bbc-439f-4ee5-8238-42e83685eff8' class='sc-hide-icon' title='Show/Hide attributes'><svg class='icon sc-icon-file-text2'><use xlink:href='#icon-file-text2'></use></svg></label><input id='data-a1d770a6-4223-40f0-bf50-9d184c6bbec1' class='sc-var-data-in' type='checkbox'><label for='data-a1d770a6-4223-40f0-bf50-9d184c6bbec1' title='Show/Hide data repr'><svg class='icon sc-icon-database'><use xlink:href='#icon-database'></use></svg></label><pre class='sc-var-data'>Values:<br>array([    1,     2,     3, ..., 16382, 16383, 16384])</pre></span></li><li class='sc-var-item'><div class='sc-var-name'><span class='sc-has-index'>tof</span></div><div class='sc-var-dims'>(tof [bin-edge])</div><div class='sc-var-dtype'>float64</div><div class='sc-var-unit'>µs</div><div class='sc-value-preview sc-preview'><span><div>71966.01, 100001.0</div></span></div><input id='attrs-5be93dbc-4501-4872-a9c5-09f220413d79' class='sc-var-attrs-in' type='checkbox' disabled><label for='attrs-5be93dbc-4501-4872-a9c5-09f220413d79' class='sc-hide-icon' title='Show/Hide attributes'><svg class='icon sc-icon-file-text2'><use xlink:href='#icon-file-text2'></use></svg></label><input id='data-12c0b341-112d-4a48-970c-feceb416cf63' class='sc-var-data-in' type='checkbox'><label for='data-12c0b341-112d-4a48-970c-feceb416cf63' title='Show/Hide data repr'><svg class='icon sc-icon-database'><use xlink:href='#icon-database'></use></svg></label><pre class='sc-var-data'>Values:<br>array([ 71966.00724552, 100000.99522045])</pre></span></li></ul></div></li><li class='sc-section-item'><input id='section-870f2f7e-75de-4915-aba2-7646be44c03f' class='sc-section-summary-in' type='checkbox'  checked><label for='section-870f2f7e-75de-4915-aba2-7646be44c03f' class='sc-section-summary' >Data: <span>(1)</span></label><div class='sc-section-inline-details'></div><div class='sc-section-details'><ul class='sc-var-list'><li class='sc-var-item'><div class='sc-var-name'><span></span></div><div class='sc-var-dims'>(spectrum, tof)</div><div class='sc-var-dtype'>DataArrayView</div><div class='sc-var-unit'></div><div class='sc-value-preview sc-preview'><span><div>binned data [len=0, len=0, ..., len=0, len=0]</div></span></div><input id='attrs-5aa7529e-8d7d-46b6-8e9a-20851c5eac05' class='sc-var-attrs-in' type='checkbox' disabled><label for='attrs-5aa7529e-8d7d-46b6-8e9a-20851c5eac05' class='sc-hide-icon' title='Show/Hide attributes'><svg class='icon sc-icon-file-text2'><use xlink:href='#icon-file-text2'></use></svg></label><input id='data-0fac4bb5-1c31-41ba-b5ff-ce01cad5da55' class='sc-var-data-in' type='checkbox'><label for='data-0fac4bb5-1c31-41ba-b5ff-ce01cad5da55' title='Show/Hide data repr'><svg class='icon sc-icon-database'><use xlink:href='#icon-database'></use></svg></label><pre class='sc-var-data'>Values:<br>[&lt;scipp.DataArray&gt;\n",
       "Dimensions: Sizes[event:0, ]\n",
       "Coordinates:\n",
       "  pulse_time              datetime64             [ns]  (event)  []\n",
       "  tof                       float64            [µs]  (event)  []\n",
       "Data:\n",
       "                            float32         [counts]  (event)  []  []\n",
       "\n",
       ", &lt;scipp.DataArray&gt;\n",
       "Dimensions: Sizes[event:0, ]\n",
       "Coordinates:\n",
       "  pulse_time              datetime64             [ns]  (event)  []\n",
       "  tof                       float64            [µs]  (event)  []\n",
       "Data:\n",
       "                            float32         [counts]  (event)  []  []\n",
       "\n",
       ", ..., &lt;scipp.DataArray&gt;\n",
       "Dimensions: Sizes[event:0, ]\n",
       "Coordinates:\n",
       "  pulse_time              datetime64             [ns]  (event)  []\n",
       "  tof                       float64            [µs]  (event)  []\n",
       "Data:\n",
       "                            float32         [counts]  (event)  []  []\n",
       "\n",
       ", &lt;scipp.DataArray&gt;\n",
       "Dimensions: Sizes[event:0, ]\n",
       "Coordinates:\n",
       "  pulse_time              datetime64             [ns]  (event)  []\n",
       "  tof                       float64            [µs]  (event)  []\n",
       "Data:\n",
       "                            float32         [counts]  (event)  []  []\n",
       "\n",
       "]</pre></li></ul></div></li><li class='sc-section-item'><input id='section-ce4c59eb-0f24-4b8b-8be7-698c5b8e8ec3' class='sc-section-summary-in' type='checkbox'  checked><label for='section-ce4c59eb-0f24-4b8b-8be7-698c5b8e8ec3' class='sc-section-summary' >Attributes: <span>(1)</span></label><div class='sc-section-inline-details'></div><div class='sc-section-details'><ul class='sc-var-list'><li class='sc-var-item'><div class='sc-var-name'><span>instrument_name</span></div><div class='sc-var-dims'>()</div><div class='sc-var-dtype'>string</div><div class='sc-var-unit'></div><div class='sc-value-preview sc-preview'><span><div>McStas</div></span></div><input id='attrs-ee66d500-f72e-4c89-8522-157fca2b5307' class='sc-var-attrs-in' type='checkbox' disabled><label for='attrs-ee66d500-f72e-4c89-8522-157fca2b5307' class='sc-hide-icon' title='Show/Hide attributes'><svg class='icon sc-icon-file-text2'><use xlink:href='#icon-file-text2'></use></svg></label><input id='data-d8294b39-64fc-4f0b-8b23-44b8e81b221c' class='sc-var-data-in' type='checkbox'><label for='data-d8294b39-64fc-4f0b-8b23-44b8e81b221c' title='Show/Hide data repr'><svg class='icon sc-icon-database'><use xlink:href='#icon-database'></use></svg></label><pre class='sc-var-data'>Values:<br>&#x27;McStas&#x27;</pre></li></ul></div></li></ul></div></div>"
      ],
      "text/plain": [
       "<scipp.DataArray>\n",
       "Dimensions: Sizes[spectrum:16384, tof:1, ]\n",
       "Coordinates:\n",
       "  position                vector_3_float64              [m]  (spectrum)  [(-0.853647, -0.300000, 157.423139), (-0.849548, -0.300000, 157.420790), ..., (-0.337140, 0.300000, 157.127210), (-0.333041, 0.300000, 157.124861)]\n",
       "  sample_position         vector_3_float64              [m]  ()  [(-0.692770, 0.000000, 157.100000)]\n",
       "  source_position         vector_3_float64              [m]  ()  [(0.000000, 0.000000, 0.000000)]\n",
       "  spectrum                    int64  [dimensionless]  (spectrum)  [1, 2, ..., 16383, 16384]\n",
       "  tof                       float64            [µs]  (tof [bin-edge])  [71966.007246, 100000.995220]\n",
       "Data:\n",
       "                          DataArrayView  [dimensionless]  (spectrum, tof)  [<scipp.DataArray>\n",
       "Dimensions: Sizes[event:0, ]\n",
       "Coordinates:\n",
       "  pulse_time              datetime64             [ns]  (event)  []\n",
       "  tof                       float64            [µs]  (event)  []\n",
       "Data:\n",
       "                            float32         [counts]  (event)  []  []\n",
       "\n",
       ", <scipp.DataArray>\n",
       "Dimensions: Sizes[event:0, ]\n",
       "Coordinates:\n",
       "  pulse_time              datetime64             [ns]  (event)  []\n",
       "  tof                       float64            [µs]  (event)  []\n",
       "Data:\n",
       "                            float32         [counts]  (event)  []  []\n",
       "\n",
       ", ..., <scipp.DataArray>\n",
       "Dimensions: Sizes[event:0, ]\n",
       "Coordinates:\n",
       "  pulse_time              datetime64             [ns]  (event)  []\n",
       "  tof                       float64            [µs]  (event)  []\n",
       "Data:\n",
       "                            float32         [counts]  (event)  []  []\n",
       "\n",
       ", <scipp.DataArray>\n",
       "Dimensions: Sizes[event:0, ]\n",
       "Coordinates:\n",
       "  pulse_time              datetime64             [ns]  (event)  []\n",
       "  tof                       float64            [µs]  (event)  []\n",
       "Data:\n",
       "                            float32         [counts]  (event)  []  []\n",
       "\n",
       "]\n",
       "Attributes:\n",
       "  instrument_name            string  [dimensionless]  ()  [\"McStas\"]\n"
      ]
     },
     "execution_count": 4,
     "metadata": {},
     "output_type": "execute_result"
    }
   ],
   "source": [
    "data"
   ]
  },
  {
   "cell_type": "code",
   "execution_count": 5,
   "id": "b486716a-c0b1-45ce-a472-67007261a163",
   "metadata": {},
   "outputs": [
    {
     "data": {
      "text/html": [
       "<div><!-- Original source from -->\n",
       "<!-- https://github.com/jsignell/xarray/blob/1d960933ab252e0f79f7e050e6c9261d55568057/xarray/static/html/icons-svg-inline.html -->\n",
       "<svg style=\"position: absolute; width: 0; height: 0; overflow: hidden\">\n",
       "<defs>\n",
       "<symbol id=\"icon-database\" viewBox=\"0 0 32 32\">\n",
       "<title>Show/Hide data repr</title>\n",
       "<path d=\"M16 0c-8.837 0-16 2.239-16 5v4c0 2.761 7.163 5 16 5s16-2.239 16-5v-4c0-2.761-7.163-5-16-5z\"></path>\n",
       "<path d=\"M16 17c-8.837 0-16-2.239-16-5v6c0 2.761 7.163 5 16 5s16-2.239 16-5v-6c0 2.761-7.163 5-16 5z\"></path>\n",
       "<path d=\"M16 26c-8.837 0-16-2.239-16-5v6c0 2.761 7.163 5 16 5s16-2.239 16-5v-6c0 2.761-7.163 5-16 5z\"></path>\n",
       "</symbol>\n",
       "<symbol id=\"icon-file-text2\" viewBox=\"0 0 32 32\">\n",
       "<title>Show/Hide attributes</title>\n",
       "<path d=\"M28.681 7.159c-0.694-0.947-1.662-2.053-2.724-3.116s-2.169-2.030-3.116-2.724c-1.612-1.182-2.393-1.319-2.841-1.319h-15.5c-1.378 0-2.5 1.121-2.5 2.5v27c0 1.378 1.122 2.5 2.5 2.5h23c1.378 0 2.5-1.122 2.5-2.5v-19.5c0-0.448-0.137-1.23-1.319-2.841zM24.543 5.457c0.959 0.959 1.712 1.825 2.268 2.543h-4.811v-4.811c0.718 0.556 1.584 1.309 2.543 2.268zM28 29.5c0 0.271-0.229 0.5-0.5 0.5h-23c-0.271 0-0.5-0.229-0.5-0.5v-27c0-0.271 0.229-0.5 0.5-0.5 0 0 15.499-0 15.5 0v7c0 0.552 0.448 1 1 1h7v19.5z\"></path>\n",
       "<path d=\"M23 26h-14c-0.552 0-1-0.448-1-1s0.448-1 1-1h14c0.552 0 1 0.448 1 1s-0.448 1-1 1z\"></path>\n",
       "<path d=\"M23 22h-14c-0.552 0-1-0.448-1-1s0.448-1 1-1h14c0.552 0 1 0.448 1 1s-0.448 1-1 1z\"></path>\n",
       "<path d=\"M23 18h-14c-0.552 0-1-0.448-1-1s0.448-1 1-1h14c0.552 0 1 0.448 1 1s-0.448 1-1 1z\"></path>\n",
       "</symbol>\n",
       "</defs>\n",
       "</svg><div class='sc-wrap'><div class='sc-header'><div class='sc-obj-type'>scipp.DataArray (2.27 MB)</div></div><ul class='sc-sections'><li class='sc-section-item'><input id='section-badf1522-562b-426d-8e67-5d51f3465646' class='sc-section-summary-in' type='checkbox' disabled ><label for='section-badf1522-562b-426d-8e67-5d51f3465646' class='sc-section-summary'  title='Expand/collapse section'>Dimensions:</label><div class='sc-section-inline-details'><ul class='sc-dim-list'><li><span>event</span>: 98975</li></ul></div><div class='sc-section-details'></div></li><li class='sc-section-item'><input id='section-81ddc623-58fd-4c89-8d30-cf39a1249cc9' class='sc-section-summary-in' type='checkbox'  checked><label for='section-81ddc623-58fd-4c89-8d30-cf39a1249cc9' class='sc-section-summary' >Coordinates: <span>(2)</span></label><div class='sc-section-inline-details'></div><div class='sc-section-details'><ul class='sc-var-list'><li class='sc-var-item'><div class='sc-var-name'><span>spectrum</span></div><div class='sc-var-dims'>(event)</div><div class='sc-var-dtype'>int64</div><div class='sc-var-unit'></div><div class='sc-value-preview sc-preview'><span><div>39, 39, ..., 16372, 16372</div></span></div><input id='attrs-a68c19c8-de91-4bf5-9c38-8b3f03cf12a2' class='sc-var-attrs-in' type='checkbox' disabled><label for='attrs-a68c19c8-de91-4bf5-9c38-8b3f03cf12a2' class='sc-hide-icon' title='Show/Hide attributes'><svg class='icon sc-icon-file-text2'><use xlink:href='#icon-file-text2'></use></svg></label><input id='data-6b0e53cb-ac8c-4867-b653-dfcf2f38846e' class='sc-var-data-in' type='checkbox'><label for='data-6b0e53cb-ac8c-4867-b653-dfcf2f38846e' title='Show/Hide data repr'><svg class='icon sc-icon-database'><use xlink:href='#icon-database'></use></svg></label><pre class='sc-var-data'>Values:<br>array([   39,    39,    39, ..., 16371, 16372, 16372])</pre></span></li><li class='sc-var-item'><div class='sc-var-name'><span>tof</span></div><div class='sc-var-dims'>(event)</div><div class='sc-var-dtype'>float64</div><div class='sc-var-unit'>µs</div><div class='sc-value-preview sc-preview'><span><div>73267.46, 79329.85, ..., 99067.05, 99507.2</div></span></div><input id='attrs-d6fcba3d-d9b7-4fde-a47e-7a9861ba2872' class='sc-var-attrs-in' type='checkbox' disabled><label for='attrs-d6fcba3d-d9b7-4fde-a47e-7a9861ba2872' class='sc-hide-icon' title='Show/Hide attributes'><svg class='icon sc-icon-file-text2'><use xlink:href='#icon-file-text2'></use></svg></label><input id='data-308ea916-be70-4296-86cb-ff6b76af423d' class='sc-var-data-in' type='checkbox'><label for='data-308ea916-be70-4296-86cb-ff6b76af423d' title='Show/Hide data repr'><svg class='icon sc-icon-database'><use xlink:href='#icon-database'></use></svg></label><pre class='sc-var-data'>Values:<br>array([73267.45973981, 79329.84806089, 74663.73343373, ...,\n",
       "       98679.78887446, 99067.04678991, 99507.19641786])</pre></span></li></ul></div></li><li class='sc-section-item'><input id='section-12f57f82-3a0b-4d1d-b765-8e533664ff08' class='sc-section-summary-in' type='checkbox'  checked><label for='section-12f57f82-3a0b-4d1d-b765-8e533664ff08' class='sc-section-summary' >Data: <span>(1)</span></label><div class='sc-section-inline-details'></div><div class='sc-section-details'><ul class='sc-var-list'><li class='sc-var-item'><div class='sc-var-name'><span></span></div><div class='sc-var-dims'>(event)</div><div class='sc-var-dtype'>float32</div><div class='sc-var-unit'>counts</div><div class='sc-value-preview sc-preview'><span><div>1.0, 1.0, ..., 1.0, 1.0</div></span><span><div>σ² = 1.0, 1.0, ..., 1.0, 1.0</div></span></div><input id='attrs-89cb5b7c-2eef-464a-8c03-7f5202b1c68d' class='sc-var-attrs-in' type='checkbox' disabled><label for='attrs-89cb5b7c-2eef-464a-8c03-7f5202b1c68d' class='sc-hide-icon' title='Show/Hide attributes'><svg class='icon sc-icon-file-text2'><use xlink:href='#icon-file-text2'></use></svg></label><input id='data-3963b737-4b8f-4b39-9999-09efd2eaecd7' class='sc-var-data-in' type='checkbox'><label for='data-3963b737-4b8f-4b39-9999-09efd2eaecd7' title='Show/Hide data repr'><svg class='icon sc-icon-database'><use xlink:href='#icon-database'></use></svg></label><pre class='sc-var-data'>Values:<br>array([1., 1., 1., ..., 1., 1., 1.], dtype=float32)<br><br>Variances:<br>                       <div>array([1., 1., 1., ..., 1., 1., 1.], dtype=float32)</div></pre></li></ul></div></li></ul></div></div>"
      ],
      "text/plain": [
       "<scipp.DataArray>\n",
       "Dimensions: Sizes[event:98975, ]\n",
       "Coordinates:\n",
       "  spectrum                    int64  [dimensionless]  (event)  [39, 39, ..., 16372, 16372]\n",
       "  tof                       float64            [µs]  (event)  [73267.459740, 79329.848061, ..., 99067.046790, 99507.196418]\n",
       "Data:\n",
       "                            float32         [counts]  (event)  [1.000000, 1.000000, ..., 1.000000, 1.000000]  [1.000000, 1.000000, ..., 1.000000, 1.000000]\n"
      ]
     },
     "execution_count": 5,
     "metadata": {},
     "output_type": "execute_result"
    }
   ],
   "source": [
    "# Extract events and apply spectrum coord event-wise\n",
    "\n",
    "spectrum = np.repeat(data.coords['spectrum'].values, data.bins.size().data.values.flatten())\n",
    "assert len(spectrum) == len(data.events)  # In case not all events are contained in bins.\n",
    "events = data.events.copy()\n",
    "del events.coords['pulse_time']\n",
    "events.coords['spectrum'] = sc.array(dims=['event'], values=spectrum, dtype='int64')\n",
    "events"
   ]
  },
  {
   "cell_type": "code",
   "execution_count": 6,
   "id": "f5c577f2-260a-4a7c-9cec-dded6d6b0c6a",
   "metadata": {},
   "outputs": [],
   "source": [
    "# Functions to randomly shuffle 1D DataArrays and Variables\n",
    "\n",
    "def shuffled_vector(var, indices):\n",
    "    if len(var.shape) == 0:\n",
    "        values = var.values\n",
    "    else:\n",
    "        values = var.values[indices, :]\n",
    "    assert var.variances is None\n",
    "    return sc.vectors(dims=var.dims, values=values, unit=var.unit)\n",
    "    \n",
    "def shuffled_variable(var, indices):\n",
    "    if var.values.ndim > len(var.shape):\n",
    "        return shuffled_vector(var, indices)\n",
    "    values = var.values[indices]\n",
    "    variances = None if var.variances is None else var.variances[indices]\n",
    "    return sc.array(dims=var.dims, values=values, variances=variances, unit=var.unit)\n",
    "    \n",
    "def shuffled(da):\n",
    "    indices = rng.permutation(len(da))\n",
    "    out = sc.DataArray(shuffled_variable(da.data, indices),\n",
    "                       coords={key: shuffled_variable(coord, indices) for key, coord in da.coords.items()},\n",
    "                       masks={key: shuffled_variable(mask, indices) for key, mask in da.masks.items()},\n",
    "                       attrs={key: shuffled_variable(attr, indices) for key, attr in da.attrs.items()})\n",
    "    return out"
   ]
  },
  {
   "cell_type": "code",
   "execution_count": 7,
   "id": "38ca3a83-6d4b-474a-992d-949fe642736f",
   "metadata": {},
   "outputs": [],
   "source": [
    "# Apply the same binning to a DataArray of events as the original loaded data\n",
    "def bin_like_original(da, original):\n",
    "    out = sc.bin(da, edges=[original.coords['tof']], groups=[original.coords['spectrum']])\n",
    "    out.coords['position'] = original.coords['position']\n",
    "    out.coords['sample_position'] = original.coords['sample_position']\n",
    "    out.coords['source_position'] = original.coords['source_position']\n",
    "    return out"
   ]
  },
  {
   "cell_type": "code",
   "execution_count": 8,
   "id": "3494db07-fba5-4202-840b-083da667add3",
   "metadata": {},
   "outputs": [],
   "source": [
    "wavelength_min = 1.7\n",
    "wavelength_max = 2.6\n",
    "wavelength_step = 0.01"
   ]
  },
  {
   "cell_type": "code",
   "execution_count": 9,
   "id": "40e0e751-d4ea-4d54-a600-d71643aa3122",
   "metadata": {},
   "outputs": [
    {
     "name": "stdout",
     "output_type": "stream",
     "text": [
      "INFO:scippneutron:Ltotal coord or attr not found, trying to compute from L1 and L2\n",
      "INFO:scippneutron:L2 coord or attr not found, trying to compute from scattered_beam\n",
      "INFO:scippneutron:scattered_beam coord or attr not found, trying to compute from sample_position and position\n",
      "INFO:scippneutron:sample_position coord or attr found, using directly\n",
      "INFO:scippneutron:position coord or attr found, using directly\n",
      "INFO:scippneutron:L1 coord or attr not found, trying to compute from incident_beam\n",
      "INFO:scippneutron:incident_beam coord or attr not found, trying to compute from source_position and sample_position\n",
      "INFO:scippneutron:source_position coord or attr found, using directly\n",
      "INFO:scippneutron:sample_position coord or attr found, using directly\n",
      "INFO:scippneutron:Ltotal coord or attr not found, trying to compute from L1 and L2\n",
      "INFO:scippneutron:L2 coord or attr not found, trying to compute from scattered_beam\n",
      "INFO:scippneutron:scattered_beam coord or attr not found, trying to compute from sample_position and position\n",
      "INFO:scippneutron:sample_position coord or attr found, using directly\n",
      "INFO:scippneutron:position coord or attr found, using directly\n",
      "INFO:scippneutron:L1 coord or attr not found, trying to compute from incident_beam\n",
      "INFO:scippneutron:incident_beam coord or attr not found, trying to compute from source_position and sample_position\n",
      "INFO:scippneutron:source_position coord or attr found, using directly\n",
      "INFO:scippneutron:sample_position coord or attr found, using directly\n",
      "INFO:scippneutron:Ltotal coord or attr not found, trying to compute from L1 and L2\n",
      "INFO:scippneutron:L2 coord or attr not found, trying to compute from scattered_beam\n",
      "INFO:scippneutron:scattered_beam coord or attr not found, trying to compute from sample_position and position\n",
      "INFO:scippneutron:sample_position coord or attr found, using directly\n",
      "INFO:scippneutron:position coord or attr found, using directly\n",
      "INFO:scippneutron:L1 coord or attr not found, trying to compute from incident_beam\n",
      "INFO:scippneutron:incident_beam coord or attr not found, trying to compute from source_position and sample_position\n",
      "INFO:scippneutron:source_position coord or attr found, using directly\n",
      "INFO:scippneutron:sample_position coord or attr found, using directly\n",
      "INFO:scippneutron:Ltotal coord or attr not found, trying to compute from L1 and L2\n",
      "INFO:scippneutron:L2 coord or attr not found, trying to compute from scattered_beam\n",
      "INFO:scippneutron:scattered_beam coord or attr not found, trying to compute from sample_position and position\n",
      "INFO:scippneutron:sample_position coord or attr found, using directly\n",
      "INFO:scippneutron:position coord or attr found, using directly\n",
      "INFO:scippneutron:L1 coord or attr not found, trying to compute from incident_beam\n",
      "INFO:scippneutron:incident_beam coord or attr not found, trying to compute from source_position and sample_position\n",
      "INFO:scippneutron:source_position coord or attr found, using directly\n",
      "INFO:scippneutron:sample_position coord or attr found, using directly\n",
      "INFO:scippneutron:Ltotal coord or attr not found, trying to compute from L1 and L2\n",
      "INFO:scippneutron:L2 coord or attr not found, trying to compute from scattered_beam\n",
      "INFO:scippneutron:scattered_beam coord or attr not found, trying to compute from sample_position and position\n",
      "INFO:scippneutron:sample_position coord or attr found, using directly\n",
      "INFO:scippneutron:position coord or attr found, using directly\n",
      "INFO:scippneutron:L1 coord or attr not found, trying to compute from incident_beam\n",
      "INFO:scippneutron:incident_beam coord or attr not found, trying to compute from source_position and sample_position\n",
      "INFO:scippneutron:source_position coord or attr found, using directly\n",
      "INFO:scippneutron:sample_position coord or attr found, using directly\n",
      "INFO:scippneutron:Ltotal coord or attr not found, trying to compute from L1 and L2\n",
      "INFO:scippneutron:L2 coord or attr not found, trying to compute from scattered_beam\n",
      "INFO:scippneutron:scattered_beam coord or attr not found, trying to compute from sample_position and position\n",
      "INFO:scippneutron:sample_position coord or attr found, using directly\n",
      "INFO"
     ]
    }
   ],
   "source": [
    "distributions = dict()\n",
    "sample = shuffled(events) \n",
    "for n in range(10000, events.shape[0], 10000):\n",
    "    x = sample['event', :n]\n",
    "    x = bin_like_original(x, data)\n",
    "    x = scn.convert(x, 'tof', 'wavelength', scatter=True)\n",
    "    \n",
    "    edges = sc.arange('wavelength', wavelength_min, wavelength_max, wavelength_step, unit=sc.units.angstrom)\n",
    "    # Compute normalised histogram.\n",
    "    hist = sc.histogram(x, edges)\n",
    "    hist = hist / sc.sum(hist.data * (edges['wavelength', 1:] - edges['wavelength', :-1]))\n",
    "    distributions[str(n)] = sc.sum(hist, 'spectrum')"
   ]
  },
  {
   "cell_type": "code",
   "execution_count": 10,
   "id": "1d62caaa-7259-46a1-9ffb-4b942b895a7c",
   "metadata": {},
   "outputs": [
    {
     "data": {
      "application/vnd.jupyter.widget-view+json": {
       "model_id": "6da8d4a1b2a04bfca07930ce57a8a49e",
       "version_major": 2,
       "version_minor": 0
      },
      "text/plain": [
       "VBox(children=(HBox(children=(VBox(children=(Button(icon='home', layout=Layout(padding='0px 0px 0px 0px', widt…"
      ]
     },
     "metadata": {},
     "output_type": "display_data"
    }
   ],
   "source": [
    "sc.plot(distributions)"
   ]
  },
  {
   "cell_type": "code",
   "execution_count": null,
   "id": "71e1babd-2ada-4e37-b802-24f11a2c56e9",
   "metadata": {},
   "outputs": [],
   "source": []
  }
 ],
 "metadata": {
  "kernelspec": {
   "display_name": "Python 3 (ipykernel)",
   "language": "python",
   "name": "python3"
  },
  "language_info": {
   "codemirror_mode": {
    "name": "ipython",
    "version": 3
   },
   "file_extension": ".py",
   "mimetype": "text/x-python",
   "name": "python",
   "nbconvert_exporter": "python",
   "pygments_lexer": "ipython3",
   "version": "3.8.10"
  }
 },
 "nbformat": 4,
 "nbformat_minor": 5
}
