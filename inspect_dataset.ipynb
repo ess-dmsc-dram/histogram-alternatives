{
 "cells": [
  {
   "cell_type": "code",
   "execution_count": null,
   "id": "03b9108a-4892-4485-bf0d-6ce745aaaf13",
   "metadata": {},
   "outputs": [],
   "source": [
    "import numpy as np\n",
    "import scipp as sc\n",
    "import scippneutron as scn\n",
    "\n",
    "from halt.io import cached_load"
   ]
  },
  {
   "cell_type": "code",
   "execution_count": null,
   "id": "7b2670bf-0301-4c32-b170-df557d0d111a",
   "metadata": {},
   "outputs": [],
   "source": [
    "# Data files from ownCloud\n",
    "data = cached_load('data/C60_n1e8.h5', 'EventData')\n",
    "data"
   ]
  },
  {
   "cell_type": "markdown",
   "id": "f1c6deb5-83d4-4963-9d20-0bdcb3651446",
   "metadata": {},
   "source": [
    "data['tof', 0].bins.sum().plot(marker='.')"
   ]
  },
  {
   "cell_type": "markdown",
   "id": "75c49020-6cdd-4f44-b341-cb0c0f7f8d7b",
   "metadata": {},
   "source": [
    "scn.instrument_view(data)"
   ]
  },
  {
   "cell_type": "code",
   "execution_count": null,
   "id": "7a2b979a-c588-4fbf-aa05-75bb692e0e80",
   "metadata": {},
   "outputs": [],
   "source": [
    "dspacing = scn.convert(data, origin='tof', target='dspacing', scatter=True)\n",
    "dspacing"
   ]
  },
  {
   "cell_type": "code",
   "execution_count": null,
   "id": "017236b8-2025-441c-9beb-5ff0d3990878",
   "metadata": {},
   "outputs": [],
   "source": [
    "dhist = sc.histogram(dspacing, sc.arange('dspacing', 0, 5, 0.01, unit=dspacing.coords['dspacing'].unit))\n",
    "dhist"
   ]
  },
  {
   "cell_type": "code",
   "execution_count": null,
   "id": "3817004d-7591-4fd4-b174-aae1895be5f4",
   "metadata": {},
   "outputs": [],
   "source": [
    "sc.sum(dhist, 'spectrum').plot()"
   ]
  },
  {
   "cell_type": "code",
   "execution_count": null,
   "id": "db09192c-81e4-4db2-87f6-85f0856a2360",
   "metadata": {},
   "outputs": [],
   "source": [
    "wavelength = scn.convert(data, origin='tof', target='wavelength', scatter=True)\n",
    "wavelength"
   ]
  },
  {
   "cell_type": "code",
   "execution_count": null,
   "id": "22134504-79be-4784-9d0f-e025c5f94ac1",
   "metadata": {},
   "outputs": [],
   "source": [
    "wavelength.plot()"
   ]
  },
  {
   "cell_type": "code",
   "execution_count": null,
   "id": "6e24e641-f1a3-437a-b8a4-c256bb6ad00a",
   "metadata": {},
   "outputs": [],
   "source": [
    "whist = sc.histogram(wavelength, sc.arange('wavelength', 1.7, 2.6, 0.01, unit=sc.units.angstrom))\n",
    "whist"
   ]
  },
  {
   "cell_type": "code",
   "execution_count": null,
   "id": "89017b16-1fe7-420a-a284-eb55326de075",
   "metadata": {},
   "outputs": [],
   "source": [
    "sc.sum(whist, 'spectrum').plot()"
   ]
  },
  {
   "cell_type": "code",
   "execution_count": null,
   "id": "1602df1c-d56f-4c14-99c2-720d8c5c5f98",
   "metadata": {},
   "outputs": [],
   "source": []
  }
 ],
 "metadata": {
  "kernelspec": {
   "display_name": "Python 3 (ipykernel)",
   "language": "python",
   "name": "python3"
  },
  "language_info": {
   "codemirror_mode": {
    "name": "ipython",
    "version": 3
   },
   "file_extension": ".py",
   "mimetype": "text/x-python",
   "name": "python",
   "nbconvert_exporter": "python",
   "pygments_lexer": "ipython3",
   "version": "3.8.10"
  }
 },
 "nbformat": 4,
 "nbformat_minor": 5
}
