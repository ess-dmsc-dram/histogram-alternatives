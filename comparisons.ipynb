{
 "cells": [
  {
   "cell_type": "code",
   "execution_count": null,
   "id": "c26a4060-520e-4f27-9309-2562a3ecb2fc",
   "metadata": {},
   "outputs": [],
   "source": [
    "import matplotlib.pyplot as plt\n",
    "import numpy as np\n",
    "from scipy import stats\n",
    "\n",
    "from halt.stats import moments\n",
    "%matplotlib widget"
   ]
  },
  {
   "cell_type": "code",
   "execution_count": null,
   "id": "14784246-8f33-4785-963e-9a495d27e356",
   "metadata": {},
   "outputs": [],
   "source": [
    "rng = np.random.default_rng(94105)"
   ]
  },
  {
   "cell_type": "code",
   "execution_count": null,
   "id": "9248ff2b-bc80-41ac-b8fc-70139a1a4a1f",
   "metadata": {},
   "outputs": [],
   "source": [
    "N1 = 10000\n",
    "N2 = 10000"
   ]
  },
  {
   "cell_type": "code",
   "execution_count": null,
   "id": "39befb66-fcfe-4c64-8b2e-39ccf997f6d6",
   "metadata": {},
   "outputs": [],
   "source": [
    "def chisq(a, b, ndof=None):\n",
    "    return np.sum((a - b)**2) / (ndof if ndof is not None else len(a))"
   ]
  },
  {
   "cell_type": "code",
   "execution_count": null,
   "id": "22865b59-f24e-44ad-9fc4-ce17e25ed12c",
   "metadata": {},
   "outputs": [],
   "source": [
    "def jensen_shannon_divergence(a, b):\n",
    "    m = (a + b) / 2\n",
    "    return (stats.entropy(a, m) + stats.entropy(b, m)) / 2"
   ]
  },
  {
   "cell_type": "code",
   "execution_count": null,
   "id": "f6165fcd-1660-4aaa-b5f6-5207b011d5d1",
   "metadata": {},
   "outputs": [],
   "source": [
    "def jeffreys_distance(a, b):\n",
    "    return np.sum((np.sqrt(a) - np.sqrt(b))**2)"
   ]
  },
  {
   "cell_type": "code",
   "execution_count": null,
   "id": "949fb44d-c5f0-4e20-a1d1-396669c6be17",
   "metadata": {},
   "outputs": [],
   "source": [
    "def sample(distribution, n):\n",
    "    return distribution.rvs(n, random_state=rng)"
   ]
  },
  {
   "cell_type": "code",
   "execution_count": null,
   "id": "d20d5bc6-73c3-45b9-8a59-60ac5c5a7524",
   "metadata": {},
   "outputs": [],
   "source": [
    "def reldiff(a, b):\n",
    "    return (a - b) * 2 / (a + b)"
   ]
  },
  {
   "cell_type": "code",
   "execution_count": null,
   "id": "0c510618-9114-4ea3-a85d-a359cc419699",
   "metadata": {},
   "outputs": [],
   "source": [
    "def compare(x, a, b, *, out=None):\n",
    "    if out is None:\n",
    "        out = dict()\n",
    "    mom_a = moments(x, a, moments.all)\n",
    "    mom_b = moments(x, b, moments.all)\n",
    "    for name in moments.all:\n",
    "        out.setdefault(name, []).append(reldiff(mom_a[name], mom_b[name]))\n",
    "    for name, fn in (('DKL', stats.entropy), ('JSD', jensen_shannon_divergence),\n",
    "                     ('J', jeffreys_distance)):\n",
    "        out.setdefault(name, []).append(fn(a, b))\n",
    "    return out"
   ]
  },
  {
   "cell_type": "code",
   "execution_count": null,
   "id": "878e6172-1f43-4804-a02b-d97a53633f56",
   "metadata": {},
   "outputs": [],
   "source": [
    "x = np.linspace(-3, 3, 20)\n",
    "delta_x = x[1] - x[0]\n",
    "bin_edges = np.r_[x - delta_x/2, x[-1] + delta_x/2]"
   ]
  },
  {
   "cell_type": "code",
   "execution_count": null,
   "id": "f8dadf94-4513-448d-b186-a22f6e63567b",
   "metadata": {},
   "outputs": [],
   "source": [
    "ref_loc = 1.0\n",
    "ref_scale = 0.4\n",
    "ref_sample = sample(stats.norm(loc=ref_loc, scale=ref_scale), N1)\n",
    "ref_dist = np.histogram(ref_sample, bins=bin_edges, density=True)[0]"
   ]
  },
  {
   "cell_type": "code",
   "execution_count": null,
   "id": "692674f3-e4a5-4756-a1ca-e01a5022bda1",
   "metadata": {},
   "outputs": [],
   "source": [
    "scales = np.linspace(0.1, 1.0, 40, endpoint=True)\n",
    "metrics = dict()\n",
    "for scale in scales:\n",
    "    dist = np.histogram(sample(stats.norm(loc=ref_loc, scale=scale), N2),\n",
    "                        bins=bin_edges, density=True)[0]\n",
    "    compare(x, ref_dist, dist, out=metrics)"
   ]
  },
  {
   "cell_type": "code",
   "execution_count": null,
   "id": "ea43e1f2-7004-4316-a5bb-ff0ba2967a2d",
   "metadata": {},
   "outputs": [],
   "source": [
    "n_plots = len(metrics)\n",
    "fig, axs = plt.subplots(nrows=min(n_plots, 4), ncols = int(np.ceil(n_plots / min(n_plots, 4))))\n",
    "xlim = (scales[0] - (scales[1]-scales[0])/10, scales[-1] + (scales[1]-scales[0])/10)\n",
    "for ax, (name, vals) in zip(axs.flat, metrics.items()):\n",
    "    ax.set_title(name)\n",
    "    ax.set_xlabel('scale')\n",
    "    ax.plot(scales, vals)    \n",
    "    ax.set_xlim(xlim)\n",
    "fig.tight_layout()"
   ]
  }
 ],
 "metadata": {
  "kernelspec": {
   "display_name": "Python 3 (ipykernel)",
   "language": "python",
   "name": "python3"
  },
  "language_info": {
   "codemirror_mode": {
    "name": "ipython",
    "version": 3
   },
   "file_extension": ".py",
   "mimetype": "text/x-python",
   "name": "python",
   "nbconvert_exporter": "python",
   "pygments_lexer": "ipython3",
   "version": "3.8.10"
  }
 },
 "nbformat": 4,
 "nbformat_minor": 5
}
